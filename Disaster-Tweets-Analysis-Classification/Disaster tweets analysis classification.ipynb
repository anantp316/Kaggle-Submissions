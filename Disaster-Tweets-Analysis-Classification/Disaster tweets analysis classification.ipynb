{
 "cells": [
  {
   "cell_type": "markdown",
   "metadata": {
    "id": "fYCFhBoL9u4Q"
   },
   "source": [
    "**No warnings**"
   ]
  },
  {
   "cell_type": "code",
   "execution_count": 1,
   "metadata": {
    "execution": {
     "iopub.execute_input": "2022-09-13T04:57:47.444434Z",
     "iopub.status.busy": "2022-09-13T04:57:47.443723Z",
     "iopub.status.idle": "2022-09-13T04:57:59.612202Z",
     "shell.execute_reply": "2022-09-13T04:57:59.610275Z",
     "shell.execute_reply.started": "2022-09-13T04:57:47.444289Z"
    },
    "id": "Z6Ryf0KO8veG",
    "outputId": "ec2c1cbe-e993-4015-a271-a9009fc5285f"
   },
   "outputs": [
    {
     "name": "stdout",
     "output_type": "stream",
     "text": [
      "Requirement already satisfied: shutup in /opt/conda/lib/python3.7/site-packages (0.2.0)\n",
      "\u001b[33mWARNING: Running pip as the 'root' user can result in broken permissions and conflicting behaviour with the system package manager. It is recommended to use a virtual environment instead: https://pip.pypa.io/warnings/venv\u001b[0m\u001b[33m\n",
      "\u001b[0m"
     ]
    }
   ],
   "source": [
    "!pip install shutup"
   ]
  },
  {
   "cell_type": "code",
   "execution_count": 2,
   "metadata": {
    "execution": {
     "iopub.execute_input": "2022-09-13T04:57:59.615462Z",
     "iopub.status.busy": "2022-09-13T04:57:59.614966Z",
     "iopub.status.idle": "2022-09-13T04:57:59.624899Z",
     "shell.execute_reply": "2022-09-13T04:57:59.623189Z",
     "shell.execute_reply.started": "2022-09-13T04:57:59.615415Z"
    },
    "id": "O0koAm9L93Tf"
   },
   "outputs": [],
   "source": [
    "import shutup; shutup.please()"
   ]
  },
  {
   "cell_type": "markdown",
   "metadata": {
    "id": "8HKiPrwn-yhI"
   },
   "source": [
    "**Kaggle API token for Google Colab**\n",
    "\n",
    "**The following steps are only for running notebook in Google Colab Environment**"
   ]
  },
  {
   "cell_type": "code",
   "execution_count": 3,
   "metadata": {
    "execution": {
     "iopub.execute_input": "2022-09-13T04:57:59.627421Z",
     "iopub.status.busy": "2022-09-13T04:57:59.627001Z",
     "iopub.status.idle": "2022-09-13T04:57:59.635806Z",
     "shell.execute_reply": "2022-09-13T04:57:59.634394Z",
     "shell.execute_reply.started": "2022-09-13T04:57:59.627385Z"
    },
    "id": "_IweXE_q-_Ui",
    "outputId": "76057133-efa4-4770-ae75-d0214e23bd0c"
   },
   "outputs": [],
   "source": [
    "#!pip install kaggle"
   ]
  },
  {
   "cell_type": "code",
   "execution_count": 4,
   "metadata": {
    "execution": {
     "iopub.execute_input": "2022-09-13T04:57:59.639147Z",
     "iopub.status.busy": "2022-09-13T04:57:59.638704Z",
     "iopub.status.idle": "2022-09-13T04:57:59.650936Z",
     "shell.execute_reply": "2022-09-13T04:57:59.649454Z",
     "shell.execute_reply.started": "2022-09-13T04:57:59.639106Z"
    },
    "id": "FM-GQojx_D3l"
   },
   "outputs": [],
   "source": [
    "#!mkdir ~/.kaggle\n",
    "#!cp /content/kaggle.json ~/.kaggle/kaggle.json\n",
    "#!chmod 600 /root/.kaggle/kaggle.json"
   ]
  },
  {
   "cell_type": "code",
   "execution_count": 5,
   "metadata": {
    "execution": {
     "iopub.execute_input": "2022-09-13T04:57:59.657439Z",
     "iopub.status.busy": "2022-09-13T04:57:59.656453Z",
     "iopub.status.idle": "2022-09-13T04:57:59.663649Z",
     "shell.execute_reply": "2022-09-13T04:57:59.662355Z",
     "shell.execute_reply.started": "2022-09-13T04:57:59.657374Z"
    },
    "id": "KbLK2pJW_ERQ",
    "outputId": "077b40dc-406c-4c7b-b0d0-dce7498b1c20"
   },
   "outputs": [],
   "source": [
    "#!kaggle competitions download nlp-getting-started"
   ]
  },
  {
   "cell_type": "code",
   "execution_count": 6,
   "metadata": {
    "execution": {
     "iopub.execute_input": "2022-09-13T04:57:59.665877Z",
     "iopub.status.busy": "2022-09-13T04:57:59.665377Z",
     "iopub.status.idle": "2022-09-13T04:57:59.678117Z",
     "shell.execute_reply": "2022-09-13T04:57:59.676723Z",
     "shell.execute_reply.started": "2022-09-13T04:57:59.665828Z"
    },
    "id": "IRDM0uNH_HDb",
    "outputId": "3f0ad5ad-1a67-4b3e-bbc7-ea524dbf9d97"
   },
   "outputs": [],
   "source": [
    "#!unzip *.zip"
   ]
  },
  {
   "cell_type": "markdown",
   "metadata": {
    "id": "7DkjeLOm8xin"
   },
   "source": [
    "# Importing Required Libraries"
   ]
  },
  {
   "cell_type": "code",
   "execution_count": 7,
   "metadata": {
    "execution": {
     "iopub.execute_input": "2022-09-13T04:57:59.680474Z",
     "iopub.status.busy": "2022-09-13T04:57:59.679983Z",
     "iopub.status.idle": "2022-09-13T04:58:02.344541Z",
     "shell.execute_reply": "2022-09-13T04:58:02.342947Z",
     "shell.execute_reply.started": "2022-09-13T04:57:59.680410Z"
    },
    "id": "cft3YouA80K7"
   },
   "outputs": [],
   "source": [
    "import pandas as pd\n",
    "import numpy as np\n",
    "import matplotlib.pyplot as plt\n",
    "import seaborn as sns\n",
    "sns.set_style(\"darkgrid\", {\"grid.color\": \".6\", \"grid.linestyle\": \":\"})\n",
    "\n",
    "\n",
    "import os\n",
    "import tensorflow as tf"
   ]
  },
  {
   "cell_type": "markdown",
   "metadata": {
    "id": "V65twHYE-II9"
   },
   "source": [
    "**Loading the dataset**"
   ]
  },
  {
   "cell_type": "markdown",
   "metadata": {
    "id": "2-d9CMbo-RWH"
   },
   "source": [
    "*Training dataframe*"
   ]
  },
  {
   "cell_type": "code",
   "execution_count": 8,
   "metadata": {
    "execution": {
     "iopub.execute_input": "2022-09-13T04:58:02.347080Z",
     "iopub.status.busy": "2022-09-13T04:58:02.346244Z",
     "iopub.status.idle": "2022-09-13T04:58:02.386234Z",
     "shell.execute_reply": "2022-09-13T04:58:02.384725Z",
     "shell.execute_reply.started": "2022-09-13T04:58:02.347030Z"
    },
    "id": "NYdduwAi-K57"
   },
   "outputs": [],
   "source": [
    "#train_df = pd.read_csv(\"train.csv\")   .... Use this command for Colab\n",
    "train_df = pd.read_csv(r'../input/nlp-getting-started/train.csv')"
   ]
  },
  {
   "cell_type": "code",
   "execution_count": 9,
   "metadata": {
    "execution": {
     "iopub.execute_input": "2022-09-13T04:58:02.388542Z",
     "iopub.status.busy": "2022-09-13T04:58:02.388094Z",
     "iopub.status.idle": "2022-09-13T04:58:02.410324Z",
     "shell.execute_reply": "2022-09-13T04:58:02.408912Z",
     "shell.execute_reply.started": "2022-09-13T04:58:02.388498Z"
    },
    "id": "ZIHwrEMv-hYn",
    "outputId": "cd414479-8d3b-46a2-80c0-8120ff9460c2"
   },
   "outputs": [
    {
     "data": {
      "text/html": [
       "<div>\n",
       "<style scoped>\n",
       "    .dataframe tbody tr th:only-of-type {\n",
       "        vertical-align: middle;\n",
       "    }\n",
       "\n",
       "    .dataframe tbody tr th {\n",
       "        vertical-align: top;\n",
       "    }\n",
       "\n",
       "    .dataframe thead th {\n",
       "        text-align: right;\n",
       "    }\n",
       "</style>\n",
       "<table border=\"1\" class=\"dataframe\">\n",
       "  <thead>\n",
       "    <tr style=\"text-align: right;\">\n",
       "      <th></th>\n",
       "      <th>id</th>\n",
       "      <th>keyword</th>\n",
       "      <th>location</th>\n",
       "      <th>text</th>\n",
       "      <th>target</th>\n",
       "    </tr>\n",
       "  </thead>\n",
       "  <tbody>\n",
       "    <tr>\n",
       "      <th>0</th>\n",
       "      <td>1</td>\n",
       "      <td>NaN</td>\n",
       "      <td>NaN</td>\n",
       "      <td>Our Deeds are the Reason of this #earthquake M...</td>\n",
       "      <td>1</td>\n",
       "    </tr>\n",
       "    <tr>\n",
       "      <th>1</th>\n",
       "      <td>4</td>\n",
       "      <td>NaN</td>\n",
       "      <td>NaN</td>\n",
       "      <td>Forest fire near La Ronge Sask. Canada</td>\n",
       "      <td>1</td>\n",
       "    </tr>\n",
       "    <tr>\n",
       "      <th>2</th>\n",
       "      <td>5</td>\n",
       "      <td>NaN</td>\n",
       "      <td>NaN</td>\n",
       "      <td>All residents asked to 'shelter in place' are ...</td>\n",
       "      <td>1</td>\n",
       "    </tr>\n",
       "    <tr>\n",
       "      <th>3</th>\n",
       "      <td>6</td>\n",
       "      <td>NaN</td>\n",
       "      <td>NaN</td>\n",
       "      <td>13,000 people receive #wildfires evacuation or...</td>\n",
       "      <td>1</td>\n",
       "    </tr>\n",
       "    <tr>\n",
       "      <th>4</th>\n",
       "      <td>7</td>\n",
       "      <td>NaN</td>\n",
       "      <td>NaN</td>\n",
       "      <td>Just got sent this photo from Ruby #Alaska as ...</td>\n",
       "      <td>1</td>\n",
       "    </tr>\n",
       "  </tbody>\n",
       "</table>\n",
       "</div>"
      ],
      "text/plain": [
       "   id keyword location                                               text  \\\n",
       "0   1     NaN      NaN  Our Deeds are the Reason of this #earthquake M...   \n",
       "1   4     NaN      NaN             Forest fire near La Ronge Sask. Canada   \n",
       "2   5     NaN      NaN  All residents asked to 'shelter in place' are ...   \n",
       "3   6     NaN      NaN  13,000 people receive #wildfires evacuation or...   \n",
       "4   7     NaN      NaN  Just got sent this photo from Ruby #Alaska as ...   \n",
       "\n",
       "   target  \n",
       "0       1  \n",
       "1       1  \n",
       "2       1  \n",
       "3       1  \n",
       "4       1  "
      ]
     },
     "execution_count": 9,
     "metadata": {},
     "output_type": "execute_result"
    }
   ],
   "source": [
    "train_df.head()"
   ]
  },
  {
   "cell_type": "markdown",
   "metadata": {
    "id": "20Qw9kj3BWY-"
   },
   "source": [
    "5 Columns(variables) and at first look the \"keyword\" and \"location\" variables seem to house NaN(missing values)."
   ]
  },
  {
   "cell_type": "code",
   "execution_count": 10,
   "metadata": {
    "execution": {
     "iopub.execute_input": "2022-09-13T04:58:02.417383Z",
     "iopub.status.busy": "2022-09-13T04:58:02.416131Z",
     "iopub.status.idle": "2022-09-13T04:58:02.424945Z",
     "shell.execute_reply": "2022-09-13T04:58:02.423566Z",
     "shell.execute_reply.started": "2022-09-13T04:58:02.417312Z"
    },
    "id": "3yP8gWVaA1vX",
    "outputId": "8b486249-3187-40a7-f2c3-2a9878145df9"
   },
   "outputs": [
    {
     "name": "stdout",
     "output_type": "stream",
     "text": [
      "The number of observations in Training Dataset is : 7613\n"
     ]
    }
   ],
   "source": [
    "print(\"The number of observations in Training Dataset is :\",len(train_df))"
   ]
  },
  {
   "cell_type": "markdown",
   "metadata": {
    "id": "Xktj_uFW-V92"
   },
   "source": [
    "*Testing dataframe*"
   ]
  },
  {
   "cell_type": "code",
   "execution_count": 11,
   "metadata": {
    "execution": {
     "iopub.execute_input": "2022-09-13T04:58:02.427941Z",
     "iopub.status.busy": "2022-09-13T04:58:02.427068Z",
     "iopub.status.idle": "2022-09-13T04:58:02.457747Z",
     "shell.execute_reply": "2022-09-13T04:58:02.456646Z",
     "shell.execute_reply.started": "2022-09-13T04:58:02.427887Z"
    },
    "id": "OKbInIQj-YHy"
   },
   "outputs": [],
   "source": [
    "#test_df = pd.read_csv(\"test.csv\") .....Use this command for Colab\n",
    "test_df = pd.read_csv(r'../input/nlp-getting-started/test.csv')"
   ]
  },
  {
   "cell_type": "code",
   "execution_count": 12,
   "metadata": {
    "execution": {
     "iopub.execute_input": "2022-09-13T04:58:02.460313Z",
     "iopub.status.busy": "2022-09-13T04:58:02.459567Z",
     "iopub.status.idle": "2022-09-13T04:58:02.476275Z",
     "shell.execute_reply": "2022-09-13T04:58:02.474991Z",
     "shell.execute_reply.started": "2022-09-13T04:58:02.460263Z"
    },
    "id": "dfjEXf3z-jMr",
    "outputId": "f1ca78f3-d09f-41bf-cffb-52f3a4267a32"
   },
   "outputs": [
    {
     "data": {
      "text/html": [
       "<div>\n",
       "<style scoped>\n",
       "    .dataframe tbody tr th:only-of-type {\n",
       "        vertical-align: middle;\n",
       "    }\n",
       "\n",
       "    .dataframe tbody tr th {\n",
       "        vertical-align: top;\n",
       "    }\n",
       "\n",
       "    .dataframe thead th {\n",
       "        text-align: right;\n",
       "    }\n",
       "</style>\n",
       "<table border=\"1\" class=\"dataframe\">\n",
       "  <thead>\n",
       "    <tr style=\"text-align: right;\">\n",
       "      <th></th>\n",
       "      <th>id</th>\n",
       "      <th>keyword</th>\n",
       "      <th>location</th>\n",
       "      <th>text</th>\n",
       "    </tr>\n",
       "  </thead>\n",
       "  <tbody>\n",
       "    <tr>\n",
       "      <th>0</th>\n",
       "      <td>0</td>\n",
       "      <td>NaN</td>\n",
       "      <td>NaN</td>\n",
       "      <td>Just happened a terrible car crash</td>\n",
       "    </tr>\n",
       "    <tr>\n",
       "      <th>1</th>\n",
       "      <td>2</td>\n",
       "      <td>NaN</td>\n",
       "      <td>NaN</td>\n",
       "      <td>Heard about #earthquake is different cities, s...</td>\n",
       "    </tr>\n",
       "    <tr>\n",
       "      <th>2</th>\n",
       "      <td>3</td>\n",
       "      <td>NaN</td>\n",
       "      <td>NaN</td>\n",
       "      <td>there is a forest fire at spot pond, geese are...</td>\n",
       "    </tr>\n",
       "    <tr>\n",
       "      <th>3</th>\n",
       "      <td>9</td>\n",
       "      <td>NaN</td>\n",
       "      <td>NaN</td>\n",
       "      <td>Apocalypse lighting. #Spokane #wildfires</td>\n",
       "    </tr>\n",
       "    <tr>\n",
       "      <th>4</th>\n",
       "      <td>11</td>\n",
       "      <td>NaN</td>\n",
       "      <td>NaN</td>\n",
       "      <td>Typhoon Soudelor kills 28 in China and Taiwan</td>\n",
       "    </tr>\n",
       "  </tbody>\n",
       "</table>\n",
       "</div>"
      ],
      "text/plain": [
       "   id keyword location                                               text\n",
       "0   0     NaN      NaN                 Just happened a terrible car crash\n",
       "1   2     NaN      NaN  Heard about #earthquake is different cities, s...\n",
       "2   3     NaN      NaN  there is a forest fire at spot pond, geese are...\n",
       "3   9     NaN      NaN           Apocalypse lighting. #Spokane #wildfires\n",
       "4  11     NaN      NaN      Typhoon Soudelor kills 28 in China and Taiwan"
      ]
     },
     "execution_count": 12,
     "metadata": {},
     "output_type": "execute_result"
    }
   ],
   "source": [
    "test_df.head()"
   ]
  },
  {
   "cell_type": "code",
   "execution_count": 13,
   "metadata": {
    "execution": {
     "iopub.execute_input": "2022-09-13T04:58:02.478705Z",
     "iopub.status.busy": "2022-09-13T04:58:02.478150Z",
     "iopub.status.idle": "2022-09-13T04:58:02.486887Z",
     "shell.execute_reply": "2022-09-13T04:58:02.485355Z",
     "shell.execute_reply.started": "2022-09-13T04:58:02.478654Z"
    },
    "id": "iDD2VGvCBE0P",
    "outputId": "9a319385-1278-4056-c160-f9d8cef65a11"
   },
   "outputs": [
    {
     "name": "stdout",
     "output_type": "stream",
     "text": [
      "The number of observations in Testing Dataset is : 3263\n"
     ]
    }
   ],
   "source": [
    "print(\"The number of observations in Testing Dataset is :\",len(test_df))"
   ]
  },
  {
   "cell_type": "markdown",
   "metadata": {
    "id": "0TCR26jeBvbl"
   },
   "source": [
    "# Exploratory Data Analysis\n",
    "\n",
    "Exploring into the data to investiagte the missing values and duplicates."
   ]
  },
  {
   "cell_type": "code",
   "execution_count": 14,
   "metadata": {
    "execution": {
     "iopub.execute_input": "2022-09-13T04:58:02.489981Z",
     "iopub.status.busy": "2022-09-13T04:58:02.489057Z",
     "iopub.status.idle": "2022-09-13T04:58:02.509480Z",
     "shell.execute_reply": "2022-09-13T04:58:02.507666Z",
     "shell.execute_reply.started": "2022-09-13T04:58:02.489929Z"
    },
    "id": "mwT-RmSKB6jH",
    "outputId": "07d863a7-221d-41a2-9077-3fa1c5bcc9b3"
   },
   "outputs": [
    {
     "data": {
      "text/plain": [
       "id             0\n",
       "keyword       61\n",
       "location    2533\n",
       "text           0\n",
       "target         0\n",
       "dtype: int64"
      ]
     },
     "execution_count": 14,
     "metadata": {},
     "output_type": "execute_result"
    }
   ],
   "source": [
    "train_df.isna().sum()"
   ]
  },
  {
   "cell_type": "markdown",
   "metadata": {
    "id": "ui5wsxUJCbQW"
   },
   "source": [
    "As we can see the Training dataframe has 61 missing values \"keyword\" variable and 2533 missing values in the \"location\" variable."
   ]
  },
  {
   "cell_type": "code",
   "execution_count": 15,
   "metadata": {
    "execution": {
     "iopub.execute_input": "2022-09-13T04:58:02.513141Z",
     "iopub.status.busy": "2022-09-13T04:58:02.511809Z",
     "iopub.status.idle": "2022-09-13T04:58:02.527773Z",
     "shell.execute_reply": "2022-09-13T04:58:02.525838Z",
     "shell.execute_reply.started": "2022-09-13T04:58:02.513083Z"
    },
    "id": "0HQFA8RyCT15",
    "outputId": "5eca839b-44aa-4f49-b782-e14a85077b6a"
   },
   "outputs": [
    {
     "data": {
      "text/plain": [
       "id             0\n",
       "keyword       26\n",
       "location    1105\n",
       "text           0\n",
       "dtype: int64"
      ]
     },
     "execution_count": 15,
     "metadata": {},
     "output_type": "execute_result"
    }
   ],
   "source": [
    "test_df.isna().sum()"
   ]
  },
  {
   "cell_type": "markdown",
   "metadata": {
    "id": "kz1HxFxICpX-"
   },
   "source": [
    "As we can see the Testing dataframe has 26 missing values \"keyword\" variable and 1105 missing values in the \"location\" variable."
   ]
  },
  {
   "cell_type": "markdown",
   "metadata": {
    "id": "c7l4NsqNDGuX"
   },
   "source": [
    "We can make use of the **Missingno** python library to help visualise missing values in a pandas dataframe. \n",
    "\n",
    "It helps for quick visual summary of the completeness/incompleteness of the dataset"
   ]
  },
  {
   "cell_type": "code",
   "execution_count": 16,
   "metadata": {
    "execution": {
     "iopub.execute_input": "2022-09-13T04:58:02.530743Z",
     "iopub.status.busy": "2022-09-13T04:58:02.529567Z",
     "iopub.status.idle": "2022-09-13T04:58:14.847427Z",
     "shell.execute_reply": "2022-09-13T04:58:14.845621Z",
     "shell.execute_reply.started": "2022-09-13T04:58:02.530670Z"
    },
    "id": "mcpmecXdDacO",
    "outputId": "d0d4c08a-988e-49e0-b173-b981228c8d85"
   },
   "outputs": [
    {
     "name": "stdout",
     "output_type": "stream",
     "text": [
      "Requirement already satisfied: missingno in /opt/conda/lib/python3.7/site-packages (0.4.2)\n",
      "Requirement already satisfied: scipy in /opt/conda/lib/python3.7/site-packages (from missingno) (1.7.3)\n",
      "Requirement already satisfied: matplotlib in /opt/conda/lib/python3.7/site-packages (from missingno) (3.5.3)\n",
      "Requirement already satisfied: seaborn in /opt/conda/lib/python3.7/site-packages (from missingno) (0.11.2)\n",
      "Requirement already satisfied: numpy in /opt/conda/lib/python3.7/site-packages (from missingno) (1.21.6)\n",
      "Requirement already satisfied: packaging>=20.0 in /opt/conda/lib/python3.7/site-packages (from matplotlib->missingno) (21.3)\n",
      "Requirement already satisfied: pillow>=6.2.0 in /opt/conda/lib/python3.7/site-packages (from matplotlib->missingno) (9.1.1)\n",
      "Requirement already satisfied: python-dateutil>=2.7 in /opt/conda/lib/python3.7/site-packages (from matplotlib->missingno) (2.8.2)\n",
      "Requirement already satisfied: pyparsing>=2.2.1 in /opt/conda/lib/python3.7/site-packages (from matplotlib->missingno) (3.0.9)\n",
      "Requirement already satisfied: kiwisolver>=1.0.1 in /opt/conda/lib/python3.7/site-packages (from matplotlib->missingno) (1.4.3)\n",
      "Requirement already satisfied: cycler>=0.10 in /opt/conda/lib/python3.7/site-packages (from matplotlib->missingno) (0.11.0)\n",
      "Requirement already satisfied: fonttools>=4.22.0 in /opt/conda/lib/python3.7/site-packages (from matplotlib->missingno) (4.33.3)\n",
      "Requirement already satisfied: pandas>=0.23 in /opt/conda/lib/python3.7/site-packages (from seaborn->missingno) (1.3.5)\n",
      "Requirement already satisfied: typing-extensions in /opt/conda/lib/python3.7/site-packages (from kiwisolver>=1.0.1->matplotlib->missingno) (4.3.0)\n",
      "Requirement already satisfied: pytz>=2017.3 in /opt/conda/lib/python3.7/site-packages (from pandas>=0.23->seaborn->missingno) (2022.1)\n",
      "Requirement already satisfied: six>=1.5 in /opt/conda/lib/python3.7/site-packages (from python-dateutil>=2.7->matplotlib->missingno) (1.15.0)\n",
      "\u001b[33mWARNING: Running pip as the 'root' user can result in broken permissions and conflicting behaviour with the system package manager. It is recommended to use a virtual environment instead: https://pip.pypa.io/warnings/venv\u001b[0m\u001b[33m\n",
      "\u001b[0m"
     ]
    }
   ],
   "source": [
    "!pip install missingno"
   ]
  },
  {
   "cell_type": "code",
   "execution_count": 17,
   "metadata": {
    "execution": {
     "iopub.execute_input": "2022-09-13T04:58:14.850341Z",
     "iopub.status.busy": "2022-09-13T04:58:14.849814Z",
     "iopub.status.idle": "2022-09-13T04:58:14.861258Z",
     "shell.execute_reply": "2022-09-13T04:58:14.859896Z",
     "shell.execute_reply.started": "2022-09-13T04:58:14.850288Z"
    },
    "id": "pdrfRR46DdP4"
   },
   "outputs": [],
   "source": [
    "import missingno as msno"
   ]
  },
  {
   "cell_type": "markdown",
   "metadata": {
    "id": "eKrSD2_qDiFN"
   },
   "source": [
    "**Plotting a Bar Chart of the missing values**"
   ]
  },
  {
   "cell_type": "code",
   "execution_count": 18,
   "metadata": {
    "execution": {
     "iopub.execute_input": "2022-09-13T04:58:14.864062Z",
     "iopub.status.busy": "2022-09-13T04:58:14.863336Z",
     "iopub.status.idle": "2022-09-13T04:58:16.192543Z",
     "shell.execute_reply": "2022-09-13T04:58:16.190947Z",
     "shell.execute_reply.started": "2022-09-13T04:58:14.863935Z"
    },
    "id": "NDPcqXD-DmKz",
    "outputId": "1e691332-e10f-438b-f386-a0791a8042cd"
   },
   "outputs": [
    {
     "data": {
      "text/plain": [
       "<AxesSubplot:>"
      ]
     },
     "execution_count": 18,
     "metadata": {},
     "output_type": "execute_result"
    },
    {
     "data": {
      "image/png": "[encoded data removed]",
      "text/plain": [
       "<Figure size 1728x720 with 3 Axes>"
      ]
     },
     "metadata": {},
     "output_type": "display_data"
    }
   ],
   "source": [
    "msno.bar(train_df,fontsize = 24, color = 'blue')"
   ]
  },
  {
   "cell_type": "code",
   "execution_count": 19,
   "metadata": {
    "execution": {
     "iopub.execute_input": "2022-09-13T04:58:16.196952Z",
     "iopub.status.busy": "2022-09-13T04:58:16.195178Z",
     "iopub.status.idle": "2022-09-13T04:58:16.869672Z",
     "shell.execute_reply": "2022-09-13T04:58:16.868148Z",
     "shell.execute_reply.started": "2022-09-13T04:58:16.196872Z"
    },
    "id": "q_Zfdr1sDrBc",
    "outputId": "91422212-c84f-44be-d7f5-db30030532ea"
   },
   "outputs": [
    {
     "data": {
      "text/plain": [
       "<AxesSubplot:>"
      ]
     },
     "execution_count": 19,
     "metadata": {},
     "output_type": "execute_result"
    },
    {
     "data": {
      "image/png": "[encoded data removed]",
      "text/plain": [
       "<Figure size 1728x720 with 3 Axes>"
      ]
     },
     "metadata": {},
     "output_type": "display_data"
    }
   ],
   "source": [
    "msno.bar(test_df,fontsize = 24, color = 'red')"
   ]
  },
  {
   "cell_type": "markdown",
   "metadata": {
    "id": "CUFbF1X7FSwM"
   },
   "source": [
    "**Heatmap of Missing Values**"
   ]
  },
  {
   "cell_type": "code",
   "execution_count": 20,
   "metadata": {
    "execution": {
     "iopub.execute_input": "2022-09-13T04:58:16.874418Z",
     "iopub.status.busy": "2022-09-13T04:58:16.872686Z",
     "iopub.status.idle": "2022-09-13T04:58:17.235559Z",
     "shell.execute_reply": "2022-09-13T04:58:17.233821Z",
     "shell.execute_reply.started": "2022-09-13T04:58:16.874279Z"
    },
    "id": "OzXFVWGcFed-",
    "outputId": "cc938b7e-a7fe-4d95-ea0a-775ac54f4f58"
   },
   "outputs": [
    {
     "data": {
      "text/plain": [
       "<AxesSubplot:>"
      ]
     },
     "execution_count": 20,
     "metadata": {},
     "output_type": "execute_result"
    },
    {
     "data": {
      "image/png": "[encoded data removed]",
      "text/plain": [
       "<Figure size 1440x864 with 2 Axes>"
      ]
     },
     "metadata": {},
     "output_type": "display_data"
    }
   ],
   "source": [
    "msno.heatmap(train_df,fontsize = 24, cmap = 'BrBG')"
   ]
  },
  {
   "cell_type": "code",
   "execution_count": 21,
   "metadata": {
    "execution": {
     "iopub.execute_input": "2022-09-13T04:58:17.238584Z",
     "iopub.status.busy": "2022-09-13T04:58:17.238105Z",
     "iopub.status.idle": "2022-09-13T04:58:17.603763Z",
     "shell.execute_reply": "2022-09-13T04:58:17.602230Z",
     "shell.execute_reply.started": "2022-09-13T04:58:17.238528Z"
    },
    "id": "DOPlh1a6Ff0A",
    "outputId": "703d8909-c05f-4e59-bd50-38da847a7b87"
   },
   "outputs": [
    {
     "data": {
      "text/plain": [
       "<AxesSubplot:>"
      ]
     },
     "execution_count": 21,
     "metadata": {},
     "output_type": "execute_result"
    },
    {
     "data": {
      "image/png": "[encoded data removed]",
      "text/plain": [
       "<Figure size 1440x864 with 2 Axes>"
      ]
     },
     "metadata": {},
     "output_type": "display_data"
    }
   ],
   "source": [
    "msno.heatmap(test_df,fontsize = 24, cmap = 'BrBG')"
   ]
  },
  {
   "cell_type": "markdown",
   "metadata": {
    "id": "odLtRRedGDC_"
   },
   "source": [
    "As it is evident that **location** is the variable with the highest missing values. There as also some missing values in the **keyword** variable."
   ]
  },
  {
   "cell_type": "markdown",
   "metadata": {
    "id": "i004zccuGXVb"
   },
   "source": [
    "**Investigating for Duplicates**\n",
    "\n",
    "For both the dataframes the attempt to check duplicates will be made across text column"
   ]
  },
  {
   "cell_type": "code",
   "execution_count": 22,
   "metadata": {
    "execution": {
     "iopub.execute_input": "2022-09-13T04:58:17.606519Z",
     "iopub.status.busy": "2022-09-13T04:58:17.605831Z",
     "iopub.status.idle": "2022-09-13T04:58:17.632855Z",
     "shell.execute_reply": "2022-09-13T04:58:17.631416Z",
     "shell.execute_reply.started": "2022-09-13T04:58:17.606455Z"
    },
    "id": "EARhaDWfHAQl",
    "outputId": "4e8552ea-365e-44c2-abaf-25578d0d676f"
   },
   "outputs": [
    {
     "name": "stdout",
     "output_type": "stream",
     "text": [
      "text\n",
      "! Residents Return To Destroyed Homes As Washington Wildfire Burns on http://t.co/UcI8stQUg1                                                   1\n",
      "# handbags Genuine Mulberry Antony Cross Body Messenger Bag Dark Oak Soft Buffalo Leather:  å£279.00End Date: W... http://t.co/FTM4RKl8mN      1\n",
      "#360WiseNews : China's Stock Market Crash: Are There Gems In The Rubble? http://t.co/9Naw3QOQOL                                                1\n",
      "#360WiseNews : China's Stock Market Crash: Are There Gems In The Rubble? http://t.co/aOd2ftBMGU                                                1\n",
      "#360WiseNews : China's Stock Market Crash: Are There Gems In The Rubble? http://t.co/eaTFro3d5x                                                1\n",
      "                                                                                                                                              ..\n",
      "Û÷We Can HelpÛª Says Denver Firefighter Working To Curb First Responder Suicide http://t.co/WtaFaepuKZ                                       1\n",
      "å_? New Ladies Shoulder Tote #Handbag Faux Leather Hobo Purse Cross Body Bag #Womens http://t.co/zujwUiomb3 http://t.co/YklTFj1FnC             1\n",
      "å¤} New Ladies Shoulder Tote #Handbag Faux Leather Hobo Purse Cross Body Bag #Womens http://t.co/UooZXauS26 http://t.co/6MGBizjfgd RT enÛ_    1\n",
      "å¬'Only the sea knows how many are dead' @MSF_Sea after last disaster in #Mediterranean turned into a massgrave  http://t.co/m0utLDif77        1\n",
      "åÈMGN-AFRICAå¨ pin:263789F4 åÈ Correction: Tent Collapse Story: Correction: Tent Collapse story åÈ http://t.co/fDJUYvZMrv @wizkidayo           1\n",
      "Length: 7503, dtype: int64\n"
     ]
    }
   ],
   "source": [
    "dups_text_train = train_df.pivot_table(columns=['text'], aggfunc='size')\n",
    "print (dups_text_train)"
   ]
  },
  {
   "cell_type": "code",
   "execution_count": 23,
   "metadata": {
    "execution": {
     "iopub.execute_input": "2022-09-13T04:58:17.635023Z",
     "iopub.status.busy": "2022-09-13T04:58:17.634490Z",
     "iopub.status.idle": "2022-09-13T04:58:17.643616Z",
     "shell.execute_reply": "2022-09-13T04:58:17.641704Z",
     "shell.execute_reply.started": "2022-09-13T04:58:17.634978Z"
    },
    "id": "dMyaxu9VHMvw",
    "outputId": "203f85ae-6b14-4015-eef7-591f18b3ec44"
   },
   "outputs": [
    {
     "name": "stdout",
     "output_type": "stream",
     "text": [
      "The duplicates in the Text variable in training set : 7503\n"
     ]
    }
   ],
   "source": [
    "print(\"The duplicates in the Text variable in training set :\",len(dups_text_train))"
   ]
  },
  {
   "cell_type": "code",
   "execution_count": 24,
   "metadata": {
    "execution": {
     "iopub.execute_input": "2022-09-13T04:58:17.646407Z",
     "iopub.status.busy": "2022-09-13T04:58:17.645694Z",
     "iopub.status.idle": "2022-09-13T04:58:17.664237Z",
     "shell.execute_reply": "2022-09-13T04:58:17.662851Z",
     "shell.execute_reply.started": "2022-09-13T04:58:17.646355Z"
    },
    "id": "aN5gLpzzHwBl",
    "outputId": "bc531387-5c22-49b4-e9d8-10f0e0d5a07b"
   },
   "outputs": [
    {
     "name": "stdout",
     "output_type": "stream",
     "text": [
      "text\n",
      "! Sex-themed e-books given curfew in Germany on http://t.co/7NLEnCph8X                                                                            1\n",
      "#360WiseNews : China's Stock Market Crash: Are There Gems In The Rubble? http://t.co/QDwRjmmk89                                                   1\n",
      "#360WiseNews : China's Stock Market Crash: Are There Gems In The Rubble? http://t.co/r0FLXJx5vX                                                   1\n",
      "#360WiseNews : China's Stock Market Crash: Are There Gems In The Rubble? http://t.co/vTJ1EoslrU                                                   1\n",
      "#3682 Nikon D50 6.1 MP Digital SLR Camera Body 2 batteries carry bag and charger http://t.co/TeT9q0kXvl\\n\\n$200.00\\nÛ_ http://t.co/h3XgoxTFfi    1\n",
      "                                                                                                                                                 ..\n",
      "ÛÏEven in the midst of devastation something within us always points the way to freedom.Û                                                      1\n",
      "ÛÏTell Shinichi Kudo that IÛªm giving him 3 minutes to enjoy it..Û -Moriya Teiji famous architect from The Time Bombed Skyscraper             1\n",
      "ÛÏWe live in an area thatÛªs inundated with wildlife...If people donÛªt learn how to get along or live with them... http://t.co/KZXV6DWQ6E     1\n",
      "Û÷A Nightmare On Elm StreetÛª Is Getting RemadeÛ_ Again http://t.co/qaYGdzI9jQ via @bdisgusting                                                1\n",
      "Û÷SexistÛª peer review causes storm online https://t.co/WO2T0K4zXi via @timeshighered                                                           1\n",
      "Length: 3243, dtype: int64\n"
     ]
    }
   ],
   "source": [
    "dups_text_test = test_df.pivot_table(columns=['text'], aggfunc='size')\n",
    "print (dups_text_test)"
   ]
  },
  {
   "cell_type": "code",
   "execution_count": 25,
   "metadata": {
    "execution": {
     "iopub.execute_input": "2022-09-13T04:58:17.667309Z",
     "iopub.status.busy": "2022-09-13T04:58:17.665888Z",
     "iopub.status.idle": "2022-09-13T04:58:17.675152Z",
     "shell.execute_reply": "2022-09-13T04:58:17.673567Z",
     "shell.execute_reply.started": "2022-09-13T04:58:17.667241Z"
    },
    "id": "Hr97w56UHv6D",
    "outputId": "e12f8cee-b171-473b-c341-39e8b52d4f6d"
   },
   "outputs": [
    {
     "name": "stdout",
     "output_type": "stream",
     "text": [
      "The duplicates in the Text variable in testing set : 3243\n"
     ]
    }
   ],
   "source": [
    "print(\"The duplicates in the Text variable in testing set :\",len(dups_text_test))"
   ]
  },
  {
   "cell_type": "markdown",
   "metadata": {
    "id": "FCyy6D_sInKl"
   },
   "source": [
    "At some places the duplicate data has a different target value from other data."
   ]
  },
  {
   "cell_type": "markdown",
   "metadata": {
    "id": "eb1qyL-kIxft"
   },
   "source": [
    "**Analysing Tweet Length**\n",
    "\n",
    "Creating a variable named **length** in both the dataframes.\n",
    "\n",
    "Using simple lambda function to do count the length."
   ]
  },
  {
   "cell_type": "code",
   "execution_count": 26,
   "metadata": {
    "execution": {
     "iopub.execute_input": "2022-09-13T04:58:17.677853Z",
     "iopub.status.busy": "2022-09-13T04:58:17.676885Z",
     "iopub.status.idle": "2022-09-13T04:58:17.706420Z",
     "shell.execute_reply": "2022-09-13T04:58:17.704699Z",
     "shell.execute_reply.started": "2022-09-13T04:58:17.677805Z"
    },
    "id": "aAy3n3dMIu7Z",
    "outputId": "6cfa025e-2e5b-4a24-afa0-41d145a55a72"
   },
   "outputs": [
    {
     "data": {
      "text/html": [
       "<div>\n",
       "<style scoped>\n",
       "    .dataframe tbody tr th:only-of-type {\n",
       "        vertical-align: middle;\n",
       "    }\n",
       "\n",
       "    .dataframe tbody tr th {\n",
       "        vertical-align: top;\n",
       "    }\n",
       "\n",
       "    .dataframe thead th {\n",
       "        text-align: right;\n",
       "    }\n",
       "</style>\n",
       "<table border=\"1\" class=\"dataframe\">\n",
       "  <thead>\n",
       "    <tr style=\"text-align: right;\">\n",
       "      <th></th>\n",
       "      <th>id</th>\n",
       "      <th>keyword</th>\n",
       "      <th>location</th>\n",
       "      <th>text</th>\n",
       "      <th>target</th>\n",
       "      <th>length</th>\n",
       "    </tr>\n",
       "  </thead>\n",
       "  <tbody>\n",
       "    <tr>\n",
       "      <th>0</th>\n",
       "      <td>1</td>\n",
       "      <td>NaN</td>\n",
       "      <td>NaN</td>\n",
       "      <td>Our Deeds are the Reason of this #earthquake M...</td>\n",
       "      <td>1</td>\n",
       "      <td>69</td>\n",
       "    </tr>\n",
       "    <tr>\n",
       "      <th>1</th>\n",
       "      <td>4</td>\n",
       "      <td>NaN</td>\n",
       "      <td>NaN</td>\n",
       "      <td>Forest fire near La Ronge Sask. Canada</td>\n",
       "      <td>1</td>\n",
       "      <td>38</td>\n",
       "    </tr>\n",
       "    <tr>\n",
       "      <th>2</th>\n",
       "      <td>5</td>\n",
       "      <td>NaN</td>\n",
       "      <td>NaN</td>\n",
       "      <td>All residents asked to 'shelter in place' are ...</td>\n",
       "      <td>1</td>\n",
       "      <td>133</td>\n",
       "    </tr>\n",
       "    <tr>\n",
       "      <th>3</th>\n",
       "      <td>6</td>\n",
       "      <td>NaN</td>\n",
       "      <td>NaN</td>\n",
       "      <td>13,000 people receive #wildfires evacuation or...</td>\n",
       "      <td>1</td>\n",
       "      <td>65</td>\n",
       "    </tr>\n",
       "    <tr>\n",
       "      <th>4</th>\n",
       "      <td>7</td>\n",
       "      <td>NaN</td>\n",
       "      <td>NaN</td>\n",
       "      <td>Just got sent this photo from Ruby #Alaska as ...</td>\n",
       "      <td>1</td>\n",
       "      <td>88</td>\n",
       "    </tr>\n",
       "  </tbody>\n",
       "</table>\n",
       "</div>"
      ],
      "text/plain": [
       "   id keyword location                                               text  \\\n",
       "0   1     NaN      NaN  Our Deeds are the Reason of this #earthquake M...   \n",
       "1   4     NaN      NaN             Forest fire near La Ronge Sask. Canada   \n",
       "2   5     NaN      NaN  All residents asked to 'shelter in place' are ...   \n",
       "3   6     NaN      NaN  13,000 people receive #wildfires evacuation or...   \n",
       "4   7     NaN      NaN  Just got sent this photo from Ruby #Alaska as ...   \n",
       "\n",
       "   target  length  \n",
       "0       1      69  \n",
       "1       1      38  \n",
       "2       1     133  \n",
       "3       1      65  \n",
       "4       1      88  "
      ]
     },
     "execution_count": 26,
     "metadata": {},
     "output_type": "execute_result"
    }
   ],
   "source": [
    "train_df[\"length\"] = train_df[\"text\"].apply(lambda x:len(x))\n",
    "train_df.head()"
   ]
  },
  {
   "cell_type": "code",
   "execution_count": 27,
   "metadata": {
    "execution": {
     "iopub.execute_input": "2022-09-13T04:58:17.709692Z",
     "iopub.status.busy": "2022-09-13T04:58:17.708670Z",
     "iopub.status.idle": "2022-09-13T04:58:17.720481Z",
     "shell.execute_reply": "2022-09-13T04:58:17.719134Z",
     "shell.execute_reply.started": "2022-09-13T04:58:17.709630Z"
    },
    "id": "xtYqIdc7Jea5",
    "outputId": "3b421997-7389-46aa-a1a9-b9ad0345415e"
   },
   "outputs": [
    {
     "name": "stdout",
     "output_type": "stream",
     "text": [
      "Maximum length of tweet in training set : 157\n"
     ]
    }
   ],
   "source": [
    "max_train = train_df['length'].max()\n",
    "print(\"Maximum length of tweet in training set :\",max_train)"
   ]
  },
  {
   "cell_type": "code",
   "execution_count": 28,
   "metadata": {
    "execution": {
     "iopub.execute_input": "2022-09-13T04:58:17.733239Z",
     "iopub.status.busy": "2022-09-13T04:58:17.732103Z",
     "iopub.status.idle": "2022-09-13T04:58:17.752907Z",
     "shell.execute_reply": "2022-09-13T04:58:17.751670Z",
     "shell.execute_reply.started": "2022-09-13T04:58:17.733166Z"
    },
    "id": "pdCV0qvjJeuX",
    "outputId": "e36f3843-05c7-435d-ef00-bd7a680faaf3"
   },
   "outputs": [
    {
     "data": {
      "text/html": [
       "<div>\n",
       "<style scoped>\n",
       "    .dataframe tbody tr th:only-of-type {\n",
       "        vertical-align: middle;\n",
       "    }\n",
       "\n",
       "    .dataframe tbody tr th {\n",
       "        vertical-align: top;\n",
       "    }\n",
       "\n",
       "    .dataframe thead th {\n",
       "        text-align: right;\n",
       "    }\n",
       "</style>\n",
       "<table border=\"1\" class=\"dataframe\">\n",
       "  <thead>\n",
       "    <tr style=\"text-align: right;\">\n",
       "      <th></th>\n",
       "      <th>id</th>\n",
       "      <th>keyword</th>\n",
       "      <th>location</th>\n",
       "      <th>text</th>\n",
       "      <th>length</th>\n",
       "    </tr>\n",
       "  </thead>\n",
       "  <tbody>\n",
       "    <tr>\n",
       "      <th>0</th>\n",
       "      <td>0</td>\n",
       "      <td>NaN</td>\n",
       "      <td>NaN</td>\n",
       "      <td>Just happened a terrible car crash</td>\n",
       "      <td>34</td>\n",
       "    </tr>\n",
       "    <tr>\n",
       "      <th>1</th>\n",
       "      <td>2</td>\n",
       "      <td>NaN</td>\n",
       "      <td>NaN</td>\n",
       "      <td>Heard about #earthquake is different cities, s...</td>\n",
       "      <td>64</td>\n",
       "    </tr>\n",
       "    <tr>\n",
       "      <th>2</th>\n",
       "      <td>3</td>\n",
       "      <td>NaN</td>\n",
       "      <td>NaN</td>\n",
       "      <td>there is a forest fire at spot pond, geese are...</td>\n",
       "      <td>96</td>\n",
       "    </tr>\n",
       "    <tr>\n",
       "      <th>3</th>\n",
       "      <td>9</td>\n",
       "      <td>NaN</td>\n",
       "      <td>NaN</td>\n",
       "      <td>Apocalypse lighting. #Spokane #wildfires</td>\n",
       "      <td>40</td>\n",
       "    </tr>\n",
       "    <tr>\n",
       "      <th>4</th>\n",
       "      <td>11</td>\n",
       "      <td>NaN</td>\n",
       "      <td>NaN</td>\n",
       "      <td>Typhoon Soudelor kills 28 in China and Taiwan</td>\n",
       "      <td>45</td>\n",
       "    </tr>\n",
       "  </tbody>\n",
       "</table>\n",
       "</div>"
      ],
      "text/plain": [
       "   id keyword location                                               text  \\\n",
       "0   0     NaN      NaN                 Just happened a terrible car crash   \n",
       "1   2     NaN      NaN  Heard about #earthquake is different cities, s...   \n",
       "2   3     NaN      NaN  there is a forest fire at spot pond, geese are...   \n",
       "3   9     NaN      NaN           Apocalypse lighting. #Spokane #wildfires   \n",
       "4  11     NaN      NaN      Typhoon Soudelor kills 28 in China and Taiwan   \n",
       "\n",
       "   length  \n",
       "0      34  \n",
       "1      64  \n",
       "2      96  \n",
       "3      40  \n",
       "4      45  "
      ]
     },
     "execution_count": 28,
     "metadata": {},
     "output_type": "execute_result"
    }
   ],
   "source": [
    "test_df[\"length\"] = test_df[\"text\"].apply(lambda x:len(x))\n",
    "test_df.head()"
   ]
  },
  {
   "cell_type": "code",
   "execution_count": 29,
   "metadata": {
    "execution": {
     "iopub.execute_input": "2022-09-13T04:58:17.756104Z",
     "iopub.status.busy": "2022-09-13T04:58:17.755124Z",
     "iopub.status.idle": "2022-09-13T04:58:17.770237Z",
     "shell.execute_reply": "2022-09-13T04:58:17.768499Z",
     "shell.execute_reply.started": "2022-09-13T04:58:17.756046Z"
    },
    "id": "41Uow_3gKJZi",
    "outputId": "7baf9d6e-02f3-483f-8dc8-0d23ab62d9b8"
   },
   "outputs": [
    {
     "name": "stdout",
     "output_type": "stream",
     "text": [
      "Maximum length of tweet in testing set : 151\n"
     ]
    }
   ],
   "source": [
    "max_test = test_df['length'].max()\n",
    "print(\"Maximum length of tweet in testing set :\",max_test)"
   ]
  },
  {
   "cell_type": "markdown",
   "metadata": {
    "id": "CJ6tuYNAKUF6"
   },
   "source": [
    "As we can see the longest tweet in training dataframe has a length of 157 and that in testing dataframe has a length of 151."
   ]
  },
  {
   "cell_type": "markdown",
   "metadata": {
    "id": "DSWDku2vKion"
   },
   "source": [
    "**Descriptive Statistics**"
   ]
  },
  {
   "cell_type": "code",
   "execution_count": 30,
   "metadata": {
    "execution": {
     "iopub.execute_input": "2022-09-13T04:58:17.774028Z",
     "iopub.status.busy": "2022-09-13T04:58:17.772463Z",
     "iopub.status.idle": "2022-09-13T04:58:17.813733Z",
     "shell.execute_reply": "2022-09-13T04:58:17.812390Z",
     "shell.execute_reply.started": "2022-09-13T04:58:17.773964Z"
    },
    "id": "ub6e7os6LyMn",
    "outputId": "1a39b3a3-4d6a-4222-f4bd-9f6ea9803078"
   },
   "outputs": [
    {
     "data": {
      "text/html": [
       "<div>\n",
       "<style scoped>\n",
       "    .dataframe tbody tr th:only-of-type {\n",
       "        vertical-align: middle;\n",
       "    }\n",
       "\n",
       "    .dataframe tbody tr th {\n",
       "        vertical-align: top;\n",
       "    }\n",
       "\n",
       "    .dataframe thead th {\n",
       "        text-align: right;\n",
       "    }\n",
       "</style>\n",
       "<table border=\"1\" class=\"dataframe\">\n",
       "  <thead>\n",
       "    <tr style=\"text-align: right;\">\n",
       "      <th></th>\n",
       "      <th>count</th>\n",
       "      <th>mean</th>\n",
       "      <th>std</th>\n",
       "      <th>min</th>\n",
       "      <th>25%</th>\n",
       "      <th>50%</th>\n",
       "      <th>75%</th>\n",
       "      <th>max</th>\n",
       "    </tr>\n",
       "  </thead>\n",
       "  <tbody>\n",
       "    <tr>\n",
       "      <th>id</th>\n",
       "      <td>7613.0</td>\n",
       "      <td>5441.934848</td>\n",
       "      <td>3137.116090</td>\n",
       "      <td>1.0</td>\n",
       "      <td>2734.0</td>\n",
       "      <td>5408.0</td>\n",
       "      <td>8146.0</td>\n",
       "      <td>10873.0</td>\n",
       "    </tr>\n",
       "    <tr>\n",
       "      <th>target</th>\n",
       "      <td>7613.0</td>\n",
       "      <td>0.429660</td>\n",
       "      <td>0.495060</td>\n",
       "      <td>0.0</td>\n",
       "      <td>0.0</td>\n",
       "      <td>0.0</td>\n",
       "      <td>1.0</td>\n",
       "      <td>1.0</td>\n",
       "    </tr>\n",
       "    <tr>\n",
       "      <th>length</th>\n",
       "      <td>7613.0</td>\n",
       "      <td>101.037436</td>\n",
       "      <td>33.781325</td>\n",
       "      <td>7.0</td>\n",
       "      <td>78.0</td>\n",
       "      <td>107.0</td>\n",
       "      <td>133.0</td>\n",
       "      <td>157.0</td>\n",
       "    </tr>\n",
       "  </tbody>\n",
       "</table>\n",
       "</div>"
      ],
      "text/plain": [
       "         count         mean          std  min     25%     50%     75%      max\n",
       "id      7613.0  5441.934848  3137.116090  1.0  2734.0  5408.0  8146.0  10873.0\n",
       "target  7613.0     0.429660     0.495060  0.0     0.0     0.0     1.0      1.0\n",
       "length  7613.0   101.037436    33.781325  7.0    78.0   107.0   133.0    157.0"
      ]
     },
     "execution_count": 30,
     "metadata": {},
     "output_type": "execute_result"
    }
   ],
   "source": [
    "train_df.describe().T"
   ]
  },
  {
   "cell_type": "code",
   "execution_count": 31,
   "metadata": {
    "execution": {
     "iopub.execute_input": "2022-09-13T04:58:17.816108Z",
     "iopub.status.busy": "2022-09-13T04:58:17.815627Z",
     "iopub.status.idle": "2022-09-13T04:58:18.472403Z",
     "shell.execute_reply": "2022-09-13T04:58:18.470807Z",
     "shell.execute_reply.started": "2022-09-13T04:58:17.816063Z"
    },
    "id": "DvVZeEAmN3kH",
    "outputId": "147e6dab-15e1-4daa-bf24-9a8177d17564"
   },
   "outputs": [
    {
     "data": {
      "text/plain": [
       "<AxesSubplot:title={'center':'Descriptive Stats of Training Dataframe'}>"
      ]
     },
     "execution_count": 31,
     "metadata": {},
     "output_type": "execute_result"
    },
    {
     "data": {
      "image/png": "[encoded data removed]",
      "text/plain": [
       "<Figure size 432x288 with 1 Axes>"
      ]
     },
     "metadata": {},
     "output_type": "display_data"
    },
    {
     "data": {
      "text/plain": [
       "<Figure size 2000x2000 with 0 Axes>"
      ]
     },
     "metadata": {},
     "output_type": "display_data"
    }
   ],
   "source": [
    "from pandas.plotting import table\n",
    "from matplotlib.pyplot import figure\n",
    "fig,ax = plt.subplots(1,1)\n",
    "ax.set_ylim([0,22000])\n",
    "plt.title(\"Descriptive Stats of Training Dataframe\")\n",
    "figure(figsize = (20,20),dpi = 100)\n",
    "table(ax,np.round(train_df.describe(),2),loc = \"upper right\",colWidths = [0.2,0.2,0.2])\n",
    "train_df.describe().plot(ax=ax,legend = None)"
   ]
  },
  {
   "cell_type": "code",
   "execution_count": 32,
   "metadata": {
    "execution": {
     "iopub.execute_input": "2022-09-13T04:58:18.475430Z",
     "iopub.status.busy": "2022-09-13T04:58:18.474519Z",
     "iopub.status.idle": "2022-09-13T04:58:18.511824Z",
     "shell.execute_reply": "2022-09-13T04:58:18.510341Z",
     "shell.execute_reply.started": "2022-09-13T04:58:18.475369Z"
    },
    "id": "OMxdao31L1vc",
    "outputId": "52ad873b-1454-4dd7-c192-fdd257672ce1"
   },
   "outputs": [
    {
     "data": {
      "text/html": [
       "<div>\n",
       "<style scoped>\n",
       "    .dataframe tbody tr th:only-of-type {\n",
       "        vertical-align: middle;\n",
       "    }\n",
       "\n",
       "    .dataframe tbody tr th {\n",
       "        vertical-align: top;\n",
       "    }\n",
       "\n",
       "    .dataframe thead th {\n",
       "        text-align: right;\n",
       "    }\n",
       "</style>\n",
       "<table border=\"1\" class=\"dataframe\">\n",
       "  <thead>\n",
       "    <tr style=\"text-align: right;\">\n",
       "      <th></th>\n",
       "      <th>count</th>\n",
       "      <th>mean</th>\n",
       "      <th>std</th>\n",
       "      <th>min</th>\n",
       "      <th>25%</th>\n",
       "      <th>50%</th>\n",
       "      <th>75%</th>\n",
       "      <th>max</th>\n",
       "    </tr>\n",
       "  </thead>\n",
       "  <tbody>\n",
       "    <tr>\n",
       "      <th>id</th>\n",
       "      <td>3263.0</td>\n",
       "      <td>5427.152927</td>\n",
       "      <td>3146.427221</td>\n",
       "      <td>0.0</td>\n",
       "      <td>2683.0</td>\n",
       "      <td>5500.0</td>\n",
       "      <td>8176.0</td>\n",
       "      <td>10875.0</td>\n",
       "    </tr>\n",
       "    <tr>\n",
       "      <th>length</th>\n",
       "      <td>3263.0</td>\n",
       "      <td>102.108183</td>\n",
       "      <td>33.972158</td>\n",
       "      <td>5.0</td>\n",
       "      <td>78.0</td>\n",
       "      <td>109.0</td>\n",
       "      <td>134.0</td>\n",
       "      <td>151.0</td>\n",
       "    </tr>\n",
       "  </tbody>\n",
       "</table>\n",
       "</div>"
      ],
      "text/plain": [
       "         count         mean          std  min     25%     50%     75%      max\n",
       "id      3263.0  5427.152927  3146.427221  0.0  2683.0  5500.0  8176.0  10875.0\n",
       "length  3263.0   102.108183    33.972158  5.0    78.0   109.0   134.0    151.0"
      ]
     },
     "execution_count": 32,
     "metadata": {},
     "output_type": "execute_result"
    }
   ],
   "source": [
    "test_df.describe().T"
   ]
  },
  {
   "cell_type": "code",
   "execution_count": 33,
   "metadata": {
    "execution": {
     "iopub.execute_input": "2022-09-13T04:58:18.514969Z",
     "iopub.status.busy": "2022-09-13T04:58:18.514086Z",
     "iopub.status.idle": "2022-09-13T04:58:19.144519Z",
     "shell.execute_reply": "2022-09-13T04:58:19.143394Z",
     "shell.execute_reply.started": "2022-09-13T04:58:18.514921Z"
    },
    "id": "uL4ynUVQQaxQ",
    "outputId": "d18de526-307c-4a00-b590-c1cbc92a3053"
   },
   "outputs": [
    {
     "data": {
      "text/plain": [
       "<AxesSubplot:title={'center':'Descriptive Stats of Testing Dataframe'}>"
      ]
     },
     "execution_count": 33,
     "metadata": {},
     "output_type": "execute_result"
    },
    {
     "data": {
      "image/png": "[encoded data removed]",
      "text/plain": [
       "<Figure size 432x288 with 1 Axes>"
      ]
     },
     "metadata": {},
     "output_type": "display_data"
    },
    {
     "data": {
      "text/plain": [
       "<Figure size 2000x2000 with 0 Axes>"
      ]
     },
     "metadata": {},
     "output_type": "display_data"
    }
   ],
   "source": [
    "fig,ax = plt.subplots(1,1)\n",
    "ax.set_ylim([0,22000])\n",
    "plt.title(\"Descriptive Stats of Testing Dataframe\")\n",
    "figure(figsize = (20,20),dpi = 100)\n",
    "table(ax,np.round(test_df.describe(),2),loc = \"upper right\",colWidths = [0.2,0.2,0.2])\n",
    "test_df.describe().plot(ax=ax,legend = None)"
   ]
  },
  {
   "cell_type": "markdown",
   "metadata": {
    "id": "rYyEBsx7QkT5"
   },
   "source": [
    "**Checking the Target Variable**"
   ]
  },
  {
   "cell_type": "markdown",
   "metadata": {
    "id": "FK7gksqOQrD9"
   },
   "source": [
    "Bar Chart for counts of Target variable in Training dataframe"
   ]
  },
  {
   "cell_type": "code",
   "execution_count": 34,
   "metadata": {
    "execution": {
     "iopub.execute_input": "2022-09-13T04:58:19.147706Z",
     "iopub.status.busy": "2022-09-13T04:58:19.146775Z",
     "iopub.status.idle": "2022-09-13T04:58:19.455666Z",
     "shell.execute_reply": "2022-09-13T04:58:19.453394Z",
     "shell.execute_reply.started": "2022-09-13T04:58:19.147647Z"
    },
    "id": "HmsiN9QBSPPz",
    "outputId": "994d7324-d8b3-4f62-a2f1-8a7db641c847"
   },
   "outputs": [
    {
     "data": {
      "text/plain": [
       "<AxesSubplot:xlabel='target', ylabel='count'>"
      ]
     },
     "execution_count": 34,
     "metadata": {},
     "output_type": "execute_result"
    },
    {
     "data": {
      "image/png": "[encoded data removed]",
      "text/plain": [
       "<Figure size 432x288 with 1 Axes>"
      ]
     },
     "metadata": {},
     "output_type": "display_data"
    }
   ],
   "source": [
    "sns.countplot(x = 'target',data = train_df)"
   ]
  },
  {
   "cell_type": "markdown",
   "metadata": {
    "id": "hE9lzYDrS2p4"
   },
   "source": [
    "Pie Distribution for Target Variable"
   ]
  },
  {
   "cell_type": "code",
   "execution_count": 35,
   "metadata": {
    "execution": {
     "iopub.execute_input": "2022-09-13T04:58:19.461649Z",
     "iopub.status.busy": "2022-09-13T04:58:19.458677Z",
     "iopub.status.idle": "2022-09-13T04:58:19.685377Z",
     "shell.execute_reply": "2022-09-13T04:58:19.682484Z",
     "shell.execute_reply.started": "2022-09-13T04:58:19.461535Z"
    },
    "id": "T455aPf3TC5a",
    "outputId": "6c40587b-50f6-4ccc-abd0-7185b63c6fde"
   },
   "outputs": [
    {
     "data": {
      "text/plain": [
       "<AxesSubplot:title={'center':'Target Distribution Pie Chart'}, ylabel='target'>"
      ]
     },
     "execution_count": 35,
     "metadata": {},
     "output_type": "execute_result"
    },
    {
     "data": {
      "image/png": "[encoded data removed]",
      "text/plain": [
       "<Figure size 432x288 with 1 Axes>"
      ]
     },
     "metadata": {},
     "output_type": "display_data"
    }
   ],
   "source": [
    "plt.title(\"Target Distribution Pie Chart\")\n",
    "train_df[\"target\"].value_counts().plot(kind=\"pie\",autopct='%.2f%%',\n",
    "    shadow=True)"
   ]
  },
  {
   "cell_type": "markdown",
   "metadata": {
    "id": "3JXncVkIUJup"
   },
   "source": [
    "**Checking the distribution of the tweet length**"
   ]
  },
  {
   "cell_type": "code",
   "execution_count": 36,
   "metadata": {
    "execution": {
     "iopub.execute_input": "2022-09-13T04:58:19.690865Z",
     "iopub.status.busy": "2022-09-13T04:58:19.689945Z",
     "iopub.status.idle": "2022-09-13T04:58:20.714962Z",
     "shell.execute_reply": "2022-09-13T04:58:20.713173Z",
     "shell.execute_reply.started": "2022-09-13T04:58:19.690783Z"
    },
    "id": "fErQXlcjTCxI",
    "outputId": "9cd7e2fe-9261-4f1f-8941-23cee5193f7e"
   },
   "outputs": [
    {
     "data": {
      "text/plain": [
       "Text(0.5, 1.0, 'Distribution of Tweet Length')"
      ]
     },
     "execution_count": 36,
     "metadata": {},
     "output_type": "execute_result"
    },
    {
     "data": {
      "image/png": "[encoded data removed]",
      "text/plain": [
       "<Figure size 402.375x360 with 1 Axes>"
      ]
     },
     "metadata": {},
     "output_type": "display_data"
    }
   ],
   "source": [
    "sns.displot(train_df,x = \"length\",kde = True,hue = \"target\")\n",
    "plt.title(\"Distribution of Tweet Length\")\n"
   ]
  },
  {
   "cell_type": "markdown",
   "metadata": {
    "id": "fBXPlm_jU3kN"
   },
   "source": [
    "As we can see from the above distribution the most length of tweets lies between the range of 130 - 140 characters."
   ]
  },
  {
   "cell_type": "markdown",
   "metadata": {
    "id": "_Z40WplCVMhJ"
   },
   "source": [
    "Displaying the top 3 tweets according to the Length "
   ]
  },
  {
   "cell_type": "code",
   "execution_count": 37,
   "metadata": {
    "execution": {
     "iopub.execute_input": "2022-09-13T04:58:20.719124Z",
     "iopub.status.busy": "2022-09-13T04:58:20.718390Z",
     "iopub.status.idle": "2022-09-13T04:58:20.732563Z",
     "shell.execute_reply": "2022-09-13T04:58:20.731238Z",
     "shell.execute_reply.started": "2022-09-13T04:58:20.719060Z"
    },
    "id": "JgL0KiFpTA4k",
    "outputId": "b395a315-d2de-42bb-aace-dcde5c8c6904"
   },
   "outputs": [
    {
     "name": "stdout",
     "output_type": "stream",
     "text": [
      "Tweet: \n",
      "when you're taking a shower and someone flushes the toilet and you have .1 second to GTFO or you get burned??????????????????????????????????????????????????\n",
      "\n",
      "Tweet: \n",
      "It's was about 2:30 in the morning&amp;I went downstairs to watch some telly&amp;I accidentally made a loud bang&amp;my dad(who has a broken leg)walked-\n",
      "\n",
      "Tweet: \n",
      "@CAgov If 90BLKs&amp;8WHTs colluded 2 take WHT F @USAgov AUTH Hostage&amp;2 make her look BLK w/Bioterrorism&amp;use her lgl/org IDis ID still hers?@VP\n",
      "\n"
     ]
    }
   ],
   "source": [
    "for tweet in train_df.sort_values(by=\"length\", ascending=False)[\"text\"][:3]:\n",
    "    print(f\"Tweet: \\n{tweet}\\n\")"
   ]
  },
  {
   "cell_type": "markdown",
   "metadata": {
    "id": "qJn_g8bsV2Te"
   },
   "source": [
    "**Checking for Unique Keywords**"
   ]
  },
  {
   "cell_type": "code",
   "execution_count": 38,
   "metadata": {
    "execution": {
     "iopub.execute_input": "2022-09-13T04:58:20.735288Z",
     "iopub.status.busy": "2022-09-13T04:58:20.734765Z",
     "iopub.status.idle": "2022-09-13T04:58:20.744697Z",
     "shell.execute_reply": "2022-09-13T04:58:20.743372Z",
     "shell.execute_reply.started": "2022-09-13T04:58:20.735230Z"
    },
    "id": "n1-F46AJS9_d",
    "outputId": "340f1cd1-aa20-42cb-9505-4b576ebe0407"
   },
   "outputs": [
    {
     "name": "stdout",
     "output_type": "stream",
     "text": [
      "The number of unique keywords in our training data : 221\n"
     ]
    }
   ],
   "source": [
    "print(\"The number of unique keywords in our training data :\",train_df['keyword'].nunique())"
   ]
  },
  {
   "cell_type": "markdown",
   "metadata": {
    "id": "MWqtdq3-WYKL"
   },
   "source": [
    "Plotting the top 10 keywords"
   ]
  },
  {
   "cell_type": "code",
   "execution_count": 39,
   "metadata": {
    "execution": {
     "iopub.execute_input": "2022-09-13T04:58:20.747705Z",
     "iopub.status.busy": "2022-09-13T04:58:20.746481Z",
     "iopub.status.idle": "2022-09-13T04:58:21.062764Z",
     "shell.execute_reply": "2022-09-13T04:58:21.061045Z",
     "shell.execute_reply.started": "2022-09-13T04:58:20.747633Z"
    },
    "id": "7PPuG2ZGWSVu",
    "outputId": "32e0fbc5-74ae-48cc-babb-fd65b4d17045"
   },
   "outputs": [
    {
     "data": {
      "image/png": "[encoded data removed]",
      "text/plain": [
       "<Figure size 864x432 with 1 Axes>"
      ]
     },
     "metadata": {},
     "output_type": "display_data"
    }
   ],
   "source": [
    "plt.figure(figsize=(12,6))\n",
    "plt.title(\"Top 10 Keywords in Train Data\")\n",
    "train_df[\"keyword\"].value_counts(ascending=True)[-10:].plot.bar(color = 'orange',rot = 0)\n",
    "plt.show()"
   ]
  },
  {
   "cell_type": "markdown",
   "metadata": {
    "id": "NzBBgGjTXd-K"
   },
   "source": [
    "**Checking the top Location Tags**"
   ]
  },
  {
   "cell_type": "code",
   "execution_count": 40,
   "metadata": {
    "execution": {
     "iopub.execute_input": "2022-09-13T04:58:21.065566Z",
     "iopub.status.busy": "2022-09-13T04:58:21.065114Z",
     "iopub.status.idle": "2022-09-13T04:58:21.372451Z",
     "shell.execute_reply": "2022-09-13T04:58:21.370747Z",
     "shell.execute_reply.started": "2022-09-13T04:58:21.065522Z"
    },
    "id": "x5xu1XPzXi61",
    "outputId": "0d1fbf24-e1c2-47f3-bc08-70d232cff973"
   },
   "outputs": [
    {
     "data": {
      "image/png": "[encoded data removed]",
      "text/plain": [
       "<Figure size 864x432 with 1 Axes>"
      ]
     },
     "metadata": {},
     "output_type": "display_data"
    }
   ],
   "source": [
    "plt.figure(figsize=(12,6))\n",
    "plt.title(\"Top 10 Locations in Train Data\")\n",
    "train_df[\"location\"].value_counts(ascending=True)[-10:].plot.bar(color = 'blue',rot = 0)\n",
    "plt.show()"
   ]
  },
  {
   "cell_type": "markdown",
   "metadata": {
    "id": "qz43Pg3Hbf8E"
   },
   "source": [
    "\n",
    "*   The locations are not proper, some are countries, some are states and some are cities.\n",
    "*   Most tweets are sent form the USA\n",
    "*   Presence of 3341 unique locations in our data\n",
    "\n"
   ]
  },
  {
   "cell_type": "markdown",
   "metadata": {
    "id": "qZ8bKt0yYNKz"
   },
   "source": [
    "**Presence of Special Characters**\n",
    "\n",
    "Identifying the Special Characters in tweets using a simple lambda function comprising of Regular expressions"
   ]
  },
  {
   "cell_type": "code",
   "execution_count": 41,
   "metadata": {
    "execution": {
     "iopub.execute_input": "2022-09-13T04:58:21.377005Z",
     "iopub.status.busy": "2022-09-13T04:58:21.376314Z",
     "iopub.status.idle": "2022-09-13T04:58:21.384200Z",
     "shell.execute_reply": "2022-09-13T04:58:21.382637Z",
     "shell.execute_reply.started": "2022-09-13T04:58:21.376941Z"
    },
    "id": "Dzac3qDDYarR"
   },
   "outputs": [],
   "source": [
    "import re"
   ]
  },
  {
   "cell_type": "code",
   "execution_count": 42,
   "metadata": {
    "execution": {
     "iopub.execute_input": "2022-09-13T04:58:21.386684Z",
     "iopub.status.busy": "2022-09-13T04:58:21.386186Z",
     "iopub.status.idle": "2022-09-13T04:58:21.473991Z",
     "shell.execute_reply": "2022-09-13T04:58:21.472541Z",
     "shell.execute_reply.started": "2022-09-13T04:58:21.386634Z"
    },
    "id": "kFd5MJK2YROG"
   },
   "outputs": [],
   "source": [
    "train_df[\"spec_char\"] = train_df[\"text\"].map(lambda x: len(re.findall(r\"[\\W_]\", re.sub(r\"\\s\", \"\", x))))"
   ]
  },
  {
   "cell_type": "markdown",
   "metadata": {
    "id": "FEDvsNT2ZHDu"
   },
   "source": [
    "Defining a bins using the unique count for special charcters"
   ]
  },
  {
   "cell_type": "code",
   "execution_count": 43,
   "metadata": {
    "execution": {
     "iopub.execute_input": "2022-09-13T04:58:21.476844Z",
     "iopub.status.busy": "2022-09-13T04:58:21.476212Z",
     "iopub.status.idle": "2022-09-13T04:58:21.487069Z",
     "shell.execute_reply": "2022-09-13T04:58:21.484675Z",
     "shell.execute_reply.started": "2022-09-13T04:58:21.476781Z"
    },
    "id": "U17ZGA0DZG4N"
   },
   "outputs": [],
   "source": [
    "bins = train_df[\"spec_char\"].nunique()"
   ]
  },
  {
   "cell_type": "code",
   "execution_count": 44,
   "metadata": {
    "execution": {
     "iopub.execute_input": "2022-09-13T04:58:21.492899Z",
     "iopub.status.busy": "2022-09-13T04:58:21.491518Z",
     "iopub.status.idle": "2022-09-13T04:58:22.517033Z",
     "shell.execute_reply": "2022-09-13T04:58:22.515548Z",
     "shell.execute_reply.started": "2022-09-13T04:58:21.492825Z"
    },
    "id": "yzEWYmpDYo6b",
    "outputId": "3039eb81-e488-46a4-9f80-ec5ef50895cf"
   },
   "outputs": [
    {
     "data": {
      "text/plain": [
       "Text(0.5, 1.0, 'Distribution for Special Characters in Tweets')"
      ]
     },
     "execution_count": 44,
     "metadata": {},
     "output_type": "execute_result"
    },
    {
     "data": {
      "image/png": "[encoded data removed]",
      "text/plain": [
       "<Figure size 402.375x360 with 1 Axes>"
      ]
     },
     "metadata": {},
     "output_type": "display_data"
    }
   ],
   "source": [
    "sns.displot(data = train_df,x = \"spec_char\",kde = True,hue = \"target\",bins = bins)\n",
    "plt.title(\"Distribution for Special Characters in Tweets\")"
   ]
  },
  {
   "cell_type": "markdown",
   "metadata": {
    "id": "k4hQgzabZ30Z"
   },
   "source": [
    "The distribution above shows us the most of tweets have les  than 20 special characters."
   ]
  },
  {
   "cell_type": "code",
   "execution_count": 45,
   "metadata": {
    "execution": {
     "iopub.execute_input": "2022-09-13T04:58:22.519354Z",
     "iopub.status.busy": "2022-09-13T04:58:22.518931Z",
     "iopub.status.idle": "2022-09-13T04:58:22.528128Z",
     "shell.execute_reply": "2022-09-13T04:58:22.526381Z",
     "shell.execute_reply.started": "2022-09-13T04:58:22.519312Z"
    },
    "id": "x_beQVdjZY6S",
    "outputId": "2fe44fd5-93ee-4b5f-e0e3-ee3bfcf53ed7"
   },
   "outputs": [
    {
     "name": "stdout",
     "output_type": "stream",
     "text": [
      "Minimum special characters in a tweet : 0\n",
      "Maximum special characters in a tweet : 61\n"
     ]
    }
   ],
   "source": [
    "print(\"Minimum special characters in a tweet :\",train_df['spec_char'].min())\n",
    "print(\"Maximum special characters in a tweet :\",train_df['spec_char'].max())"
   ]
  },
  {
   "cell_type": "markdown",
   "metadata": {
    "id": "ja52hK-bZv8B"
   },
   "source": [
    "So we can observe either a tweet can have no special character or atmost 61 special charcters in it!"
   ]
  },
  {
   "cell_type": "markdown",
   "metadata": {
    "id": "TXER4TFUaJR7"
   },
   "source": [
    "**Tweet word counts**\n",
    "\n",
    "Note - This does not include the ones with special characters in them."
   ]
  },
  {
   "cell_type": "code",
   "execution_count": 46,
   "metadata": {
    "execution": {
     "iopub.execute_input": "2022-09-13T04:58:22.530529Z",
     "iopub.status.busy": "2022-09-13T04:58:22.529985Z",
     "iopub.status.idle": "2022-09-13T04:58:22.619245Z",
     "shell.execute_reply": "2022-09-13T04:58:22.617669Z",
     "shell.execute_reply.started": "2022-09-13T04:58:22.530486Z"
    },
    "id": "L2NkfKdSaT6L"
   },
   "outputs": [],
   "source": [
    "train_df[\"word_count\"] = train_df[\"text\"].apply(lambda x: len(re.sub(r\"[\\W_]\", \" \", x).split()))"
   ]
  },
  {
   "cell_type": "code",
   "execution_count": 47,
   "metadata": {
    "execution": {
     "iopub.execute_input": "2022-09-13T04:58:22.622032Z",
     "iopub.status.busy": "2022-09-13T04:58:22.621289Z",
     "iopub.status.idle": "2022-09-13T04:58:22.631460Z",
     "shell.execute_reply": "2022-09-13T04:58:22.630173Z",
     "shell.execute_reply.started": "2022-09-13T04:58:22.621970Z"
    },
    "id": "qblC41mqa3h0",
    "outputId": "38bcbe03-35ad-4987-9554-c5a52707e764"
   },
   "outputs": [
    {
     "name": "stdout",
     "output_type": "stream",
     "text": [
      "Minimum Words in a tweet : 1\n",
      "Maximum Words in a tweet : 34\n"
     ]
    }
   ],
   "source": [
    "print(\"Minimum Words in a tweet :\",train_df['word_count'].min())\n",
    "print(\"Maximum Words in a tweet :\",train_df['word_count'].max())"
   ]
  },
  {
   "cell_type": "markdown",
   "metadata": {
    "id": "w-XvX-Eha4Qx"
   },
   "source": [
    "We can see that the least number of words in a tweet is 1 and highest is 34."
   ]
  },
  {
   "cell_type": "markdown",
   "metadata": {
    "id": "v_TPQftRao6Y"
   },
   "source": [
    "Defining bins using the unique word count"
   ]
  },
  {
   "cell_type": "code",
   "execution_count": 48,
   "metadata": {
    "execution": {
     "iopub.execute_input": "2022-09-13T04:58:22.633583Z",
     "iopub.status.busy": "2022-09-13T04:58:22.633048Z",
     "iopub.status.idle": "2022-09-13T04:58:22.646267Z",
     "shell.execute_reply": "2022-09-13T04:58:22.644935Z",
     "shell.execute_reply.started": "2022-09-13T04:58:22.633535Z"
    },
    "id": "GwSabSg9aslm"
   },
   "outputs": [],
   "source": [
    "bins = train_df[\"word_count\"].nunique()"
   ]
  },
  {
   "cell_type": "code",
   "execution_count": 49,
   "metadata": {
    "execution": {
     "iopub.execute_input": "2022-09-13T04:58:22.648117Z",
     "iopub.status.busy": "2022-09-13T04:58:22.647652Z",
     "iopub.status.idle": "2022-09-13T04:58:23.382857Z",
     "shell.execute_reply": "2022-09-13T04:58:23.381372Z",
     "shell.execute_reply.started": "2022-09-13T04:58:22.648072Z"
    },
    "id": "Yb05riH2abJS",
    "outputId": "2976aeae-6a9e-494c-f7c4-df9ac996dc3b"
   },
   "outputs": [
    {
     "data": {
      "image/png": "[encoded data removed]",
      "text/plain": [
       "<Figure size 402.375x360 with 1 Axes>"
      ]
     },
     "metadata": {},
     "output_type": "display_data"
    }
   ],
   "source": [
    "sns.displot(data=train_df, x=\"word_count\", kde=True, hue=\"target\", bins=bins)\n",
    "plt.title(\"Distribution of tweet word count\")\n",
    "plt.show()"
   ]
  },
  {
   "cell_type": "markdown",
   "metadata": {
    "id": "gBVQ7bNTbKxW"
   },
   "source": [
    "We can observe from the above distribution that tweets in general have a word count between the range of 15 - 25."
   ]
  },
  {
   "cell_type": "markdown",
   "metadata": {
    "id": "RQLlrQsRbzs1"
   },
   "source": [
    "**Inferences from EDA**\n",
    "\n",
    "\n",
    "\n",
    "*   Tweets have no standard format.\n",
    "*   There are many symbols in tweets.\n",
    "*   There are several special characters in tweets.\n",
    "*   There are certain abbreviations.\n",
    "*   Tweets also contain HTML links.\n",
    "*   Tweets are duplicates, the only difference is accounts are different.\n",
    "*   Some tweets have URLs.\n",
    "*   Tweets show presence of URLs.\n",
    "\n"
   ]
  },
  {
   "cell_type": "markdown",
   "metadata": {
    "id": "Q-Leji2RcppQ"
   },
   "source": [
    "**To deal with the aforementioned problems we move to data cleaning**"
   ]
  },
  {
   "cell_type": "markdown",
   "metadata": {
    "id": "L9-8nYtTcmtR"
   },
   "source": [
    "# Data Cleaning\n",
    "\n",
    "A step that is a precursor to Modelling."
   ]
  },
  {
   "cell_type": "markdown",
   "metadata": {
    "id": "GKLMSVePlnhy"
   },
   "source": [
    "Examples of all the techniques employed in the above function."
   ]
  },
  {
   "cell_type": "markdown",
   "metadata": {
    "id": "vs6U4ZLUerjv"
   },
   "source": [
    "**Deleting Duplicates**\n",
    "\n",
    "Earlier it was pointed out that that in duplicate tweets some of them had different target values. \n",
    "\n",
    "Deleting the duplicate data because the first data seems to have the right value"
   ]
  },
  {
   "cell_type": "code",
   "execution_count": 50,
   "metadata": {
    "execution": {
     "iopub.execute_input": "2022-09-13T04:58:23.386104Z",
     "iopub.status.busy": "2022-09-13T04:58:23.384999Z",
     "iopub.status.idle": "2022-09-13T04:58:23.393087Z",
     "shell.execute_reply": "2022-09-13T04:58:23.391540Z",
     "shell.execute_reply.started": "2022-09-13T04:58:23.386049Z"
    },
    "id": "uLxc0JKVeq6J",
    "outputId": "aa201eef-457a-47e2-85f9-5f591f866687"
   },
   "outputs": [
    {
     "name": "stdout",
     "output_type": "stream",
     "text": [
      "Number of observations in our training data before dropping duplicates : 7613\n"
     ]
    }
   ],
   "source": [
    "print(\"Number of observations in our training data before dropping duplicates :\",train_df.shape[0])"
   ]
  },
  {
   "cell_type": "code",
   "execution_count": 51,
   "metadata": {
    "execution": {
     "iopub.execute_input": "2022-09-13T04:58:23.396562Z",
     "iopub.status.busy": "2022-09-13T04:58:23.395688Z",
     "iopub.status.idle": "2022-09-13T04:58:23.414237Z",
     "shell.execute_reply": "2022-09-13T04:58:23.412632Z",
     "shell.execute_reply.started": "2022-09-13T04:58:23.396483Z"
    },
    "id": "43tNGNEGfCx_"
   },
   "outputs": [],
   "source": [
    "train_df = train_df.drop_duplicates(subset=\"text\", keep=\"first\").reset_index(drop=True)"
   ]
  },
  {
   "cell_type": "code",
   "execution_count": 52,
   "metadata": {
    "execution": {
     "iopub.execute_input": "2022-09-13T04:58:23.417543Z",
     "iopub.status.busy": "2022-09-13T04:58:23.416912Z",
     "iopub.status.idle": "2022-09-13T04:58:23.425959Z",
     "shell.execute_reply": "2022-09-13T04:58:23.424250Z",
     "shell.execute_reply.started": "2022-09-13T04:58:23.417483Z"
    },
    "id": "wxmVAuQcfHHi",
    "outputId": "99657fa2-f88d-462e-9ca1-7091219ec1f4"
   },
   "outputs": [
    {
     "name": "stdout",
     "output_type": "stream",
     "text": [
      "Number of observations in our training data after dropping duplicates : 7503\n"
     ]
    }
   ],
   "source": [
    "print(\"Number of observations in our training data after dropping duplicates :\",train_df.shape[0])"
   ]
  },
  {
   "cell_type": "markdown",
   "metadata": {
    "id": "aJ1nndMgdvJa"
   },
   "source": [
    "**Lowercase conversion**\n",
    "\n",
    "This ensures uniform format\n",
    "\n",
    "*Note - We will be using the example of Tweet with id 222 throughout*"
   ]
  },
  {
   "cell_type": "code",
   "execution_count": 53,
   "metadata": {
    "execution": {
     "iopub.execute_input": "2022-09-13T04:58:23.429029Z",
     "iopub.status.busy": "2022-09-13T04:58:23.428411Z",
     "iopub.status.idle": "2022-09-13T04:58:23.441176Z",
     "shell.execute_reply": "2022-09-13T04:58:23.439907Z",
     "shell.execute_reply.started": "2022-09-13T04:58:23.428968Z"
    },
    "id": "aro7b7bRdF0d",
    "outputId": "ba6c96cf-883d-412b-ae80-0dab1e6dfb1d"
   },
   "outputs": [
    {
     "name": "stdout",
     "output_type": "stream",
     "text": [
      "Before:\n",
      "Pilot Dies In Plane Crash At Car Festival https://t.co/kQ9aE6AP2B via @YouTube #Crash #Aircraft #Airplane #Pilot #Death #Accident #CarFest\n",
      "\n",
      "After:\n",
      "pilot dies in plane crash at car festival https://t.co/kq9ae6ap2b via @youtube #crash #aircraft #airplane #pilot #death #accident #carfest\n"
     ]
    }
   ],
   "source": [
    "tweet = train_df.loc[train_df[\"id\"]==222, \"text\"].values[0]\n",
    "print(f\"Before:\\n{tweet}\\n\")\n",
    "\n",
    "tweet = tweet.lower()\n",
    "print(f\"After:\\n{tweet}\")"
   ]
  },
  {
   "cell_type": "markdown",
   "metadata": {
    "id": "DBisG53PeJJM"
   },
   "source": [
    "**Getting rid of Mentions**"
   ]
  },
  {
   "cell_type": "code",
   "execution_count": 54,
   "metadata": {
    "execution": {
     "iopub.execute_input": "2022-09-13T04:58:23.443460Z",
     "iopub.status.busy": "2022-09-13T04:58:23.442977Z",
     "iopub.status.idle": "2022-09-13T04:58:23.455650Z",
     "shell.execute_reply": "2022-09-13T04:58:23.454134Z",
     "shell.execute_reply.started": "2022-09-13T04:58:23.443412Z"
    },
    "id": "Dh-mHapSeOKn",
    "outputId": "b4565f5d-a9f4-43fb-ddf3-76dcd56c4537"
   },
   "outputs": [
    {
     "name": "stdout",
     "output_type": "stream",
     "text": [
      "Before:\n",
      "pilot dies in plane crash at car festival https://t.co/kq9ae6ap2b via @youtube #crash #aircraft #airplane #pilot #death #accident #carfest\n",
      "\n",
      "After:\n",
      "pilot dies in plane crash at car festival https://t.co/kq9ae6ap2b via   #crash #aircraft #airplane #pilot #death #accident #carfest\n"
     ]
    }
   ],
   "source": [
    "print(f\"Before:\\n{tweet}\\n\")\n",
    "tweet = re.sub(r\"@\\S+\", \" \", tweet)\n",
    "print(f\"After:\\n{tweet}\")"
   ]
  },
  {
   "cell_type": "markdown",
   "metadata": {
    "id": "SXwFGW2Iecx7"
   },
   "source": [
    "**Removing URLs**"
   ]
  },
  {
   "cell_type": "code",
   "execution_count": 55,
   "metadata": {
    "execution": {
     "iopub.execute_input": "2022-09-13T04:58:23.458300Z",
     "iopub.status.busy": "2022-09-13T04:58:23.457910Z",
     "iopub.status.idle": "2022-09-13T04:58:23.471412Z",
     "shell.execute_reply": "2022-09-13T04:58:23.469902Z",
     "shell.execute_reply.started": "2022-09-13T04:58:23.458266Z"
    },
    "id": "mica6Wgvei8m",
    "outputId": "e53ae4cb-d7ab-48e9-e5c2-e8b2be47fef7"
   },
   "outputs": [
    {
     "name": "stdout",
     "output_type": "stream",
     "text": [
      "Before:\n",
      "Pilot Dies In Plane Crash At Car Festival https://t.co/kQ9aE6AP2B via @YouTube #Crash #Aircraft #Airplane #Pilot #Death #Accident #CarFest\n",
      "\n",
      "After:\n",
      "Pilot Dies In Plane Crash At Car Festival   via @YouTube #Crash #Aircraft #Airplane #Pilot #Death #Accident #CarFest\n"
     ]
    }
   ],
   "source": [
    "tweet = train_df.loc[train_df[\"id\"]==222, \"text\"].values[0]\n",
    "print(f\"Before:\\n{tweet}\\n\")\n",
    "\n",
    "tweet = re.sub(r\"https?://\\S+|www\\.\\S+\", \" \", tweet)\n",
    "print(f\"After:\\n{tweet}\")"
   ]
  },
  {
   "cell_type": "markdown",
   "metadata": {
    "id": "Xvjyiy-QejHK"
   },
   "source": [
    "**Removing HTML Tags**"
   ]
  },
  {
   "cell_type": "code",
   "execution_count": 56,
   "metadata": {
    "execution": {
     "iopub.execute_input": "2022-09-13T04:58:23.473785Z",
     "iopub.status.busy": "2022-09-13T04:58:23.473244Z",
     "iopub.status.idle": "2022-09-13T04:58:23.487760Z",
     "shell.execute_reply": "2022-09-13T04:58:23.485944Z",
     "shell.execute_reply.started": "2022-09-13T04:58:23.473738Z"
    },
    "id": "Wk6EuWyLenrf",
    "outputId": "13c448af-67de-4e6d-cf03-2eb657b0c4aa"
   },
   "outputs": [
    {
     "name": "stdout",
     "output_type": "stream",
     "text": [
      "Before:\n",
      "Pilot Dies In Plane Crash At Car Festival   via @YouTube #Crash #Aircraft #Airplane #Pilot #Death #Accident #CarFest\n",
      "\n",
      "After:\n",
      "Pilot Dies In Plane Crash At Car Festival   via @YouTube #Crash #Aircraft #Airplane #Pilot #Death #Accident #CarFest\n"
     ]
    }
   ],
   "source": [
    "print(f\"Before:\\n{tweet}\\n\")\n",
    "tweet = re.sub(r\"&.*?;|<.*?>\", \" \", tweet)\n",
    "print(f\"After:\\n{tweet}\")"
   ]
  },
  {
   "cell_type": "markdown",
   "metadata": {
    "id": "mvl_O5BkgJyj"
   },
   "source": [
    "**Handling Abbreviations**\n",
    "\n",
    "Presence of abbreviations was detected hence we need to convert them into full words.\n",
    "\n",
    "The reference to the next step has been the following notebook- \n",
    "\n",
    "Thanks to https://www.kaggle.com/rftexas/text-only-kfold-bert"
   ]
  },
  {
   "cell_type": "code",
   "execution_count": 57,
   "metadata": {
    "execution": {
     "iopub.execute_input": "2022-09-13T04:58:23.490693Z",
     "iopub.status.busy": "2022-09-13T04:58:23.490182Z",
     "iopub.status.idle": "2022-09-13T04:58:23.525373Z",
     "shell.execute_reply": "2022-09-13T04:58:23.523982Z",
     "shell.execute_reply.started": "2022-09-13T04:58:23.490629Z"
    },
    "id": "xasgqqengI0I"
   },
   "outputs": [],
   "source": [
    "abbreviations = {\n",
    "    \"$\" : \" dollar \",\n",
    "    \"€\" : \" euro \",\n",
    "    \"4ao\" : \"for adults only\",\n",
    "    \"a.m\" : \"before midday\",\n",
    "    \"a3\" : \"anytime anywhere anyplace\",\n",
    "    \"aamof\" : \"as a matter of fact\",\n",
    "    \"acct\" : \"account\",\n",
    "    \"adih\" : \"another day in hell\",\n",
    "    \"afaic\" : \"as far as i am concerned\",\n",
    "    \"afaict\" : \"as far as i can tell\",\n",
    "    \"afaik\" : \"as far as i know\",\n",
    "    \"afair\" : \"as far as i remember\",\n",
    "    \"afk\" : \"away from keyboard\",\n",
    "    \"app\" : \"application\",\n",
    "    \"approx\" : \"approximately\",\n",
    "    \"apps\" : \"applications\",\n",
    "    \"asap\" : \"as soon as possible\",\n",
    "    \"asl\" : \"age, sex, location\",\n",
    "    \"atk\" : \"at the keyboard\",\n",
    "    \"ave.\" : \"avenue\",\n",
    "    \"aymm\" : \"are you my mother\",\n",
    "    \"ayor\" : \"at your own risk\", \n",
    "    \"b&b\" : \"bed and breakfast\",\n",
    "    \"b+b\" : \"bed and breakfast\",\n",
    "    \"b.c\" : \"before christ\",\n",
    "    \"b2b\" : \"business to business\",\n",
    "    \"b2c\" : \"business to customer\",\n",
    "    \"b4\" : \"before\",\n",
    "    \"b4n\" : \"bye for now\",\n",
    "    \"b@u\" : \"back at you\",\n",
    "    \"bae\" : \"before anyone else\",\n",
    "    \"bak\" : \"back at keyboard\",\n",
    "    \"bbbg\" : \"bye bye be good\",\n",
    "    \"bbc\" : \"british broadcasting corporation\",\n",
    "    \"bbias\" : \"be back in a second\",\n",
    "    \"bbl\" : \"be back later\",\n",
    "    \"bbs\" : \"be back soon\",\n",
    "    \"be4\" : \"before\",\n",
    "    \"bfn\" : \"bye for now\",\n",
    "    \"blvd\" : \"boulevard\",\n",
    "    \"bout\" : \"about\",\n",
    "    \"brb\" : \"be right back\",\n",
    "    \"bros\" : \"brothers\",\n",
    "    \"brt\" : \"be right there\",\n",
    "    \"bsaaw\" : \"big smile and a wink\",\n",
    "    \"btw\" : \"by the way\",\n",
    "    \"bwl\" : \"bursting with laughter\",\n",
    "    \"c/o\" : \"care of\",\n",
    "    \"cet\" : \"central european time\",\n",
    "    \"cf\" : \"compare\",\n",
    "    \"cia\" : \"central intelligence agency\",\n",
    "    \"csl\" : \"can not stop laughing\",\n",
    "    \"cu\" : \"see you\",\n",
    "    \"cul8r\" : \"see you later\",\n",
    "    \"cv\" : \"curriculum vitae\",\n",
    "    \"cwot\" : \"complete waste of time\",\n",
    "    \"cya\" : \"see you\",\n",
    "    \"cyt\" : \"see you tomorrow\",\n",
    "    \"dae\" : \"does anyone else\",\n",
    "    \"dbmib\" : \"do not bother me i am busy\",\n",
    "    \"diy\" : \"do it yourself\",\n",
    "    \"dm\" : \"direct message\",\n",
    "    \"dwh\" : \"during work hours\",\n",
    "    \"e123\" : \"easy as one two three\",\n",
    "    \"eet\" : \"eastern european time\",\n",
    "    \"eg\" : \"example\",\n",
    "    \"embm\" : \"early morning business meeting\",\n",
    "    \"encl\" : \"enclosed\",\n",
    "    \"encl.\" : \"enclosed\",\n",
    "    \"etc\" : \"and so on\",\n",
    "    \"faq\" : \"frequently asked questions\",\n",
    "    \"fawc\" : \"for anyone who cares\",\n",
    "    \"fb\" : \"facebook\",\n",
    "    \"fc\" : \"fingers crossed\",\n",
    "    \"fig\" : \"figure\",\n",
    "    \"fimh\" : \"forever in my heart\", \n",
    "    \"ft.\" : \"feet\",\n",
    "    \"ft\" : \"featuring\",\n",
    "    \"ftl\" : \"for the loss\",\n",
    "    \"ftw\" : \"for the win\",\n",
    "    \"fwiw\" : \"for what it is worth\",\n",
    "    \"fyi\" : \"for your information\",\n",
    "    \"g9\" : \"genius\",\n",
    "    \"gahoy\" : \"get a hold of yourself\",\n",
    "    \"gal\" : \"get a life\",\n",
    "    \"gcse\" : \"general certificate of secondary education\",\n",
    "    \"gfn\" : \"gone for now\",\n",
    "    \"gg\" : \"good game\",\n",
    "    \"gl\" : \"good luck\",\n",
    "    \"glhf\" : \"good luck have fun\",\n",
    "    \"gmt\" : \"greenwich mean time\",\n",
    "    \"gmta\" : \"great minds think alike\",\n",
    "    \"gn\" : \"good night\",\n",
    "    \"g.o.a.t\" : \"greatest of all time\",\n",
    "    \"goat\" : \"greatest of all time\",\n",
    "    \"goi\" : \"get over it\",\n",
    "    \"gps\" : \"global positioning system\",\n",
    "    \"gr8\" : \"great\",\n",
    "    \"gratz\" : \"congratulations\",\n",
    "    \"gyal\" : \"girl\",\n",
    "    \"h&c\" : \"hot and cold\",\n",
    "    \"hp\" : \"horsepower\",\n",
    "    \"hr\" : \"hour\",\n",
    "    \"hrh\" : \"his royal highness\",\n",
    "    \"ht\" : \"height\",\n",
    "    \"ibrb\" : \"i will be right back\",\n",
    "    \"ic\" : \"i see\",\n",
    "    \"icq\" : \"i seek you\",\n",
    "    \"icymi\" : \"in case you missed it\",\n",
    "    \"idc\" : \"i do not care\",\n",
    "    \"idgadf\" : \"i do not give a damn fuck\",\n",
    "    \"idgaf\" : \"i do not give a fuck\",\n",
    "    \"idk\" : \"i do not know\",\n",
    "    \"ie\" : \"that is\",\n",
    "    \"i.e\" : \"that is\",\n",
    "    \"ifyp\" : \"i feel your pain\",\n",
    "    \"ig\" : \"instagram\",\n",
    "    \"iirc\" : \"if i remember correctly\",\n",
    "    \"ilu\" : \"i love you\",\n",
    "    \"ily\" : \"i love you\",\n",
    "    \"imho\" : \"in my humble opinion\",\n",
    "    \"imo\" : \"in my opinion\",\n",
    "    \"imu\" : \"i miss you\",\n",
    "    \"iow\" : \"in other words\",\n",
    "    \"irl\" : \"in real life\",\n",
    "    \"j4f\" : \"just for fun\",\n",
    "    \"jic\" : \"just in case\",\n",
    "    \"jk\" : \"just kidding\",\n",
    "    \"jsyk\" : \"just so you know\",\n",
    "    \"l8r\" : \"later\",\n",
    "    \"lb\" : \"pound\",\n",
    "    \"lbs\" : \"pounds\",\n",
    "    \"ldr\" : \"long distance relationship\",\n",
    "    \"lmao\" : \"laugh my ass off\",\n",
    "    \"lmfao\" : \"laugh my fucking ass off\",\n",
    "    \"lol\" : \"laughing out loud\",\n",
    "    \"ltd\" : \"limited\",\n",
    "    \"ltns\" : \"long time no see\",\n",
    "    \"m8\" : \"mate\",\n",
    "    \"mf\" : \"motherfucker\",\n",
    "    \"mfs\" : \"motherfuckers\",\n",
    "    \"mfw\" : \"my face when\",\n",
    "    \"mofo\" : \"motherfucker\",\n",
    "    \"mph\" : \"miles per hour\",\n",
    "    \"mr\" : \"mister\",\n",
    "    \"mrw\" : \"my reaction when\",\n",
    "    \"ms\" : \"miss\",\n",
    "    \"mte\" : \"my thoughts exactly\",\n",
    "    \"nagi\" : \"not a good idea\",\n",
    "    \"nbc\" : \"national broadcasting company\",\n",
    "    \"nbd\" : \"not big deal\",\n",
    "    \"nfs\" : \"not for sale\",\n",
    "    \"ngl\" : \"not going to lie\",\n",
    "    \"nhs\" : \"national health service\",\n",
    "    \"nrn\" : \"no reply necessary\",\n",
    "    \"nsfl\" : \"not safe for life\",\n",
    "    \"nsfw\" : \"not safe for work\",\n",
    "    \"nth\" : \"nice to have\",\n",
    "    \"nvr\" : \"never\",\n",
    "    \"nyc\" : \"new york city\",\n",
    "    \"oc\" : \"original content\",\n",
    "    \"og\" : \"original\",\n",
    "    \"ohp\" : \"overhead projector\",\n",
    "    \"oic\" : \"oh i see\",\n",
    "    \"omdb\" : \"over my dead body\",\n",
    "    \"omg\" : \"oh my god\",\n",
    "    \"omw\" : \"on my way\",\n",
    "    \"p.a\" : \"per annum\",\n",
    "    \"p.m\" : \"after midday\",\n",
    "    \"pm\" : \"prime minister\",\n",
    "    \"poc\" : \"people of color\",\n",
    "    \"pov\" : \"point of view\",\n",
    "    \"pp\" : \"pages\",\n",
    "    \"ppl\" : \"people\",\n",
    "    \"prw\" : \"parents are watching\",\n",
    "    \"ps\" : \"postscript\",\n",
    "    \"pt\" : \"point\",\n",
    "    \"ptb\" : \"please text back\",\n",
    "    \"pto\" : \"please turn over\",\n",
    "    \"qpsa\" : \"what happens\", #\"que pasa\",\n",
    "    \"ratchet\" : \"rude\",\n",
    "    \"rbtl\" : \"read between the lines\",\n",
    "    \"rlrt\" : \"real life retweet\", \n",
    "    \"rofl\" : \"rolling on the floor laughing\",\n",
    "    \"roflol\" : \"rolling on the floor laughing out loud\",\n",
    "    \"rotflmao\" : \"rolling on the floor laughing my ass off\",\n",
    "    \"rt\" : \"retweet\",\n",
    "    \"ruok\" : \"are you ok\",\n",
    "    \"sfw\" : \"safe for work\",\n",
    "    \"sk8\" : \"skate\",\n",
    "    \"smh\" : \"shake my head\",\n",
    "    \"sq\" : \"square\",\n",
    "    \"srsly\" : \"seriously\", \n",
    "    \"ssdd\" : \"same stuff different day\",\n",
    "    \"tbh\" : \"to be honest\",\n",
    "    \"tbs\" : \"tablespooful\",\n",
    "    \"tbsp\" : \"tablespooful\",\n",
    "    \"tfw\" : \"that feeling when\",\n",
    "    \"thks\" : \"thank you\",\n",
    "    \"tho\" : \"though\",\n",
    "    \"thx\" : \"thank you\",\n",
    "    \"tia\" : \"thanks in advance\",\n",
    "    \"til\" : \"today i learned\",\n",
    "    \"tl;dr\" : \"too long i did not read\",\n",
    "    \"tldr\" : \"too long i did not read\",\n",
    "    \"tmb\" : \"tweet me back\",\n",
    "    \"tntl\" : \"trying not to laugh\",\n",
    "    \"ttyl\" : \"talk to you later\",\n",
    "    \"u\" : \"you\",\n",
    "    \"u2\" : \"you too\",\n",
    "    \"u4e\" : \"yours for ever\",\n",
    "    \"utc\" : \"coordinated universal time\",\n",
    "    \"w/\" : \"with\",\n",
    "    \"w/o\" : \"without\",\n",
    "    \"w8\" : \"wait\",\n",
    "    \"wassup\" : \"what is up\",\n",
    "    \"wb\" : \"welcome back\",\n",
    "    \"wtf\" : \"what the fuck\",\n",
    "    \"wtg\" : \"way to go\",\n",
    "    \"wtpa\" : \"where the party at\",\n",
    "    \"wuf\" : \"where are you from\",\n",
    "    \"wuzup\" : \"what is up\",\n",
    "    \"wywh\" : \"wish you were here\",\n",
    "    \"yd\" : \"yard\",\n",
    "    \"ygtr\" : \"you got that right\",\n",
    "    \"ynk\" : \"you never know\",\n",
    "    \"zzz\" : \"sleeping bored and tired\"\n",
    "}"
   ]
  },
  {
   "cell_type": "markdown",
   "metadata": {
    "id": "MBXkyQqbgmvY"
   },
   "source": [
    "Defining a custom function to deal with abbreviations"
   ]
  },
  {
   "cell_type": "code",
   "execution_count": 58,
   "metadata": {
    "execution": {
     "iopub.execute_input": "2022-09-13T04:58:23.528271Z",
     "iopub.status.busy": "2022-09-13T04:58:23.527793Z",
     "iopub.status.idle": "2022-09-13T04:58:23.889126Z",
     "shell.execute_reply": "2022-09-13T04:58:23.887625Z",
     "shell.execute_reply.started": "2022-09-13T04:58:23.528230Z"
    },
    "id": "DVzmT8MFg4bW"
   },
   "outputs": [],
   "source": [
    "from nltk.tokenize import word_tokenize\n"
   ]
  },
  {
   "cell_type": "code",
   "execution_count": 59,
   "metadata": {
    "execution": {
     "iopub.execute_input": "2022-09-13T04:58:23.891830Z",
     "iopub.status.busy": "2022-09-13T04:58:23.891209Z",
     "iopub.status.idle": "2022-09-13T04:58:23.901263Z",
     "shell.execute_reply": "2022-09-13T04:58:23.899468Z",
     "shell.execute_reply.started": "2022-09-13T04:58:23.891771Z"
    },
    "id": "ENt8tvCNgmbU"
   },
   "outputs": [],
   "source": [
    "def convert_abbrev(word):\n",
    "    return abbreviations[word.lower()] if word.lower() in abbreviations.keys() else word\n"
   ]
  },
  {
   "cell_type": "code",
   "execution_count": 60,
   "metadata": {
    "execution": {
     "iopub.execute_input": "2022-09-13T04:58:23.903650Z",
     "iopub.status.busy": "2022-09-13T04:58:23.903163Z",
     "iopub.status.idle": "2022-09-13T04:58:23.916595Z",
     "shell.execute_reply": "2022-09-13T04:58:23.914462Z",
     "shell.execute_reply.started": "2022-09-13T04:58:23.903577Z"
    },
    "id": "xRFIJzSgpVjw"
   },
   "outputs": [],
   "source": [
    "def convert_abbrev_in_text(text):\n",
    "    tokens = word_tokenize(text)\n",
    "    tokens = [convert_abbrev(word) for word in tokens]\n",
    "    text = ' '.join(tokens)\n",
    "    return text"
   ]
  },
  {
   "cell_type": "markdown",
   "metadata": {
    "id": "OZkv2AOzhB3i"
   },
   "source": [
    "**Cleaning non-words**\n",
    "\n",
    "Since classification modelling only needs letter data we remove the following - \n",
    "\n",
    "\n",
    "*   Special Characters\n",
    "*   Symbols\n",
    "*   Numbers\n",
    "\n",
    "Again we will be making the use of regular expressions to do so."
   ]
  },
  {
   "cell_type": "code",
   "execution_count": 61,
   "metadata": {
    "execution": {
     "iopub.execute_input": "2022-09-13T04:58:23.919184Z",
     "iopub.status.busy": "2022-09-13T04:58:23.918642Z",
     "iopub.status.idle": "2022-09-13T04:58:23.934344Z",
     "shell.execute_reply": "2022-09-13T04:58:23.932081Z",
     "shell.execute_reply.started": "2022-09-13T04:58:23.919135Z"
    },
    "id": "0m7c-UCThaGk",
    "outputId": "9e8fda0f-4cc8-41be-da12-e64d232a29e2"
   },
   "outputs": [
    {
     "name": "stdout",
     "output_type": "stream",
     "text": [
      "Before:\n",
      "Pilot Dies In Plane Crash At Car Festival   via @YouTube #Crash #Aircraft #Airplane #Pilot #Death #Accident #CarFest\n",
      "\n",
      "After:\n",
      " ilot  ies  n  lane  rash  t  ar  estival   via   ou ube   rash   ircraft   irplane   ilot   eath   ccident   ar est\n"
     ]
    }
   ],
   "source": [
    "print(f\"Before:\\n{tweet}\\n\")\n",
    "tweet = re.sub(r\"[^a-z]\", \" \", tweet)\n",
    "print(f\"After:\\n{tweet}\")"
   ]
  },
  {
   "cell_type": "markdown",
   "metadata": {
    "id": "iR7FCiWDhf48"
   },
   "source": [
    "**Stop Word Removal**\n",
    "\n",
    "The most commonly used words that do not specifically contribute to any insights only increase the word count."
   ]
  },
  {
   "cell_type": "code",
   "execution_count": 62,
   "metadata": {
    "execution": {
     "iopub.execute_input": "2022-09-13T04:58:23.937189Z",
     "iopub.status.busy": "2022-09-13T04:58:23.936285Z",
     "iopub.status.idle": "2022-09-13T04:58:24.184927Z",
     "shell.execute_reply": "2022-09-13T04:58:24.183567Z",
     "shell.execute_reply.started": "2022-09-13T04:58:23.937126Z"
    },
    "id": "shy4bRQLh24E",
    "outputId": "e11a8279-7ecb-42a9-cc70-a65b7c65bc39"
   },
   "outputs": [
    {
     "name": "stderr",
     "output_type": "stream",
     "text": [
      "[nltk_data] Downloading package omw-1.4 to /usr/share/nltk_data...\n",
      "[nltk_data]   Package omw-1.4 is already up-to-date!\n",
      "[nltk_data] Downloading package punkt to /usr/share/nltk_data...\n",
      "[nltk_data]   Package punkt is already up-to-date!\n",
      "[nltk_data] Downloading package stopwords to /usr/share/nltk_data...\n",
      "[nltk_data]   Package stopwords is already up-to-date!\n"
     ]
    },
    {
     "data": {
      "text/plain": [
       "True"
      ]
     },
     "execution_count": 62,
     "metadata": {},
     "output_type": "execute_result"
    }
   ],
   "source": [
    "import nltk\n",
    "import tensorflow as tf\n",
    "from nltk.stem import WordNetLemmatizer\n",
    "from nltk.corpus import stopwords\n",
    "nltk.download('omw-1.4')\n",
    "nltk.download('punkt')\n",
    "nltk.download('stopwords')"
   ]
  },
  {
   "cell_type": "code",
   "execution_count": 63,
   "metadata": {
    "execution": {
     "iopub.execute_input": "2022-09-13T04:58:24.187872Z",
     "iopub.status.busy": "2022-09-13T04:58:24.187017Z",
     "iopub.status.idle": "2022-09-13T04:58:24.215576Z",
     "shell.execute_reply": "2022-09-13T04:58:24.214437Z",
     "shell.execute_reply.started": "2022-09-13T04:58:24.187816Z"
    },
    "id": "W2PiA31nht6J",
    "outputId": "15f4ac89-8c8f-4da5-a2c1-7b4a231b6390"
   },
   "outputs": [
    {
     "name": "stdout",
     "output_type": "stream",
     "text": [
      "Before:\n",
      "Pilot Dies In Plane Crash At Car Festival https://t.co/kQ9aE6AP2B via @YouTube #Crash #Aircraft #Airplane #Pilot #Death #Accident #CarFest\n",
      "\n",
      "After:\n",
      "Pilot Dies In Plane Crash At Car Festival https : //t.co/kQ9aE6AP2B via @ YouTube # Crash # Aircraft # Airplane # Pilot # Death # Accident # CarFest\n"
     ]
    }
   ],
   "source": [
    "tweet = train_df.loc[train_df[\"id\"]==222, \"text\"].values[0]\n",
    "print(f\"Before:\\n{tweet}\\n\")\n",
    "\n",
    "tweet = \" \".join(word for word in word_tokenize(tweet) if word not in stopwords.words('english'))\n",
    "print(f\"After:\\n{tweet}\")"
   ]
  },
  {
   "cell_type": "markdown",
   "metadata": {
    "id": "rjcmHfkCieTe"
   },
   "source": [
    "**Lemmatization**\n",
    "\n",
    "We can choose between **Stemming** and **Lemmatization** \n",
    "\n",
    "The difference - \n",
    "Studies -> Stemming      -> Studi\n",
    "Studies -> Lemmatization -> Study\n",
    "\n",
    "Lemmatization is a more calculated form of stemming that yields better results."
   ]
  },
  {
   "cell_type": "code",
   "execution_count": 64,
   "metadata": {
    "execution": {
     "iopub.execute_input": "2022-09-13T04:58:24.217767Z",
     "iopub.status.busy": "2022-09-13T04:58:24.216967Z",
     "iopub.status.idle": "2022-09-13T04:58:24.260198Z",
     "shell.execute_reply": "2022-09-13T04:58:24.258835Z",
     "shell.execute_reply.started": "2022-09-13T04:58:24.217722Z"
    },
    "id": "lD9TYL9klSvS",
    "outputId": "e90ec6e3-5c69-41a5-ca0a-0f3662b0a961"
   },
   "outputs": [
    {
     "name": "stderr",
     "output_type": "stream",
     "text": [
      "[nltk_data] Downloading package wordnet to /usr/share/nltk_data...\n",
      "[nltk_data]   Package wordnet is already up-to-date!\n"
     ]
    },
    {
     "data": {
      "text/plain": [
       "True"
      ]
     },
     "execution_count": 64,
     "metadata": {},
     "output_type": "execute_result"
    }
   ],
   "source": [
    "nltk.download(\"wordnet\")"
   ]
  },
  {
   "cell_type": "code",
   "execution_count": 65,
   "metadata": {
    "execution": {
     "iopub.execute_input": "2022-09-13T04:58:24.262992Z",
     "iopub.status.busy": "2022-09-13T04:58:24.262398Z",
     "iopub.status.idle": "2022-09-13T04:58:27.014299Z",
     "shell.execute_reply": "2022-09-13T04:58:27.012562Z",
     "shell.execute_reply.started": "2022-09-13T04:58:24.262933Z"
    },
    "id": "_F_JXAgHiiQO",
    "outputId": "746b11c2-f41b-4c24-d8df-74ae389dd797"
   },
   "outputs": [
    {
     "name": "stdout",
     "output_type": "stream",
     "text": [
      "Before:\n",
      "Pilot Dies In Plane Crash At Car Festival https : //t.co/kQ9aE6AP2B via @ YouTube # Crash # Aircraft # Airplane # Pilot # Death # Accident # CarFest\n",
      "\n",
      "After:\n",
      "Pilot Dies In Plane Crash At Car Festival http : //t.co/kQ9aE6AP2B via @ YouTube # Crash # Aircraft # Airplane # Pilot # Death # Accident # CarFest\n"
     ]
    }
   ],
   "source": [
    "lemma = WordNetLemmatizer()\n",
    "print(f\"Before:\\n{tweet}\\n\")\n",
    "\n",
    "tweet = \" \".join(lemma.lemmatize(word) for word in word_tokenize(tweet))\n",
    "print(f\"After:\\n{tweet}\")"
   ]
  },
  {
   "cell_type": "markdown",
   "metadata": {
    "id": "InElU_uUlYI0"
   },
   "source": [
    "**Single Character Pruning**"
   ]
  },
  {
   "cell_type": "code",
   "execution_count": 66,
   "metadata": {
    "execution": {
     "iopub.execute_input": "2022-09-13T04:58:27.018250Z",
     "iopub.status.busy": "2022-09-13T04:58:27.016670Z",
     "iopub.status.idle": "2022-09-13T04:58:27.026696Z",
     "shell.execute_reply": "2022-09-13T04:58:27.024874Z",
     "shell.execute_reply.started": "2022-09-13T04:58:27.018175Z"
    },
    "id": "-bcrXKjRlazW",
    "outputId": "9c2873f8-20d2-4286-bad3-8422a1f76c96"
   },
   "outputs": [
    {
     "name": "stdout",
     "output_type": "stream",
     "text": [
      "Before:\n",
      "Pilot Dies In Plane Crash At Car Festival http : //t.co/kQ9aE6AP2B via @ YouTube # Crash # Aircraft # Airplane # Pilot # Death # Accident # CarFest\n",
      "\n",
      "After:\n",
      "Pilot Dies In Plane Crash At Car Festival http : // .co/kQ9aE6AP2B via @ YouTube # Crash # Aircraft # Airplane # Pilot # Death # Accident # CarFest\n"
     ]
    }
   ],
   "source": [
    "print(f\"Before:\\n{tweet}\\n\")\n",
    "tweet = re.sub(r\"\\b\\w\\b\", \" \", tweet)\n",
    "print(f\"After:\\n{tweet}\")"
   ]
  },
  {
   "cell_type": "markdown",
   "metadata": {
    "id": "qhqlBy2AljPi"
   },
   "source": [
    "A function to do data cleaning will be used."
   ]
  },
  {
   "cell_type": "code",
   "execution_count": 67,
   "metadata": {
    "execution": {
     "iopub.execute_input": "2022-09-13T04:58:27.029226Z",
     "iopub.status.busy": "2022-09-13T04:58:27.028581Z",
     "iopub.status.idle": "2022-09-13T04:58:27.044309Z",
     "shell.execute_reply": "2022-09-13T04:58:27.042234Z",
     "shell.execute_reply.started": "2022-09-13T04:58:27.029176Z"
    },
    "id": "1nnc8EDNlm93"
   },
   "outputs": [],
   "source": [
    "def data_cleanse(tweet):\n",
    "    # Lower casing\n",
    "    tweet = tweet.lower()\n",
    "    \n",
    "    # getting rid of mentions\n",
    "    tweet = re.sub(r\"@\\S+\", \" \", tweet)\n",
    "    \n",
    "    # removing html\n",
    "    tweet = re.sub(r\"&.*?;|<.*?>\", \" \", tweet)\n",
    "    \n",
    "    # url removal\n",
    "    tweet = re.sub(r\"https?://\\S+|www\\.\\S+\", \" \", tweet)\n",
    "    \n",
    "    # handling abbreviations\n",
    "    tweet = convert_abbrev_in_text(tweet)\n",
    "    \n",
    "    # non word removals (special chars)\n",
    "    tweet = re.sub(r\"[^a-z]\", \" \", tweet)\n",
    "    \n",
    "    # Stop word removal\n",
    "    tweet = \" \".join(word for word in word_tokenize(tweet) if word not in stopwords.words('english'))\n",
    "    \n",
    "    # lemmatization\n",
    "    tweet = \" \".join(lemma.lemmatize(word) for word in word_tokenize(tweet))\n",
    "    \n",
    "    # Single char removal\n",
    "    tweet = re.sub(r\"\\b\\w\\b\", \"\", tweet).strip()\n",
    "    \n",
    "    return tweet"
   ]
  },
  {
   "cell_type": "markdown",
   "metadata": {
    "id": "m2tFX6CCmQWr"
   },
   "source": [
    "Applying the Cleaning Function to training and testing datasets"
   ]
  },
  {
   "cell_type": "code",
   "execution_count": 68,
   "metadata": {
    "execution": {
     "iopub.execute_input": "2022-09-13T04:58:27.047548Z",
     "iopub.status.busy": "2022-09-13T04:58:27.045957Z",
     "iopub.status.idle": "2022-09-13T04:58:47.161728Z",
     "shell.execute_reply": "2022-09-13T04:58:47.160448Z",
     "shell.execute_reply.started": "2022-09-13T04:58:27.047486Z"
    },
    "id": "a1DtoreqmUwt"
   },
   "outputs": [],
   "source": [
    "train_df[\"cleaned_text\"] = train_df[\"text\"].apply(data_cleanse)"
   ]
  },
  {
   "cell_type": "code",
   "execution_count": 69,
   "metadata": {
    "execution": {
     "iopub.execute_input": "2022-09-13T04:58:47.164302Z",
     "iopub.status.busy": "2022-09-13T04:58:47.163725Z",
     "iopub.status.idle": "2022-09-13T04:58:55.917785Z",
     "shell.execute_reply": "2022-09-13T04:58:55.916627Z",
     "shell.execute_reply.started": "2022-09-13T04:58:47.164246Z"
    },
    "id": "54PXLN4ZmW90"
   },
   "outputs": [],
   "source": [
    "test_df[\"cleaned_text\"] = test_df[\"text\"].apply(data_cleanse)"
   ]
  },
  {
   "cell_type": "markdown",
   "metadata": {
    "id": "ytfvZTzurquF"
   },
   "source": [
    "**Number of words after Data Cleaning**"
   ]
  },
  {
   "cell_type": "markdown",
   "metadata": {
    "id": "CKvyWUQHsIDV"
   },
   "source": [
    "Using regular expressions we will find the number of words after cleaning the data"
   ]
  },
  {
   "cell_type": "code",
   "execution_count": 70,
   "metadata": {
    "execution": {
     "iopub.execute_input": "2022-09-13T04:58:55.921331Z",
     "iopub.status.busy": "2022-09-13T04:58:55.920887Z",
     "iopub.status.idle": "2022-09-13T04:58:55.972353Z",
     "shell.execute_reply": "2022-09-13T04:58:55.970806Z",
     "shell.execute_reply.started": "2022-09-13T04:58:55.921288Z"
    },
    "id": "0OdnS1uBr4Cl"
   },
   "outputs": [],
   "source": [
    "train_df[\"cleaned_words\"] = train_df[\"cleaned_text\"].apply(lambda x: len(re.sub(r\"[\\W_]\", \" \", x).split()))"
   ]
  },
  {
   "cell_type": "markdown",
   "metadata": {
    "id": "gRtdIMcrsR2e"
   },
   "source": [
    "**Distribution of Word Count After Cleansing**"
   ]
  },
  {
   "cell_type": "code",
   "execution_count": 71,
   "metadata": {
    "execution": {
     "iopub.execute_input": "2022-09-13T04:58:55.975226Z",
     "iopub.status.busy": "2022-09-13T04:58:55.974748Z",
     "iopub.status.idle": "2022-09-13T04:58:55.981570Z",
     "shell.execute_reply": "2022-09-13T04:58:55.980290Z",
     "shell.execute_reply.started": "2022-09-13T04:58:55.975185Z"
    },
    "id": "Je6lxteRsnRx"
   },
   "outputs": [],
   "source": [
    "bins = train_df['cleaned_words'].nunique()"
   ]
  },
  {
   "cell_type": "code",
   "execution_count": 72,
   "metadata": {
    "execution": {
     "iopub.execute_input": "2022-09-13T04:58:55.984433Z",
     "iopub.status.busy": "2022-09-13T04:58:55.983803Z",
     "iopub.status.idle": "2022-09-13T04:58:56.638007Z",
     "shell.execute_reply": "2022-09-13T04:58:56.636679Z",
     "shell.execute_reply.started": "2022-09-13T04:58:55.984372Z"
    },
    "id": "W2aiUkQ2sWL0",
    "outputId": "1da94211-2923-492b-9677-527749e4aeec"
   },
   "outputs": [
    {
     "data": {
      "image/png": "[encoded data removed]",
      "text/plain": [
       "<Figure size 402.375x360 with 1 Axes>"
      ]
     },
     "metadata": {},
     "output_type": "display_data"
    }
   ],
   "source": [
    "sns.displot(data=train_df, x=\"cleaned_words\", kde=True, hue=\"target\", bins=bins)\n",
    "plt.title(\"Distribution of Tweet Word Count\")\n",
    "plt.show()"
   ]
  },
  {
   "cell_type": "markdown",
   "metadata": {
    "id": "ee-AQt90s2ap"
   },
   "source": [
    "As there is also tweet present with 0 words.\n",
    "\n",
    "There are 2 blank tweets so instead of deleting them we can replace them with the keywords"
   ]
  },
  {
   "cell_type": "code",
   "execution_count": 73,
   "metadata": {
    "execution": {
     "iopub.execute_input": "2022-09-13T04:58:56.640380Z",
     "iopub.status.busy": "2022-09-13T04:58:56.639948Z",
     "iopub.status.idle": "2022-09-13T04:58:56.666398Z",
     "shell.execute_reply": "2022-09-13T04:58:56.665260Z",
     "shell.execute_reply.started": "2022-09-13T04:58:56.640339Z"
    },
    "id": "pwo8FKo-tL1e"
   },
   "outputs": [],
   "source": [
    "for df in [train_df, test_df]:\n",
    "    df[\"keyword\"] = df[\"keyword\"].str.replace(\"%20\", \" \") \n",
    "    df[\"keyword\"].fillna(\"\", inplace=True) \n",
    "    df[\"cleaned_text\"] = df[\"cleaned_text\"] + \" \" + df[\"keyword\"]"
   ]
  },
  {
   "cell_type": "markdown",
   "metadata": {
    "id": "fX7gosbhtk1y"
   },
   "source": [
    "**Investigating the number of duplicates**"
   ]
  },
  {
   "cell_type": "code",
   "execution_count": 74,
   "metadata": {
    "execution": {
     "iopub.execute_input": "2022-09-13T04:58:56.668122Z",
     "iopub.status.busy": "2022-09-13T04:58:56.667691Z",
     "iopub.status.idle": "2022-09-13T04:58:56.682469Z",
     "shell.execute_reply": "2022-09-13T04:58:56.681159Z",
     "shell.execute_reply.started": "2022-09-13T04:58:56.668083Z"
    },
    "id": "CNT4QW9Xtptv",
    "outputId": "12e4edee-5538-4cc8-cf20-6d7699c0db1c"
   },
   "outputs": [
    {
     "name": "stdout",
     "output_type": "stream",
     "text": [
      "The number of duplicates in training data : 715\n"
     ]
    }
   ],
   "source": [
    "print(\"The number of duplicates in training data :\",train_df['cleaned_text'].duplicated().sum())"
   ]
  },
  {
   "cell_type": "code",
   "execution_count": 75,
   "metadata": {
    "execution": {
     "iopub.execute_input": "2022-09-13T04:58:56.684179Z",
     "iopub.status.busy": "2022-09-13T04:58:56.683762Z",
     "iopub.status.idle": "2022-09-13T04:58:56.713094Z",
     "shell.execute_reply": "2022-09-13T04:58:56.711697Z",
     "shell.execute_reply.started": "2022-09-13T04:58:56.684142Z"
    },
    "id": "1kZiMR69t13p",
    "outputId": "47742850-3274-432f-a84c-c7812934e067"
   },
   "outputs": [
    {
     "data": {
      "text/html": [
       "<div>\n",
       "<style scoped>\n",
       "    .dataframe tbody tr th:only-of-type {\n",
       "        vertical-align: middle;\n",
       "    }\n",
       "\n",
       "    .dataframe tbody tr th {\n",
       "        vertical-align: top;\n",
       "    }\n",
       "\n",
       "    .dataframe thead th {\n",
       "        text-align: right;\n",
       "    }\n",
       "</style>\n",
       "<table border=\"1\" class=\"dataframe\">\n",
       "  <thead>\n",
       "    <tr style=\"text-align: right;\">\n",
       "      <th></th>\n",
       "      <th>id</th>\n",
       "      <th>keyword</th>\n",
       "      <th>location</th>\n",
       "      <th>text</th>\n",
       "      <th>target</th>\n",
       "      <th>length</th>\n",
       "      <th>spec_char</th>\n",
       "      <th>word_count</th>\n",
       "      <th>cleaned_text</th>\n",
       "      <th>cleaned_words</th>\n",
       "    </tr>\n",
       "  </thead>\n",
       "  <tbody>\n",
       "    <tr>\n",
       "      <th>1407</th>\n",
       "      <td>2057</td>\n",
       "      <td>casualties</td>\n",
       "      <td>NaN</td>\n",
       "      <td>Afghanistan: sharp rise in women and children ...</td>\n",
       "      <td>1</td>\n",
       "      <td>101</td>\n",
       "      <td>6</td>\n",
       "      <td>17</td>\n",
       "      <td>afghanistan sharp rise woman child casualty fi...</td>\n",
       "      <td>8</td>\n",
       "    </tr>\n",
       "    <tr>\n",
       "      <th>1402</th>\n",
       "      <td>2049</td>\n",
       "      <td>casualties</td>\n",
       "      <td>Afghanistan, USA</td>\n",
       "      <td>#Afghanistan: sharp rise in women and children...</td>\n",
       "      <td>1</td>\n",
       "      <td>103</td>\n",
       "      <td>8</td>\n",
       "      <td>17</td>\n",
       "      <td>afghanistan sharp rise woman child casualty fi...</td>\n",
       "      <td>8</td>\n",
       "    </tr>\n",
       "    <tr>\n",
       "      <th>112</th>\n",
       "      <td>163</td>\n",
       "      <td>aftershock</td>\n",
       "      <td>Belgium</td>\n",
       "      <td>Aftershock https://t.co/xMWODFMtUI</td>\n",
       "      <td>0</td>\n",
       "      <td>34</td>\n",
       "      <td>5</td>\n",
       "      <td>5</td>\n",
       "      <td>aftershock aftershock</td>\n",
       "      <td>1</td>\n",
       "    </tr>\n",
       "    <tr>\n",
       "      <th>128</th>\n",
       "      <td>190</td>\n",
       "      <td>aftershock</td>\n",
       "      <td>NaN</td>\n",
       "      <td>Aftershock https://t.co/jV8ppKhJY7</td>\n",
       "      <td>0</td>\n",
       "      <td>34</td>\n",
       "      <td>5</td>\n",
       "      <td>5</td>\n",
       "      <td>aftershock aftershock</td>\n",
       "      <td>1</td>\n",
       "    </tr>\n",
       "    <tr>\n",
       "      <th>4172</th>\n",
       "      <td>6004</td>\n",
       "      <td>hazardous</td>\n",
       "      <td>Muntinlupa City, Philippines</td>\n",
       "      <td>@HearItFromPa Also pls help us w/ our campaign...</td>\n",
       "      <td>0</td>\n",
       "      <td>137</td>\n",
       "      <td>4</td>\n",
       "      <td>21</td>\n",
       "      <td>also pls help  campaign warn public hazardous ...</td>\n",
       "      <td>12</td>\n",
       "    </tr>\n",
       "  </tbody>\n",
       "</table>\n",
       "</div>"
      ],
      "text/plain": [
       "        id     keyword                      location  \\\n",
       "1407  2057  casualties                           NaN   \n",
       "1402  2049  casualties              Afghanistan, USA   \n",
       "112    163  aftershock                       Belgium   \n",
       "128    190  aftershock                           NaN   \n",
       "4172  6004   hazardous  Muntinlupa City, Philippines   \n",
       "\n",
       "                                                   text  target  length  \\\n",
       "1407  Afghanistan: sharp rise in women and children ...       1     101   \n",
       "1402  #Afghanistan: sharp rise in women and children...       1     103   \n",
       "112                  Aftershock https://t.co/xMWODFMtUI       0      34   \n",
       "128                  Aftershock https://t.co/jV8ppKhJY7       0      34   \n",
       "4172  @HearItFromPa Also pls help us w/ our campaign...       0     137   \n",
       "\n",
       "      spec_char  word_count  \\\n",
       "1407          6          17   \n",
       "1402          8          17   \n",
       "112           5           5   \n",
       "128           5           5   \n",
       "4172          4          21   \n",
       "\n",
       "                                           cleaned_text  cleaned_words  \n",
       "1407  afghanistan sharp rise woman child casualty fi...              8  \n",
       "1402  afghanistan sharp rise woman child casualty fi...              8  \n",
       "112                               aftershock aftershock              1  \n",
       "128                               aftershock aftershock              1  \n",
       "4172  also pls help  campaign warn public hazardous ...             12  "
      ]
     },
     "execution_count": 75,
     "metadata": {},
     "output_type": "execute_result"
    }
   ],
   "source": [
    "train_df.loc[train_df[\"cleaned_text\"].duplicated(keep=False)].sort_values(\"cleaned_text\").head()"
   ]
  },
  {
   "cell_type": "markdown",
   "metadata": {
    "id": "dlHQ7H-LuR5o"
   },
   "source": [
    "**Dropping these duplicates**"
   ]
  },
  {
   "cell_type": "code",
   "execution_count": 76,
   "metadata": {
    "execution": {
     "iopub.execute_input": "2022-09-13T04:58:56.715324Z",
     "iopub.status.busy": "2022-09-13T04:58:56.714596Z",
     "iopub.status.idle": "2022-09-13T04:58:56.722657Z",
     "shell.execute_reply": "2022-09-13T04:58:56.721088Z",
     "shell.execute_reply.started": "2022-09-13T04:58:56.715277Z"
    },
    "id": "ZvUVcyN0uVr0",
    "outputId": "7f3e2b68-c72f-4dd4-88d3-58438eb0dca8"
   },
   "outputs": [
    {
     "name": "stdout",
     "output_type": "stream",
     "text": [
      "Number of observations in training abefpre dropping duplicates :  7503\n"
     ]
    }
   ],
   "source": [
    "print(\"Number of observations in training abefpre dropping duplicates : \",train_df.shape[0])"
   ]
  },
  {
   "cell_type": "code",
   "execution_count": 77,
   "metadata": {
    "execution": {
     "iopub.execute_input": "2022-09-13T04:58:56.725582Z",
     "iopub.status.busy": "2022-09-13T04:58:56.724875Z",
     "iopub.status.idle": "2022-09-13T04:58:56.742557Z",
     "shell.execute_reply": "2022-09-13T04:58:56.741334Z",
     "shell.execute_reply.started": "2022-09-13T04:58:56.725521Z"
    },
    "id": "bssHneZ0uYAm"
   },
   "outputs": [],
   "source": [
    "train_df = train_df.drop_duplicates(subset=\"cleaned_text\", keep=\"first\").reset_index(drop=True)\n"
   ]
  },
  {
   "cell_type": "code",
   "execution_count": 78,
   "metadata": {
    "execution": {
     "iopub.execute_input": "2022-09-13T04:58:56.744515Z",
     "iopub.status.busy": "2022-09-13T04:58:56.743996Z",
     "iopub.status.idle": "2022-09-13T04:58:56.752578Z",
     "shell.execute_reply": "2022-09-13T04:58:56.751163Z",
     "shell.execute_reply.started": "2022-09-13T04:58:56.744464Z"
    },
    "id": "hfzgc1NmuX3v",
    "outputId": "3e4565d4-58b4-4e67-c824-c2574bee5114"
   },
   "outputs": [
    {
     "name": "stdout",
     "output_type": "stream",
     "text": [
      "Number of observations in training after dropping duplicates :  6788\n"
     ]
    }
   ],
   "source": [
    "print(\"Number of observations in training after dropping duplicates : \",train_df.shape[0])"
   ]
  },
  {
   "cell_type": "markdown",
   "metadata": {
    "id": "R6kuaBJSubH2"
   },
   "source": [
    "**Splitting Data into Training and Validation Sets**\n",
    "\n",
    "Training set = 90%\n",
    "Validation Set = 10%"
   ]
  },
  {
   "cell_type": "code",
   "execution_count": 79,
   "metadata": {
    "execution": {
     "iopub.execute_input": "2022-09-13T04:58:56.754666Z",
     "iopub.status.busy": "2022-09-13T04:58:56.754116Z",
     "iopub.status.idle": "2022-09-13T04:58:56.764642Z",
     "shell.execute_reply": "2022-09-13T04:58:56.763501Z",
     "shell.execute_reply.started": "2022-09-13T04:58:56.754592Z"
    },
    "id": "TPsT61sBvC1O"
   },
   "outputs": [],
   "source": [
    "X = train_df[\"cleaned_text\"]\n",
    "y = train_df[\"target\"]"
   ]
  },
  {
   "cell_type": "code",
   "execution_count": 80,
   "metadata": {
    "execution": {
     "iopub.execute_input": "2022-09-13T04:58:56.767900Z",
     "iopub.status.busy": "2022-09-13T04:58:56.766745Z",
     "iopub.status.idle": "2022-09-13T04:58:56.777306Z",
     "shell.execute_reply": "2022-09-13T04:58:56.775893Z",
     "shell.execute_reply.started": "2022-09-13T04:58:56.767678Z"
    },
    "id": "v-cJqFnqvLHA"
   },
   "outputs": [],
   "source": [
    "from sklearn.model_selection import train_test_split"
   ]
  },
  {
   "cell_type": "code",
   "execution_count": 81,
   "metadata": {
    "execution": {
     "iopub.execute_input": "2022-09-13T04:58:56.780380Z",
     "iopub.status.busy": "2022-09-13T04:58:56.779421Z",
     "iopub.status.idle": "2022-09-13T04:58:56.811374Z",
     "shell.execute_reply": "2022-09-13T04:58:56.810015Z",
     "shell.execute_reply.started": "2022-09-13T04:58:56.780318Z"
    },
    "id": "LRvXiWo1jrT4",
    "outputId": "5f43e8fc-d266-4ccd-d857-a47b9d82333e"
   },
   "outputs": [
    {
     "data": {
      "text/html": [
       "<div>\n",
       "<style scoped>\n",
       "    .dataframe tbody tr th:only-of-type {\n",
       "        vertical-align: middle;\n",
       "    }\n",
       "\n",
       "    .dataframe tbody tr th {\n",
       "        vertical-align: top;\n",
       "    }\n",
       "\n",
       "    .dataframe thead th {\n",
       "        text-align: right;\n",
       "    }\n",
       "</style>\n",
       "<table border=\"1\" class=\"dataframe\">\n",
       "  <thead>\n",
       "    <tr style=\"text-align: right;\">\n",
       "      <th></th>\n",
       "      <th>id</th>\n",
       "      <th>keyword</th>\n",
       "      <th>location</th>\n",
       "      <th>text</th>\n",
       "      <th>target</th>\n",
       "      <th>length</th>\n",
       "      <th>spec_char</th>\n",
       "      <th>word_count</th>\n",
       "      <th>cleaned_text</th>\n",
       "      <th>cleaned_words</th>\n",
       "    </tr>\n",
       "  </thead>\n",
       "  <tbody>\n",
       "    <tr>\n",
       "      <th>0</th>\n",
       "      <td>1</td>\n",
       "      <td></td>\n",
       "      <td>NaN</td>\n",
       "      <td>Our Deeds are the Reason of this #earthquake M...</td>\n",
       "      <td>1</td>\n",
       "      <td>69</td>\n",
       "      <td>1</td>\n",
       "      <td>13</td>\n",
       "      <td>deed reason earthquake may allah forgive</td>\n",
       "      <td>6</td>\n",
       "    </tr>\n",
       "    <tr>\n",
       "      <th>1</th>\n",
       "      <td>4</td>\n",
       "      <td></td>\n",
       "      <td>NaN</td>\n",
       "      <td>Forest fire near La Ronge Sask. Canada</td>\n",
       "      <td>1</td>\n",
       "      <td>38</td>\n",
       "      <td>1</td>\n",
       "      <td>7</td>\n",
       "      <td>forest fire near la ronge sask canada</td>\n",
       "      <td>7</td>\n",
       "    </tr>\n",
       "    <tr>\n",
       "      <th>2</th>\n",
       "      <td>5</td>\n",
       "      <td></td>\n",
       "      <td>NaN</td>\n",
       "      <td>All residents asked to 'shelter in place' are ...</td>\n",
       "      <td>1</td>\n",
       "      <td>133</td>\n",
       "      <td>3</td>\n",
       "      <td>22</td>\n",
       "      <td>resident asked shelter place notified officer ...</td>\n",
       "      <td>11</td>\n",
       "    </tr>\n",
       "    <tr>\n",
       "      <th>3</th>\n",
       "      <td>6</td>\n",
       "      <td></td>\n",
       "      <td>NaN</td>\n",
       "      <td>13,000 people receive #wildfires evacuation or...</td>\n",
       "      <td>1</td>\n",
       "      <td>65</td>\n",
       "      <td>2</td>\n",
       "      <td>9</td>\n",
       "      <td>people receive wildfire evacuation order calif...</td>\n",
       "      <td>6</td>\n",
       "    </tr>\n",
       "    <tr>\n",
       "      <th>4</th>\n",
       "      <td>7</td>\n",
       "      <td></td>\n",
       "      <td>NaN</td>\n",
       "      <td>Just got sent this photo from Ruby #Alaska as ...</td>\n",
       "      <td>1</td>\n",
       "      <td>88</td>\n",
       "      <td>2</td>\n",
       "      <td>16</td>\n",
       "      <td>got sent photo ruby alaska smoke wildfire pour...</td>\n",
       "      <td>9</td>\n",
       "    </tr>\n",
       "    <tr>\n",
       "      <th>...</th>\n",
       "      <td>...</td>\n",
       "      <td>...</td>\n",
       "      <td>...</td>\n",
       "      <td>...</td>\n",
       "      <td>...</td>\n",
       "      <td>...</td>\n",
       "      <td>...</td>\n",
       "      <td>...</td>\n",
       "      <td>...</td>\n",
       "      <td>...</td>\n",
       "    </tr>\n",
       "    <tr>\n",
       "      <th>6783</th>\n",
       "      <td>10863</td>\n",
       "      <td></td>\n",
       "      <td>NaN</td>\n",
       "      <td>#WorldNews Fallen powerlines on G:link tram: U...</td>\n",
       "      <td>1</td>\n",
       "      <td>136</td>\n",
       "      <td>12</td>\n",
       "      <td>23</td>\n",
       "      <td>worldnews fallen powerlines  link tram update ...</td>\n",
       "      <td>11</td>\n",
       "    </tr>\n",
       "    <tr>\n",
       "      <th>6784</th>\n",
       "      <td>10864</td>\n",
       "      <td></td>\n",
       "      <td>NaN</td>\n",
       "      <td>on the flip side I'm at Walmart and there is a...</td>\n",
       "      <td>1</td>\n",
       "      <td>114</td>\n",
       "      <td>1</td>\n",
       "      <td>27</td>\n",
       "      <td>flip side walmart bomb everyone evacuate stay ...</td>\n",
       "      <td>9</td>\n",
       "    </tr>\n",
       "    <tr>\n",
       "      <th>6785</th>\n",
       "      <td>10866</td>\n",
       "      <td></td>\n",
       "      <td>NaN</td>\n",
       "      <td>Suicide bomber kills 15 in Saudi security site...</td>\n",
       "      <td>1</td>\n",
       "      <td>121</td>\n",
       "      <td>11</td>\n",
       "      <td>19</td>\n",
       "      <td>suicide bomber kill saudi security site mosque...</td>\n",
       "      <td>13</td>\n",
       "    </tr>\n",
       "    <tr>\n",
       "      <th>6786</th>\n",
       "      <td>10869</td>\n",
       "      <td></td>\n",
       "      <td>NaN</td>\n",
       "      <td>Two giant cranes holding a bridge collapse int...</td>\n",
       "      <td>1</td>\n",
       "      <td>83</td>\n",
       "      <td>5</td>\n",
       "      <td>14</td>\n",
       "      <td>two giant crane holding bridge collapse nearby...</td>\n",
       "      <td>8</td>\n",
       "    </tr>\n",
       "    <tr>\n",
       "      <th>6787</th>\n",
       "      <td>10873</td>\n",
       "      <td></td>\n",
       "      <td>NaN</td>\n",
       "      <td>The Latest: More Homes Razed by Northern Calif...</td>\n",
       "      <td>1</td>\n",
       "      <td>94</td>\n",
       "      <td>7</td>\n",
       "      <td>15</td>\n",
       "      <td>latest home razed northern california wildfire...</td>\n",
       "      <td>8</td>\n",
       "    </tr>\n",
       "  </tbody>\n",
       "</table>\n",
       "<p>6788 rows × 10 columns</p>\n",
       "</div>"
      ],
      "text/plain": [
       "         id keyword location  \\\n",
       "0         1              NaN   \n",
       "1         4              NaN   \n",
       "2         5              NaN   \n",
       "3         6              NaN   \n",
       "4         7              NaN   \n",
       "...     ...     ...      ...   \n",
       "6783  10863              NaN   \n",
       "6784  10864              NaN   \n",
       "6785  10866              NaN   \n",
       "6786  10869              NaN   \n",
       "6787  10873              NaN   \n",
       "\n",
       "                                                   text  target  length  \\\n",
       "0     Our Deeds are the Reason of this #earthquake M...       1      69   \n",
       "1                Forest fire near La Ronge Sask. Canada       1      38   \n",
       "2     All residents asked to 'shelter in place' are ...       1     133   \n",
       "3     13,000 people receive #wildfires evacuation or...       1      65   \n",
       "4     Just got sent this photo from Ruby #Alaska as ...       1      88   \n",
       "...                                                 ...     ...     ...   \n",
       "6783  #WorldNews Fallen powerlines on G:link tram: U...       1     136   \n",
       "6784  on the flip side I'm at Walmart and there is a...       1     114   \n",
       "6785  Suicide bomber kills 15 in Saudi security site...       1     121   \n",
       "6786  Two giant cranes holding a bridge collapse int...       1      83   \n",
       "6787  The Latest: More Homes Razed by Northern Calif...       1      94   \n",
       "\n",
       "      spec_char  word_count  \\\n",
       "0             1          13   \n",
       "1             1           7   \n",
       "2             3          22   \n",
       "3             2           9   \n",
       "4             2          16   \n",
       "...         ...         ...   \n",
       "6783         12          23   \n",
       "6784          1          27   \n",
       "6785         11          19   \n",
       "6786          5          14   \n",
       "6787          7          15   \n",
       "\n",
       "                                           cleaned_text  cleaned_words  \n",
       "0             deed reason earthquake may allah forgive               6  \n",
       "1                forest fire near la ronge sask canada               7  \n",
       "2     resident asked shelter place notified officer ...             11  \n",
       "3     people receive wildfire evacuation order calif...              6  \n",
       "4     got sent photo ruby alaska smoke wildfire pour...              9  \n",
       "...                                                 ...            ...  \n",
       "6783  worldnews fallen powerlines  link tram update ...             11  \n",
       "6784  flip side walmart bomb everyone evacuate stay ...              9  \n",
       "6785  suicide bomber kill saudi security site mosque...             13  \n",
       "6786  two giant crane holding bridge collapse nearby...              8  \n",
       "6787  latest home razed northern california wildfire...              8  \n",
       "\n",
       "[6788 rows x 10 columns]"
      ]
     },
     "execution_count": 81,
     "metadata": {},
     "output_type": "execute_result"
    }
   ],
   "source": [
    "train_df"
   ]
  },
  {
   "cell_type": "code",
   "execution_count": 82,
   "metadata": {
    "execution": {
     "iopub.execute_input": "2022-09-13T04:58:56.830122Z",
     "iopub.status.busy": "2022-09-13T04:58:56.828697Z",
     "iopub.status.idle": "2022-09-13T04:58:56.838950Z",
     "shell.execute_reply": "2022-09-13T04:58:56.837972Z",
     "shell.execute_reply.started": "2022-09-13T04:58:56.830049Z"
    },
    "id": "YJ4DOINejj9q",
    "outputId": "dd85a629-a14f-479d-c02b-a5d20f7e4b4c"
   },
   "outputs": [
    {
     "data": {
      "text/plain": [
       "(3263, 6)"
      ]
     },
     "execution_count": 82,
     "metadata": {},
     "output_type": "execute_result"
    }
   ],
   "source": [
    "test_df.shape"
   ]
  },
  {
   "cell_type": "code",
   "execution_count": 83,
   "metadata": {
    "execution": {
     "iopub.execute_input": "2022-09-13T04:58:56.844168Z",
     "iopub.status.busy": "2022-09-13T04:58:56.843036Z",
     "iopub.status.idle": "2022-09-13T04:58:56.855411Z",
     "shell.execute_reply": "2022-09-13T04:58:56.853964Z",
     "shell.execute_reply.started": "2022-09-13T04:58:56.844113Z"
    },
    "id": "hvOwx1ZgvK0J"
   },
   "outputs": [],
   "source": [
    "X_train, X_val, y_train, y_val = train_test_split(X, y, test_size=0.1, random_state=0)\n",
    "X_test = test_df[\"cleaned_text\"]"
   ]
  },
  {
   "cell_type": "code",
   "execution_count": 84,
   "metadata": {
    "execution": {
     "iopub.execute_input": "2022-09-13T04:58:56.858350Z",
     "iopub.status.busy": "2022-09-13T04:58:56.857510Z",
     "iopub.status.idle": "2022-09-13T04:58:56.871010Z",
     "shell.execute_reply": "2022-09-13T04:58:56.868823Z",
     "shell.execute_reply.started": "2022-09-13T04:58:56.858296Z"
    },
    "id": "EwibAea5kaLF",
    "outputId": "1839775d-0697-476b-fcff-5365cfac4f6f"
   },
   "outputs": [
    {
     "data": {
      "text/plain": [
       "0                         happened terrible car crash \n",
       "1    heard earthquake different city stay safe ever...\n",
       "2    forest fire spot pond goose fleeing across str...\n",
       "3                apocalypse lighting spokane wildfire \n",
       "4                  typhoon soudelor kill china taiwan \n",
       "Name: cleaned_text, dtype: object"
      ]
     },
     "execution_count": 84,
     "metadata": {},
     "output_type": "execute_result"
    }
   ],
   "source": [
    "X_test.head()"
   ]
  },
  {
   "cell_type": "code",
   "execution_count": 85,
   "metadata": {
    "execution": {
     "iopub.execute_input": "2022-09-13T04:58:56.873706Z",
     "iopub.status.busy": "2022-09-13T04:58:56.872972Z",
     "iopub.status.idle": "2022-09-13T04:58:56.881644Z",
     "shell.execute_reply": "2022-09-13T04:58:56.880427Z",
     "shell.execute_reply.started": "2022-09-13T04:58:56.873657Z"
    },
    "id": "7c4hUAyTkc-0",
    "outputId": "f4e961fc-d957-4e85-80a6-4b1c714813dd"
   },
   "outputs": [
    {
     "data": {
      "text/plain": [
       "(3263,)"
      ]
     },
     "execution_count": 85,
     "metadata": {},
     "output_type": "execute_result"
    }
   ],
   "source": [
    "X_test.shape"
   ]
  },
  {
   "cell_type": "code",
   "execution_count": 86,
   "metadata": {
    "execution": {
     "iopub.execute_input": "2022-09-13T04:58:56.883900Z",
     "iopub.status.busy": "2022-09-13T04:58:56.883473Z",
     "iopub.status.idle": "2022-09-13T04:58:56.896989Z",
     "shell.execute_reply": "2022-09-13T04:58:56.895580Z",
     "shell.execute_reply.started": "2022-09-13T04:58:56.883857Z"
    },
    "id": "ToQzIfS_vZG1",
    "outputId": "9c59ef3b-f083-4aae-a5d2-f9322c676bd6"
   },
   "outputs": [
    {
     "name": "stdout",
     "output_type": "stream",
     "text": [
      "Size of Training data : 6109\n"
     ]
    }
   ],
   "source": [
    "print(\"Size of Training data :\",len(X_train))"
   ]
  },
  {
   "cell_type": "code",
   "execution_count": 87,
   "metadata": {
    "execution": {
     "iopub.execute_input": "2022-09-13T04:58:56.899813Z",
     "iopub.status.busy": "2022-09-13T04:58:56.899016Z",
     "iopub.status.idle": "2022-09-13T04:58:56.911749Z",
     "shell.execute_reply": "2022-09-13T04:58:56.910312Z",
     "shell.execute_reply.started": "2022-09-13T04:58:56.899770Z"
    },
    "id": "TLnovnruvg_F",
    "outputId": "342c1f7b-a7fd-472c-e519-8ce17f3a12e8"
   },
   "outputs": [
    {
     "name": "stdout",
     "output_type": "stream",
     "text": [
      "Size of Validation data : 679\n"
     ]
    }
   ],
   "source": [
    "print(\"Size of Validation data :\",len(X_val))"
   ]
  },
  {
   "cell_type": "code",
   "execution_count": 88,
   "metadata": {
    "execution": {
     "iopub.execute_input": "2022-09-13T04:58:56.914516Z",
     "iopub.status.busy": "2022-09-13T04:58:56.913876Z",
     "iopub.status.idle": "2022-09-13T04:58:56.924403Z",
     "shell.execute_reply": "2022-09-13T04:58:56.922944Z",
     "shell.execute_reply.started": "2022-09-13T04:58:56.914463Z"
    },
    "id": "Qm2ZPRuxvhW7",
    "outputId": "ad926e36-cbe3-4e68-f5ab-94279fb2f30a"
   },
   "outputs": [
    {
     "name": "stdout",
     "output_type": "stream",
     "text": [
      "Size of Testing data : 3263\n"
     ]
    }
   ],
   "source": [
    "print(\"Size of Testing data :\",len(X_test))"
   ]
  },
  {
   "cell_type": "markdown",
   "metadata": {
    "id": "AIhjTIMPv6ej"
   },
   "source": [
    "**ML Techniques**\n",
    "\n",
    "The thought is that if simple models are able to get a good accuracy on the training data otherwise we will move on to more advanced models."
   ]
  },
  {
   "cell_type": "markdown",
   "metadata": {
    "id": "ObHDoP1bT3Ob"
   },
   "source": [
    "**Naive Bayes**"
   ]
  },
  {
   "cell_type": "code",
   "execution_count": 89,
   "metadata": {
    "execution": {
     "iopub.execute_input": "2022-09-13T04:58:56.926659Z",
     "iopub.status.busy": "2022-09-13T04:58:56.926065Z",
     "iopub.status.idle": "2022-09-13T04:58:56.940706Z",
     "shell.execute_reply": "2022-09-13T04:58:56.939091Z",
     "shell.execute_reply.started": "2022-09-13T04:58:56.926582Z"
    },
    "id": "95hC8tsGT73s"
   },
   "outputs": [],
   "source": [
    "from sklearn.naive_bayes import MultinomialNB\n",
    "from sklearn.pipeline import Pipeline\n",
    "from sklearn.feature_extraction.text import TfidfTransformer\n",
    "from sklearn.feature_extraction.text import CountVectorizer, TfidfVectorizer\n",
    "from sklearn.metrics import classification_report,accuracy_score\n",
    "from sklearn import metrics"
   ]
  },
  {
   "cell_type": "code",
   "execution_count": 90,
   "metadata": {
    "execution": {
     "iopub.execute_input": "2022-09-13T04:58:56.943914Z",
     "iopub.status.busy": "2022-09-13T04:58:56.942785Z",
     "iopub.status.idle": "2022-09-13T04:58:57.078741Z",
     "shell.execute_reply": "2022-09-13T04:58:57.077308Z",
     "shell.execute_reply.started": "2022-09-13T04:58:56.943861Z"
    },
    "id": "8ocRCkiUT92K",
    "outputId": "ab515577-222e-49ab-8b20-f22e1bbea5c1"
   },
   "outputs": [
    {
     "data": {
      "text/plain": [
       "Pipeline(steps=[('vect', CountVectorizer()), ('tfidf', TfidfTransformer()),\n",
       "                ('clf', MultinomialNB())])"
      ]
     },
     "execution_count": 90,
     "metadata": {},
     "output_type": "execute_result"
    }
   ],
   "source": [
    "nb = Pipeline([('vect', CountVectorizer()),\n",
    "               ('tfidf', TfidfTransformer()),\n",
    "               ('clf', MultinomialNB()),\n",
    "              ])\n",
    "nb.fit(X_train, y_train)"
   ]
  },
  {
   "cell_type": "code",
   "execution_count": 91,
   "metadata": {
    "execution": {
     "iopub.execute_input": "2022-09-13T04:58:57.080926Z",
     "iopub.status.busy": "2022-09-13T04:58:57.080471Z",
     "iopub.status.idle": "2022-09-13T04:58:57.109482Z",
     "shell.execute_reply": "2022-09-13T04:58:57.108403Z",
     "shell.execute_reply.started": "2022-09-13T04:58:57.080885Z"
    },
    "id": "B42eaClzVfSX",
    "outputId": "cf04db9d-4876-4b7f-a1a7-09543d9eba88"
   },
   "outputs": [
    {
     "name": "stdout",
     "output_type": "stream",
     "text": [
      "Accuracy on Validation set : 0.7820324005891016\n",
      "\n",
      "\n",
      "              precision    recall  f1-score   support\n",
      "\n",
      "           0       0.77      0.90      0.83       410\n",
      "           1       0.80      0.60      0.69       269\n",
      "\n",
      "    accuracy                           0.78       679\n",
      "   macro avg       0.79      0.75      0.76       679\n",
      "weighted avg       0.78      0.78      0.77       679\n",
      "\n",
      "CPU times: user 19.7 ms, sys: 3.58 ms, total: 23.3 ms\n",
      "Wall time: 21.1 ms\n"
     ]
    }
   ],
   "source": [
    "%%time\n",
    "from sklearn.metrics import classification_report\n",
    "y_pred_val_nb = nb.predict(X_val)\n",
    "print('Accuracy on Validation set :',accuracy_score(y_val, y_pred_val_nb))\n",
    "print(\"\\n\")\n",
    "print(classification_report(y_val, y_pred_val_nb))"
   ]
  },
  {
   "cell_type": "code",
   "execution_count": 92,
   "metadata": {
    "execution": {
     "iopub.execute_input": "2022-09-13T04:58:57.111702Z",
     "iopub.status.busy": "2022-09-13T04:58:57.111104Z",
     "iopub.status.idle": "2022-09-13T04:58:57.352422Z",
     "shell.execute_reply": "2022-09-13T04:58:57.350864Z",
     "shell.execute_reply.started": "2022-09-13T04:58:57.111662Z"
    },
    "id": "K_whAabJZzL0",
    "outputId": "61f425c1-391f-4b3a-a89c-d514b1e71b8f"
   },
   "outputs": [
    {
     "name": "stdout",
     "output_type": "stream",
     "text": [
      "Confusion Matrix: \n",
      " <sklearn.metrics._plot.confusion_matrix.ConfusionMatrixDisplay object at 0x7f2458affbd0>\n"
     ]
    },
    {
     "data": {
      "image/png": "[encoded data removed]",
      "text/plain": [
       "<Figure size 432x288 with 2 Axes>"
      ]
     },
     "metadata": {},
     "output_type": "display_data"
    }
   ],
   "source": [
    "print('Confusion Matrix: \\n',metrics.ConfusionMatrixDisplay.from_predictions(y_val, y_pred_val_nb))"
   ]
  },
  {
   "cell_type": "code",
   "execution_count": 93,
   "metadata": {
    "execution": {
     "iopub.execute_input": "2022-09-13T04:58:57.355825Z",
     "iopub.status.busy": "2022-09-13T04:58:57.355192Z",
     "iopub.status.idle": "2022-09-13T04:58:57.596966Z",
     "shell.execute_reply": "2022-09-13T04:58:57.595492Z",
     "shell.execute_reply.started": "2022-09-13T04:58:57.355768Z"
    },
    "id": "fV5erJzeZz0D",
    "outputId": "38ef19ad-f326-4f9c-a59d-cc5c6147d394"
   },
   "outputs": [
    {
     "name": "stdout",
     "output_type": "stream",
     "text": [
      "Normalized Confusion Matrix:\n",
      " <sklearn.metrics._plot.confusion_matrix.ConfusionMatrixDisplay object at 0x7f2458ea1950>\n"
     ]
    },
    {
     "data": {
      "image/png": "[encoded data removed]",
      "text/plain": [
       "<Figure size 432x288 with 2 Axes>"
      ]
     },
     "metadata": {},
     "output_type": "display_data"
    }
   ],
   "source": [
    "print('Normalized Confusion Matrix:\\n',metrics.ConfusionMatrixDisplay.from_predictions(y_val, y_pred_val_nb,normalize='all'))"
   ]
  },
  {
   "cell_type": "markdown",
   "metadata": {
    "id": "Ze6I70a7wKdc"
   },
   "source": [
    "**Logistic Regression**"
   ]
  },
  {
   "cell_type": "code",
   "execution_count": 94,
   "metadata": {
    "execution": {
     "iopub.execute_input": "2022-09-13T04:58:57.602089Z",
     "iopub.status.busy": "2022-09-13T04:58:57.600678Z",
     "iopub.status.idle": "2022-09-13T04:58:57.607632Z",
     "shell.execute_reply": "2022-09-13T04:58:57.606061Z",
     "shell.execute_reply.started": "2022-09-13T04:58:57.602036Z"
    },
    "id": "SiQ3Mkf9Oeo4"
   },
   "outputs": [],
   "source": [
    "from sklearn.linear_model import LogisticRegression"
   ]
  },
  {
   "cell_type": "code",
   "execution_count": 95,
   "metadata": {
    "execution": {
     "iopub.execute_input": "2022-09-13T04:58:57.610091Z",
     "iopub.status.busy": "2022-09-13T04:58:57.609556Z",
     "iopub.status.idle": "2022-09-13T04:58:58.497159Z",
     "shell.execute_reply": "2022-09-13T04:58:58.495254Z",
     "shell.execute_reply.started": "2022-09-13T04:58:57.610046Z"
    },
    "id": "YgGknnerv8g6",
    "outputId": "5c411937-0dfd-415d-da15-49d4ee405c38"
   },
   "outputs": [
    {
     "data": {
      "text/plain": [
       "Pipeline(steps=[('vect', CountVectorizer()), ('tfidf', TfidfTransformer()),\n",
       "                ('clf', LogisticRegression(C=100000.0, n_jobs=1))])"
      ]
     },
     "execution_count": 95,
     "metadata": {},
     "output_type": "execute_result"
    }
   ],
   "source": [
    "clf_lr = Pipeline([('vect', CountVectorizer()),\n",
    "                ('tfidf', TfidfTransformer()),\n",
    "                ('clf', LogisticRegression(n_jobs=1, C=1e5)),\n",
    "               ])\n",
    "clf_lr.fit(X_train, y_train)"
   ]
  },
  {
   "cell_type": "code",
   "execution_count": 96,
   "metadata": {
    "execution": {
     "iopub.execute_input": "2022-09-13T04:58:58.514254Z",
     "iopub.status.busy": "2022-09-13T04:58:58.508164Z",
     "iopub.status.idle": "2022-09-13T04:58:58.598971Z",
     "shell.execute_reply": "2022-09-13T04:58:58.597357Z",
     "shell.execute_reply.started": "2022-09-13T04:58:58.514130Z"
    },
    "id": "vkPQg1pLOoea",
    "outputId": "03eab035-73d7-4987-d655-658d41d71c03"
   },
   "outputs": [
    {
     "name": "stdout",
     "output_type": "stream",
     "text": [
      "Accuracy on Validation set : 0.7407952871870398\n",
      "\n",
      "\n",
      "              precision    recall  f1-score   support\n",
      "\n",
      "           0       0.79      0.78      0.78       410\n",
      "           1       0.67      0.68      0.68       269\n",
      "\n",
      "    accuracy                           0.74       679\n",
      "   macro avg       0.73      0.73      0.73       679\n",
      "weighted avg       0.74      0.74      0.74       679\n",
      "\n",
      "CPU times: user 109 ms, sys: 143 ms, total: 252 ms\n",
      "Wall time: 64.1 ms\n"
     ]
    }
   ],
   "source": [
    "%%time\n",
    "y_pred_val_lr = clf_lr.predict(X_val)\n",
    "print('Accuracy on Validation set :',accuracy_score(y_val, y_pred_val_lr))\n",
    "print(\"\\n\")\n",
    "print(classification_report(y_val, y_pred_val_lr))"
   ]
  },
  {
   "cell_type": "code",
   "execution_count": 97,
   "metadata": {
    "execution": {
     "iopub.execute_input": "2022-09-13T04:58:58.601125Z",
     "iopub.status.busy": "2022-09-13T04:58:58.600732Z",
     "iopub.status.idle": "2022-09-13T04:58:58.855497Z",
     "shell.execute_reply": "2022-09-13T04:58:58.853924Z",
     "shell.execute_reply.started": "2022-09-13T04:58:58.601090Z"
    },
    "id": "1-izyN9wOw3V",
    "outputId": "bff4d8c5-6719-45a1-9a87-8e87b89dd884"
   },
   "outputs": [
    {
     "name": "stdout",
     "output_type": "stream",
     "text": [
      "Confusion Matrix : \n",
      " <sklearn.metrics._plot.confusion_matrix.ConfusionMatrixDisplay object at 0x7f24589b5b10>\n"
     ]
    },
    {
     "data": {
      "image/png": "[encoded data removed]",
      "text/plain": [
       "<Figure size 432x288 with 2 Axes>"
      ]
     },
     "metadata": {},
     "output_type": "display_data"
    }
   ],
   "source": [
    "print('Confusion Matrix : \\n',metrics.ConfusionMatrixDisplay.from_predictions(y_val, y_pred_val_lr))"
   ]
  },
  {
   "cell_type": "code",
   "execution_count": 98,
   "metadata": {
    "execution": {
     "iopub.execute_input": "2022-09-13T04:58:58.858329Z",
     "iopub.status.busy": "2022-09-13T04:58:58.857465Z",
     "iopub.status.idle": "2022-09-13T04:58:59.176183Z",
     "shell.execute_reply": "2022-09-13T04:58:59.174707Z",
     "shell.execute_reply.started": "2022-09-13T04:58:58.858278Z"
    },
    "id": "ddD0GIoRauFp",
    "outputId": "12a49e3e-9266-4866-d025-c986c0f27343"
   },
   "outputs": [
    {
     "name": "stdout",
     "output_type": "stream",
     "text": [
      "Normalized Confusion Matrix :\n",
      " <sklearn.metrics._plot.confusion_matrix.ConfusionMatrixDisplay object at 0x7f245878c710>\n"
     ]
    },
    {
     "data": {
      "image/png": "[encoded data removed]",
      "text/plain": [
       "<Figure size 432x288 with 2 Axes>"
      ]
     },
     "metadata": {},
     "output_type": "display_data"
    }
   ],
   "source": [
    "print('Normalized Confusion Matrix :\\n',metrics.ConfusionMatrixDisplay.from_predictions(y_val, y_pred_val_lr,normalize='all'))"
   ]
  },
  {
   "cell_type": "markdown",
   "metadata": {
    "id": "YUj2vq3-wNz-"
   },
   "source": [
    "**Support Vector Classifier**"
   ]
  },
  {
   "cell_type": "code",
   "execution_count": 99,
   "metadata": {
    "execution": {
     "iopub.execute_input": "2022-09-13T04:58:59.179091Z",
     "iopub.status.busy": "2022-09-13T04:58:59.178216Z",
     "iopub.status.idle": "2022-09-13T04:58:59.186583Z",
     "shell.execute_reply": "2022-09-13T04:58:59.184943Z",
     "shell.execute_reply.started": "2022-09-13T04:58:59.179030Z"
    },
    "id": "pfhFOU0Ga06k"
   },
   "outputs": [],
   "source": [
    "from sklearn.linear_model import SGDClassifier"
   ]
  },
  {
   "cell_type": "code",
   "execution_count": 100,
   "metadata": {
    "execution": {
     "iopub.execute_input": "2022-09-13T04:58:59.188650Z",
     "iopub.status.busy": "2022-09-13T04:58:59.188219Z",
     "iopub.status.idle": "2022-09-13T04:58:59.354560Z",
     "shell.execute_reply": "2022-09-13T04:58:59.352412Z",
     "shell.execute_reply.started": "2022-09-13T04:58:59.188591Z"
    },
    "id": "Fg02rI7ea0vH",
    "outputId": "1f3d1a4d-2107-4321-d8c4-4861b96485d3"
   },
   "outputs": [
    {
     "data": {
      "text/plain": [
       "Pipeline(steps=[('vect', CountVectorizer()), ('tfidf', TfidfTransformer()),\n",
       "                ('clf',\n",
       "                 SGDClassifier(alpha=0.001, max_iter=5, random_state=42,\n",
       "                               tol=None))])"
      ]
     },
     "execution_count": 100,
     "metadata": {},
     "output_type": "execute_result"
    }
   ],
   "source": [
    "sgd = Pipeline([('vect', CountVectorizer()),\n",
    "                ('tfidf', TfidfTransformer()),\n",
    "                ('clf', SGDClassifier(loss='hinge', penalty='l2',alpha=1e-3, random_state=42, max_iter=5, tol=None)),\n",
    "               ])\n",
    "sgd.fit(X_train, y_train)"
   ]
  },
  {
   "cell_type": "code",
   "execution_count": 101,
   "metadata": {
    "execution": {
     "iopub.execute_input": "2022-09-13T04:58:59.359473Z",
     "iopub.status.busy": "2022-09-13T04:58:59.357377Z",
     "iopub.status.idle": "2022-09-13T04:58:59.415983Z",
     "shell.execute_reply": "2022-09-13T04:58:59.414495Z",
     "shell.execute_reply.started": "2022-09-13T04:58:59.359373Z"
    },
    "id": "FPCqq-jDbBUM",
    "outputId": "3f5f364a-78be-443c-c284-705255709b82"
   },
   "outputs": [
    {
     "name": "stdout",
     "output_type": "stream",
     "text": [
      "Accuracy on Validation set : 0.7422680412371134\n",
      "\n",
      "\n",
      "              precision    recall  f1-score   support\n",
      "\n",
      "           0       0.72      0.93      0.81       410\n",
      "           1       0.82      0.45      0.58       269\n",
      "\n",
      "    accuracy                           0.74       679\n",
      "   macro avg       0.77      0.69      0.70       679\n",
      "weighted avg       0.76      0.74      0.72       679\n",
      "\n",
      "CPU times: user 99.5 ms, sys: 71.4 ms, total: 171 ms\n",
      "Wall time: 44.7 ms\n"
     ]
    }
   ],
   "source": [
    "%%time\n",
    "y_pred_val_sgd = sgd.predict(X_val)\n",
    "print('Accuracy on Validation set :',accuracy_score(y_val, y_pred_val_sgd))\n",
    "print(\"\\n\")\n",
    "print(classification_report(y_val,y_pred_val_sgd))"
   ]
  },
  {
   "cell_type": "code",
   "execution_count": 102,
   "metadata": {
    "execution": {
     "iopub.execute_input": "2022-09-13T04:58:59.419389Z",
     "iopub.status.busy": "2022-09-13T04:58:59.417849Z",
     "iopub.status.idle": "2022-09-13T04:58:59.722025Z",
     "shell.execute_reply": "2022-09-13T04:58:59.720523Z",
     "shell.execute_reply.started": "2022-09-13T04:58:59.419326Z"
    },
    "id": "nJ51xCa-bFyp",
    "outputId": "02431241-45c3-43bb-a2cb-fe4e3adcfbe5"
   },
   "outputs": [
    {
     "name": "stdout",
     "output_type": "stream",
     "text": [
      "Confusion Matrix : \n",
      " <sklearn.metrics._plot.confusion_matrix.ConfusionMatrixDisplay object at 0x7f2456f10650>\n"
     ]
    },
    {
     "data": {
      "image/png": "[encoded data removed]",
      "text/plain": [
       "<Figure size 432x288 with 2 Axes>"
      ]
     },
     "metadata": {},
     "output_type": "display_data"
    }
   ],
   "source": [
    "print('Confusion Matrix : \\n',metrics.ConfusionMatrixDisplay.from_predictions(y_val, y_pred_val_sgd))"
   ]
  },
  {
   "cell_type": "code",
   "execution_count": 103,
   "metadata": {
    "execution": {
     "iopub.execute_input": "2022-09-13T04:58:59.725708Z",
     "iopub.status.busy": "2022-09-13T04:58:59.724073Z",
     "iopub.status.idle": "2022-09-13T04:58:59.972078Z",
     "shell.execute_reply": "2022-09-13T04:58:59.970361Z",
     "shell.execute_reply.started": "2022-09-13T04:58:59.725644Z"
    },
    "id": "Gw__F3KGbFkb",
    "outputId": "0c648f11-ebfe-4229-bbe9-754b220bbe26"
   },
   "outputs": [
    {
     "name": "stdout",
     "output_type": "stream",
     "text": [
      "Normalized Confusion Matrix :\n",
      " <sklearn.metrics._plot.confusion_matrix.ConfusionMatrixDisplay object at 0x7f2458797e90>\n"
     ]
    },
    {
     "data": {
      "image/png": "[encoded data removed]",
      "text/plain": [
       "<Figure size 432x288 with 2 Axes>"
      ]
     },
     "metadata": {},
     "output_type": "display_data"
    }
   ],
   "source": [
    "print('Normalized Confusion Matrix :\\n',metrics.ConfusionMatrixDisplay.from_predictions(y_val, y_pred_val_sgd,normalize='all'))"
   ]
  },
  {
   "cell_type": "markdown",
   "metadata": {
    "id": "R2WCPcLIwM8k"
   },
   "source": [
    "**Decision Tree Classifier**"
   ]
  },
  {
   "cell_type": "code",
   "execution_count": 104,
   "metadata": {
    "execution": {
     "iopub.execute_input": "2022-09-13T04:58:59.975407Z",
     "iopub.status.busy": "2022-09-13T04:58:59.974387Z",
     "iopub.status.idle": "2022-09-13T04:59:00.011071Z",
     "shell.execute_reply": "2022-09-13T04:59:00.009962Z",
     "shell.execute_reply.started": "2022-09-13T04:58:59.975354Z"
    },
    "id": "nsn814c-bOTJ"
   },
   "outputs": [],
   "source": [
    "from sklearn.tree import DecisionTreeClassifier"
   ]
  },
  {
   "cell_type": "code",
   "execution_count": 105,
   "metadata": {
    "execution": {
     "iopub.execute_input": "2022-09-13T04:59:00.013505Z",
     "iopub.status.busy": "2022-09-13T04:59:00.012829Z",
     "iopub.status.idle": "2022-09-13T04:59:02.234363Z",
     "shell.execute_reply": "2022-09-13T04:59:02.233081Z",
     "shell.execute_reply.started": "2022-09-13T04:59:00.013460Z"
    },
    "id": "wGZEZ1oObOMM",
    "outputId": "2da971c1-4e54-453a-974a-c21c6c041825"
   },
   "outputs": [
    {
     "data": {
      "text/plain": [
       "Pipeline(steps=[('vect', CountVectorizer()), ('tfidf', TfidfTransformer()),\n",
       "                ('clf', DecisionTreeClassifier(random_state=0))])"
      ]
     },
     "execution_count": 105,
     "metadata": {},
     "output_type": "execute_result"
    }
   ],
   "source": [
    "dc = Pipeline([('vect', CountVectorizer()),\n",
    "                ('tfidf', TfidfTransformer()),\n",
    "                ('clf', DecisionTreeClassifier(random_state=0)),\n",
    "               ])\n",
    "dc.fit(X_train, y_train)"
   ]
  },
  {
   "cell_type": "code",
   "execution_count": 106,
   "metadata": {
    "execution": {
     "iopub.execute_input": "2022-09-13T04:59:02.236378Z",
     "iopub.status.busy": "2022-09-13T04:59:02.235988Z",
     "iopub.status.idle": "2022-09-13T04:59:02.265949Z",
     "shell.execute_reply": "2022-09-13T04:59:02.264425Z",
     "shell.execute_reply.started": "2022-09-13T04:59:02.236342Z"
    },
    "id": "2Zz8ZHYPbOER",
    "outputId": "b8ee03f7-7ac9-44ee-8221-6b1a3877bb02"
   },
   "outputs": [
    {
     "name": "stdout",
     "output_type": "stream",
     "text": [
      "Accuracy on Validation set : 0.7083946980854198\n",
      "\n",
      "\n",
      "              precision    recall  f1-score   support\n",
      "\n",
      "           0       0.75      0.77      0.76       410\n",
      "           1       0.63      0.62      0.63       269\n",
      "\n",
      "    accuracy                           0.71       679\n",
      "   macro avg       0.69      0.69      0.69       679\n",
      "weighted avg       0.71      0.71      0.71       679\n",
      "\n",
      "CPU times: user 22.3 ms, sys: 819 µs, total: 23.2 ms\n",
      "Wall time: 22.3 ms\n"
     ]
    }
   ],
   "source": [
    "%%time\n",
    "y_pred_val_dc = dc.predict(X_val)\n",
    "print('Accuracy on Validation set :',accuracy_score(y_val, y_pred_val_dc))\n",
    "print(\"\\n\")\n",
    "print(classification_report(y_val, y_pred_val_dc))"
   ]
  },
  {
   "cell_type": "code",
   "execution_count": 107,
   "metadata": {
    "execution": {
     "iopub.execute_input": "2022-09-13T04:59:02.269749Z",
     "iopub.status.busy": "2022-09-13T04:59:02.268427Z",
     "iopub.status.idle": "2022-09-13T04:59:02.552573Z",
     "shell.execute_reply": "2022-09-13T04:59:02.550932Z",
     "shell.execute_reply.started": "2022-09-13T04:59:02.269673Z"
    },
    "id": "8eEXNgl5baHQ",
    "outputId": "edbfac37-a97f-4bd3-aac0-779ba02b869d"
   },
   "outputs": [
    {
     "name": "stdout",
     "output_type": "stream",
     "text": [
      "Confusion Matrix : \n",
      " <sklearn.metrics._plot.confusion_matrix.ConfusionMatrixDisplay object at 0x7f2456f194d0>\n"
     ]
    },
    {
     "data": {
      "image/png": "[encoded data removed]",
      "text/plain": [
       "<Figure size 432x288 with 2 Axes>"
      ]
     },
     "metadata": {},
     "output_type": "display_data"
    }
   ],
   "source": [
    "print('Confusion Matrix : \\n',metrics.ConfusionMatrixDisplay.from_predictions(y_val, y_pred_val_dc))"
   ]
  },
  {
   "cell_type": "code",
   "execution_count": 108,
   "metadata": {
    "execution": {
     "iopub.execute_input": "2022-09-13T04:59:02.555601Z",
     "iopub.status.busy": "2022-09-13T04:59:02.555010Z",
     "iopub.status.idle": "2022-09-13T04:59:02.802434Z",
     "shell.execute_reply": "2022-09-13T04:59:02.801057Z",
     "shell.execute_reply.started": "2022-09-13T04:59:02.555545Z"
    },
    "id": "IedNlLCJbaAd",
    "outputId": "dc590831-f0b0-485b-f8f8-4a2e9a857ef2"
   },
   "outputs": [
    {
     "name": "stdout",
     "output_type": "stream",
     "text": [
      "Normalized Confusion Matrix :\n",
      " <sklearn.metrics._plot.confusion_matrix.ConfusionMatrixDisplay object at 0x7f2456c0e690>\n"
     ]
    },
    {
     "data": {
      "image/png": "[encoded data removed]",
      "text/plain": [
       "<Figure size 432x288 with 2 Axes>"
      ]
     },
     "metadata": {},
     "output_type": "display_data"
    }
   ],
   "source": [
    "print('Normalized Confusion Matrix :\\n',metrics.ConfusionMatrixDisplay.from_predictions(y_val, y_pred_val_dc,normalize='all'))"
   ]
  },
  {
   "cell_type": "markdown",
   "metadata": {
    "id": "1X-HtBNowX2M"
   },
   "source": [
    "**Random Forest Classifier**"
   ]
  },
  {
   "cell_type": "code",
   "execution_count": 109,
   "metadata": {
    "execution": {
     "iopub.execute_input": "2022-09-13T04:59:02.805248Z",
     "iopub.status.busy": "2022-09-13T04:59:02.804667Z",
     "iopub.status.idle": "2022-09-13T04:59:02.832185Z",
     "shell.execute_reply": "2022-09-13T04:59:02.830915Z",
     "shell.execute_reply.started": "2022-09-13T04:59:02.805190Z"
    },
    "id": "IvR0h4Rhbf6a"
   },
   "outputs": [],
   "source": [
    "from sklearn.ensemble import RandomForestClassifier"
   ]
  },
  {
   "cell_type": "code",
   "execution_count": 110,
   "metadata": {
    "execution": {
     "iopub.execute_input": "2022-09-13T04:59:02.834035Z",
     "iopub.status.busy": "2022-09-13T04:59:02.833650Z",
     "iopub.status.idle": "2022-09-13T04:59:03.722841Z",
     "shell.execute_reply": "2022-09-13T04:59:03.721584Z",
     "shell.execute_reply.started": "2022-09-13T04:59:02.834000Z"
    },
    "id": "XhZ7O2asbfzh",
    "outputId": "2865eca3-c7b1-426a-bfa2-f4ca6ea7dc01"
   },
   "outputs": [
    {
     "data": {
      "text/plain": [
       "Pipeline(steps=[('vect', CountVectorizer()), ('tfidf', TfidfTransformer()),\n",
       "                ('clf',\n",
       "                 RandomForestClassifier(max_depth=50, min_samples_leaf=2))])"
      ]
     },
     "execution_count": 110,
     "metadata": {},
     "output_type": "execute_result"
    }
   ],
   "source": [
    "rf = Pipeline([('vect', CountVectorizer()),\n",
    "                ('tfidf', TfidfTransformer()),\n",
    "                ('clf', RandomForestClassifier(n_estimators=100, max_depth=50, min_samples_split=2, min_samples_leaf = 2))\n",
    "               ])\n",
    "rf.fit(X_train, y_train)"
   ]
  },
  {
   "cell_type": "code",
   "execution_count": 111,
   "metadata": {
    "execution": {
     "iopub.execute_input": "2022-09-13T04:59:03.725301Z",
     "iopub.status.busy": "2022-09-13T04:59:03.724879Z",
     "iopub.status.idle": "2022-09-13T04:59:03.787894Z",
     "shell.execute_reply": "2022-09-13T04:59:03.786330Z",
     "shell.execute_reply.started": "2022-09-13T04:59:03.725264Z"
    },
    "id": "lUUQk_6Vbfij",
    "outputId": "28b875a3-051c-4f30-a08b-afa9c78afacb"
   },
   "outputs": [
    {
     "name": "stdout",
     "output_type": "stream",
     "text": [
      "Accuracy on Validation set : 0.7216494845360825\n",
      "\n",
      "\n",
      "              precision    recall  f1-score   support\n",
      "\n",
      "           0       0.70      0.95      0.80       410\n",
      "           1       0.83      0.38      0.52       269\n",
      "\n",
      "    accuracy                           0.72       679\n",
      "   macro avg       0.76      0.66      0.66       679\n",
      "weighted avg       0.75      0.72      0.69       679\n",
      "\n",
      "CPU times: user 56.4 ms, sys: 1.32 ms, total: 57.7 ms\n",
      "Wall time: 55.5 ms\n"
     ]
    }
   ],
   "source": [
    "%%time\n",
    "y_pred_val_rf = rf.predict(X_val)\n",
    "print('Accuracy on Validation set :',accuracy_score(y_val, y_pred_val_rf))\n",
    "print(\"\\n\")\n",
    "print(classification_report(y_val, y_pred_val_rf))"
   ]
  },
  {
   "cell_type": "code",
   "execution_count": 112,
   "metadata": {
    "execution": {
     "iopub.execute_input": "2022-09-13T04:59:03.791141Z",
     "iopub.status.busy": "2022-09-13T04:59:03.789827Z",
     "iopub.status.idle": "2022-09-13T04:59:04.044628Z",
     "shell.execute_reply": "2022-09-13T04:59:04.042968Z",
     "shell.execute_reply.started": "2022-09-13T04:59:03.791084Z"
    },
    "id": "i31BIA9tbfbB",
    "outputId": "9e8a218d-69fb-4471-ec98-7781cf4161df"
   },
   "outputs": [
    {
     "name": "stdout",
     "output_type": "stream",
     "text": [
      "Confusion Matrix : \n",
      " <sklearn.metrics._plot.confusion_matrix.ConfusionMatrixDisplay object at 0x7f24562c1610>\n"
     ]
    },
    {
     "data": {
      "image/png": "[encoded data removed]",
      "text/plain": [
       "<Figure size 432x288 with 2 Axes>"
      ]
     },
     "metadata": {},
     "output_type": "display_data"
    }
   ],
   "source": [
    "print('Confusion Matrix : \\n',metrics.ConfusionMatrixDisplay.from_predictions(y_val, y_pred_val_rf))"
   ]
  },
  {
   "cell_type": "code",
   "execution_count": 113,
   "metadata": {
    "execution": {
     "iopub.execute_input": "2022-09-13T04:59:04.047975Z",
     "iopub.status.busy": "2022-09-13T04:59:04.046922Z",
     "iopub.status.idle": "2022-09-13T04:59:04.331815Z",
     "shell.execute_reply": "2022-09-13T04:59:04.329741Z",
     "shell.execute_reply.started": "2022-09-13T04:59:04.047923Z"
    },
    "id": "3V0hVjhLbfQ0",
    "outputId": "b164ff89-f7c7-416d-ddc0-cb82d7e656ed"
   },
   "outputs": [
    {
     "name": "stdout",
     "output_type": "stream",
     "text": [
      "Normalized Confusion Matrix :\n",
      " <sklearn.metrics._plot.confusion_matrix.ConfusionMatrixDisplay object at 0x7f2456c8fbd0>\n"
     ]
    },
    {
     "data": {
      "image/png": "[encoded data removed]",
      "text/plain": [
       "<Figure size 432x288 with 2 Axes>"
      ]
     },
     "metadata": {},
     "output_type": "display_data"
    }
   ],
   "source": [
    "print('Normalized Confusion Matrix :\\n',metrics.ConfusionMatrixDisplay.from_predictions(y_val, y_pred_val_rf,normalize='all'))"
   ]
  },
  {
   "cell_type": "markdown",
   "metadata": {
    "id": "Wf0Uob-zwgB5"
   },
   "source": [
    "**MLP Classifier**"
   ]
  },
  {
   "cell_type": "code",
   "execution_count": 114,
   "metadata": {
    "execution": {
     "iopub.execute_input": "2022-09-13T04:59:04.334483Z",
     "iopub.status.busy": "2022-09-13T04:59:04.333990Z",
     "iopub.status.idle": "2022-09-13T04:59:04.343649Z",
     "shell.execute_reply": "2022-09-13T04:59:04.342163Z",
     "shell.execute_reply.started": "2022-09-13T04:59:04.334438Z"
    },
    "id": "dMJu5EXWbh5R"
   },
   "outputs": [],
   "source": [
    "from sklearn.neural_network import MLPClassifier"
   ]
  },
  {
   "cell_type": "code",
   "execution_count": 115,
   "metadata": {
    "execution": {
     "iopub.execute_input": "2022-09-13T04:59:04.346331Z",
     "iopub.status.busy": "2022-09-13T04:59:04.345126Z",
     "iopub.status.idle": "2022-09-13T05:02:21.694987Z",
     "shell.execute_reply": "2022-09-13T05:02:21.693039Z",
     "shell.execute_reply.started": "2022-09-13T04:59:04.346280Z"
    },
    "id": "mol4A2mVbhxT",
    "outputId": "95e368d6-9a71-4645-e313-7ab4283f1968"
   },
   "outputs": [
    {
     "data": {
      "text/plain": [
       "Pipeline(steps=[('vect', CountVectorizer()), ('tfidf', TfidfTransformer()),\n",
       "                ('clf', MLPClassifier(max_iter=300, random_state=1))])"
      ]
     },
     "execution_count": 115,
     "metadata": {},
     "output_type": "execute_result"
    }
   ],
   "source": [
    "mlp = Pipeline([('vect', CountVectorizer()),\n",
    "                ('tfidf', TfidfTransformer()),\n",
    "                ('clf', MLPClassifier(random_state=1, max_iter=300)),\n",
    "               ])\n",
    "mlp.fit(X_train, y_train)"
   ]
  },
  {
   "cell_type": "code",
   "execution_count": 116,
   "metadata": {
    "execution": {
     "iopub.execute_input": "2022-09-13T05:02:21.700222Z",
     "iopub.status.busy": "2022-09-13T05:02:21.697782Z",
     "iopub.status.idle": "2022-09-13T05:02:21.769045Z",
     "shell.execute_reply": "2022-09-13T05:02:21.767153Z",
     "shell.execute_reply.started": "2022-09-13T05:02:21.700122Z"
    },
    "id": "B3sY4m4mbhpz",
    "outputId": "b3a09aec-0f1c-410b-bb4f-250a2d8f081b"
   },
   "outputs": [
    {
     "name": "stdout",
     "output_type": "stream",
     "text": [
      "Accuracy on Validation set : 0.7290132547864506\n",
      "\n",
      "\n",
      "              precision    recall  f1-score   support\n",
      "\n",
      "           0       0.78      0.77      0.77       410\n",
      "           1       0.65      0.67      0.66       269\n",
      "\n",
      "    accuracy                           0.73       679\n",
      "   macro avg       0.72      0.72      0.72       679\n",
      "weighted avg       0.73      0.73      0.73       679\n",
      "\n",
      "CPU times: user 72.3 ms, sys: 58.4 ms, total: 131 ms\n",
      "Wall time: 50 ms\n"
     ]
    }
   ],
   "source": [
    "%%time\n",
    "y_pred_val_mlp = mlp.predict(X_val)\n",
    "print('Accuracy on Validation set :',accuracy_score(y_val, y_pred_val_mlp))\n",
    "print(\"\\n\")\n",
    "print(classification_report(y_val, y_pred_val_mlp))"
   ]
  },
  {
   "cell_type": "code",
   "execution_count": 117,
   "metadata": {
    "execution": {
     "iopub.execute_input": "2022-09-13T05:02:21.788137Z",
     "iopub.status.busy": "2022-09-13T05:02:21.781322Z",
     "iopub.status.idle": "2022-09-13T05:02:22.158507Z",
     "shell.execute_reply": "2022-09-13T05:02:22.157263Z",
     "shell.execute_reply.started": "2022-09-13T05:02:21.788011Z"
    },
    "id": "yYsZUa1gbhi6",
    "outputId": "d5f8aebb-e2cb-4df2-b9da-fbd4dced4927"
   },
   "outputs": [
    {
     "name": "stdout",
     "output_type": "stream",
     "text": [
      "Confusion Matrix : \n",
      " <sklearn.metrics._plot.confusion_matrix.ConfusionMatrixDisplay object at 0x7f2455fc9d50>\n"
     ]
    },
    {
     "data": {
      "image/png": "[encoded data removed]",
      "text/plain": [
       "<Figure size 432x288 with 2 Axes>"
      ]
     },
     "metadata": {},
     "output_type": "display_data"
    }
   ],
   "source": [
    "print('Confusion Matrix : \\n',metrics.ConfusionMatrixDisplay.from_predictions(y_val, y_pred_val_mlp))"
   ]
  },
  {
   "cell_type": "code",
   "execution_count": 118,
   "metadata": {
    "execution": {
     "iopub.execute_input": "2022-09-13T05:02:22.161554Z",
     "iopub.status.busy": "2022-09-13T05:02:22.160038Z",
     "iopub.status.idle": "2022-09-13T05:02:22.470205Z",
     "shell.execute_reply": "2022-09-13T05:02:22.468894Z",
     "shell.execute_reply.started": "2022-09-13T05:02:22.161494Z"
    },
    "id": "pCZXlEPqbhcP",
    "outputId": "cd549df8-7ed1-4b49-9340-78e07e536a5d"
   },
   "outputs": [
    {
     "name": "stdout",
     "output_type": "stream",
     "text": [
      "Normalized Confusion Matrix :\n",
      " <sklearn.metrics._plot.confusion_matrix.ConfusionMatrixDisplay object at 0x7f2455fca850>\n"
     ]
    },
    {
     "data": {
      "image/png": "[encoded data removed]",
      "text/plain": [
       "<Figure size 432x288 with 2 Axes>"
      ]
     },
     "metadata": {},
     "output_type": "display_data"
    }
   ],
   "source": [
    "print('Normalized Confusion Matrix :\\n',metrics.ConfusionMatrixDisplay.from_predictions(y_val, y_pred_val_mlp,normalize='all'))"
   ]
  },
  {
   "cell_type": "markdown",
   "metadata": {
    "id": "ko0pEgU1dRFZ"
   },
   "source": [
    "**Gradient Boosting Classifier**"
   ]
  },
  {
   "cell_type": "code",
   "execution_count": 119,
   "metadata": {
    "execution": {
     "iopub.execute_input": "2022-09-13T05:02:22.472445Z",
     "iopub.status.busy": "2022-09-13T05:02:22.471983Z",
     "iopub.status.idle": "2022-09-13T05:02:22.478628Z",
     "shell.execute_reply": "2022-09-13T05:02:22.477235Z",
     "shell.execute_reply.started": "2022-09-13T05:02:22.472403Z"
    },
    "id": "aQeAgxJrdTnY"
   },
   "outputs": [],
   "source": [
    "from sklearn.ensemble import GradientBoostingClassifier"
   ]
  },
  {
   "cell_type": "code",
   "execution_count": 120,
   "metadata": {
    "execution": {
     "iopub.execute_input": "2022-09-13T05:02:22.481399Z",
     "iopub.status.busy": "2022-09-13T05:02:22.480355Z",
     "iopub.status.idle": "2022-09-13T05:02:23.452202Z",
     "shell.execute_reply": "2022-09-13T05:02:23.450817Z",
     "shell.execute_reply.started": "2022-09-13T05:02:22.481351Z"
    },
    "id": "M2bBY6iNdUUO",
    "outputId": "f383f2c3-dfa2-477f-cd8f-b372a2a02be8"
   },
   "outputs": [
    {
     "data": {
      "text/plain": [
       "Pipeline(steps=[('vect', CountVectorizer()), ('tfidf', TfidfTransformer()),\n",
       "                ('clf',\n",
       "                 GradientBoostingClassifier(learning_rate=1.0, max_depth=1,\n",
       "                                            random_state=0))])"
      ]
     },
     "execution_count": 120,
     "metadata": {},
     "output_type": "execute_result"
    }
   ],
   "source": [
    "gbc = Pipeline([('vect', CountVectorizer()),\n",
    "                ('tfidf', TfidfTransformer()),\n",
    "                ('clf', GradientBoostingClassifier(n_estimators=100, learning_rate=1.0,max_depth=1, random_state=0)),\n",
    "               ])\n",
    "gbc.fit(X_train, y_train)"
   ]
  },
  {
   "cell_type": "code",
   "execution_count": 121,
   "metadata": {
    "execution": {
     "iopub.execute_input": "2022-09-13T05:02:23.455208Z",
     "iopub.status.busy": "2022-09-13T05:02:23.454567Z",
     "iopub.status.idle": "2022-09-13T05:02:23.489090Z",
     "shell.execute_reply": "2022-09-13T05:02:23.486907Z",
     "shell.execute_reply.started": "2022-09-13T05:02:23.455148Z"
    },
    "id": "rdnh1z-0dULh",
    "outputId": "8fddb81a-f1ba-476e-f07a-c804cb9b53f9"
   },
   "outputs": [
    {
     "name": "stdout",
     "output_type": "stream",
     "text": [
      "Accuracy on Validation set : 0.7584683357879234\n",
      "\n",
      "\n",
      "              precision    recall  f1-score   support\n",
      "\n",
      "           0       0.78      0.83      0.81       410\n",
      "           1       0.72      0.65      0.68       269\n",
      "\n",
      "    accuracy                           0.76       679\n",
      "   macro avg       0.75      0.74      0.74       679\n",
      "weighted avg       0.76      0.76      0.76       679\n",
      "\n",
      "CPU times: user 22.9 ms, sys: 1.91 ms, total: 24.8 ms\n",
      "Wall time: 24.5 ms\n"
     ]
    }
   ],
   "source": [
    "%%time\n",
    "y_pred_val_gbc = gbc.predict(X_val)\n",
    "print('Accuracy on Validation set :',accuracy_score(y_val, y_pred_val_gbc))\n",
    "print(\"\\n\")\n",
    "print(classification_report(y_val, y_pred_val_gbc))"
   ]
  },
  {
   "cell_type": "code",
   "execution_count": 122,
   "metadata": {
    "execution": {
     "iopub.execute_input": "2022-09-13T05:02:23.492665Z",
     "iopub.status.busy": "2022-09-13T05:02:23.491654Z",
     "iopub.status.idle": "2022-09-13T05:02:23.790939Z",
     "shell.execute_reply": "2022-09-13T05:02:23.788565Z",
     "shell.execute_reply.started": "2022-09-13T05:02:23.492589Z"
    },
    "id": "rmjha-AvdUCt",
    "outputId": "ae0c8942-bff4-4409-c224-0441abe02615"
   },
   "outputs": [
    {
     "name": "stdout",
     "output_type": "stream",
     "text": [
      "Confusion Matrix : \n",
      " <sklearn.metrics._plot.confusion_matrix.ConfusionMatrixDisplay object at 0x7f2455dd3890>\n"
     ]
    },
    {
     "data": {
      "image/png": "[encoded data removed]",
      "text/plain": [
       "<Figure size 432x288 with 2 Axes>"
      ]
     },
     "metadata": {},
     "output_type": "display_data"
    }
   ],
   "source": [
    "print('Confusion Matrix : \\n',metrics.ConfusionMatrixDisplay.from_predictions(y_val, y_pred_val_gbc))"
   ]
  },
  {
   "cell_type": "code",
   "execution_count": 123,
   "metadata": {
    "execution": {
     "iopub.execute_input": "2022-09-13T05:02:23.794017Z",
     "iopub.status.busy": "2022-09-13T05:02:23.793362Z",
     "iopub.status.idle": "2022-09-13T05:02:24.126894Z",
     "shell.execute_reply": "2022-09-13T05:02:24.125459Z",
     "shell.execute_reply.started": "2022-09-13T05:02:23.793959Z"
    },
    "id": "-DVzTJUwdT6d",
    "outputId": "bc62f228-8992-45c4-a874-b5c93fa6fe53"
   },
   "outputs": [
    {
     "name": "stdout",
     "output_type": "stream",
     "text": [
      "Normalized Confusion Matrix :\n",
      " <sklearn.metrics._plot.confusion_matrix.ConfusionMatrixDisplay object at 0x7f2455dd8e90>\n"
     ]
    },
    {
     "data": {
      "image/png": "[encoded data removed]",
      "text/plain": [
       "<Figure size 432x288 with 2 Axes>"
      ]
     },
     "metadata": {},
     "output_type": "display_data"
    }
   ],
   "source": [
    "print('Normalized Confusion Matrix :\\n',metrics.ConfusionMatrixDisplay.from_predictions(y_val, y_pred_val_gbc,normalize='all'))"
   ]
  },
  {
   "cell_type": "markdown",
   "metadata": {
    "id": "iyZ28vkFdx78"
   },
   "source": [
    "**Light GBM Classifier**"
   ]
  },
  {
   "cell_type": "code",
   "execution_count": 124,
   "metadata": {
    "execution": {
     "iopub.execute_input": "2022-09-13T05:02:24.129147Z",
     "iopub.status.busy": "2022-09-13T05:02:24.128730Z",
     "iopub.status.idle": "2022-09-13T05:02:24.695908Z",
     "shell.execute_reply": "2022-09-13T05:02:24.694277Z",
     "shell.execute_reply.started": "2022-09-13T05:02:24.129109Z"
    },
    "id": "s_Zrj9TUd37z"
   },
   "outputs": [
    {
     "data": {
      "text/html": [
       "<style type='text/css'>\n",
       ".datatable table.frame { margin-bottom: 0; }\n",
       ".datatable table.frame thead { border-bottom: none; }\n",
       ".datatable table.frame tr.coltypes td {  color: #FFFFFF;  line-height: 6px;  padding: 0 0.5em;}\n",
       ".datatable .bool    { background: #DDDD99; }\n",
       ".datatable .object  { background: #565656; }\n",
       ".datatable .int     { background: #5D9E5D; }\n",
       ".datatable .float   { background: #4040CC; }\n",
       ".datatable .str     { background: #CC4040; }\n",
       ".datatable .time    { background: #40CC40; }\n",
       ".datatable .row_index {  background: var(--jp-border-color3);  border-right: 1px solid var(--jp-border-color0);  color: var(--jp-ui-font-color3);  font-size: 9px;}\n",
       ".datatable .frame tbody td { text-align: left; }\n",
       ".datatable .frame tr.coltypes .row_index {  background: var(--jp-border-color0);}\n",
       ".datatable th:nth-child(2) { padding-left: 12px; }\n",
       ".datatable .hellipsis {  color: var(--jp-cell-editor-border-color);}\n",
       ".datatable .vellipsis {  background: var(--jp-layout-color0);  color: var(--jp-cell-editor-border-color);}\n",
       ".datatable .na {  color: var(--jp-cell-editor-border-color);  font-size: 80%;}\n",
       ".datatable .sp {  opacity: 0.25;}\n",
       ".datatable .footer { font-size: 9px; }\n",
       ".datatable .frame_dimensions {  background: var(--jp-border-color3);  border-top: 1px solid var(--jp-border-color0);  color: var(--jp-ui-font-color3);  display: inline-block;  opacity: 0.6;  padding: 1px 10px 1px 5px;}\n",
       "</style>\n"
      ],
      "text/plain": [
       "<IPython.core.display.HTML object>"
      ]
     },
     "metadata": {},
     "output_type": "display_data"
    }
   ],
   "source": [
    "from lightgbm import LGBMClassifier"
   ]
  },
  {
   "cell_type": "code",
   "execution_count": 125,
   "metadata": {
    "execution": {
     "iopub.execute_input": "2022-09-13T05:02:24.698250Z",
     "iopub.status.busy": "2022-09-13T05:02:24.697785Z",
     "iopub.status.idle": "2022-09-13T05:02:25.463191Z",
     "shell.execute_reply": "2022-09-13T05:02:25.461503Z",
     "shell.execute_reply.started": "2022-09-13T05:02:24.698208Z"
    },
    "id": "0yjwnM6td4q5",
    "outputId": "1afc6ce8-ebf3-445f-e388-bd9626eefd25"
   },
   "outputs": [
    {
     "data": {
      "text/plain": [
       "Pipeline(steps=[('vect', CountVectorizer()), ('tfidf', TfidfTransformer()),\n",
       "                ('clf', LGBMClassifier())])"
      ]
     },
     "execution_count": 125,
     "metadata": {},
     "output_type": "execute_result"
    }
   ],
   "source": [
    "lgbm = Pipeline([('vect', CountVectorizer()),\n",
    "                ('tfidf', TfidfTransformer()),\n",
    "                ('clf', LGBMClassifier()),\n",
    "               ])\n",
    "lgbm.fit(X_train, y_train)"
   ]
  },
  {
   "cell_type": "code",
   "execution_count": 126,
   "metadata": {
    "execution": {
     "iopub.execute_input": "2022-09-13T05:02:25.468179Z",
     "iopub.status.busy": "2022-09-13T05:02:25.467746Z",
     "iopub.status.idle": "2022-09-13T05:02:25.504993Z",
     "shell.execute_reply": "2022-09-13T05:02:25.503407Z",
     "shell.execute_reply.started": "2022-09-13T05:02:25.468141Z"
    },
    "id": "E3xVS9Bgd4ig",
    "outputId": "77c44da9-7b53-4bbc-c166-6cdbc1120b39"
   },
   "outputs": [
    {
     "name": "stdout",
     "output_type": "stream",
     "text": [
      "Accuracy on Validation set : 0.7687776141384389\n",
      "\n",
      "\n",
      "              precision    recall  f1-score   support\n",
      "\n",
      "           0       0.77      0.89      0.82       410\n",
      "           1       0.77      0.59      0.67       269\n",
      "\n",
      "    accuracy                           0.77       679\n",
      "   macro avg       0.77      0.74      0.75       679\n",
      "weighted avg       0.77      0.77      0.76       679\n",
      "\n",
      "CPU times: user 65.5 ms, sys: 839 µs, total: 66.3 ms\n",
      "Wall time: 28.5 ms\n"
     ]
    }
   ],
   "source": [
    "%%time\n",
    "y_pred_val_lgbm = lgbm.predict(X_val)\n",
    "print('Accuracy on Validation set :',accuracy_score(y_val, y_pred_val_lgbm))\n",
    "print(\"\\n\")\n",
    "print(classification_report(y_val, y_pred_val_lgbm))"
   ]
  },
  {
   "cell_type": "code",
   "execution_count": 127,
   "metadata": {
    "execution": {
     "iopub.execute_input": "2022-09-13T05:02:25.511929Z",
     "iopub.status.busy": "2022-09-13T05:02:25.511158Z",
     "iopub.status.idle": "2022-09-13T05:02:25.823840Z",
     "shell.execute_reply": "2022-09-13T05:02:25.822032Z",
     "shell.execute_reply.started": "2022-09-13T05:02:25.511883Z"
    },
    "id": "06NZL8npd4br",
    "outputId": "82bdf186-8603-4881-c79a-6fc7cb88a3fa"
   },
   "outputs": [
    {
     "name": "stdout",
     "output_type": "stream",
     "text": [
      "Confusion Matrix : \n",
      " <sklearn.metrics._plot.confusion_matrix.ConfusionMatrixDisplay object at 0x7f2453c37c90>\n"
     ]
    },
    {
     "data": {
      "image/png": "[encoded data removed]",
      "text/plain": [
       "<Figure size 432x288 with 2 Axes>"
      ]
     },
     "metadata": {},
     "output_type": "display_data"
    }
   ],
   "source": [
    "print('Confusion Matrix : \\n',metrics.ConfusionMatrixDisplay.from_predictions(y_val, y_pred_val_lgbm))"
   ]
  },
  {
   "cell_type": "code",
   "execution_count": 128,
   "metadata": {
    "execution": {
     "iopub.execute_input": "2022-09-13T05:02:25.826886Z",
     "iopub.status.busy": "2022-09-13T05:02:25.826422Z",
     "iopub.status.idle": "2022-09-13T05:02:26.136542Z",
     "shell.execute_reply": "2022-09-13T05:02:26.134581Z",
     "shell.execute_reply.started": "2022-09-13T05:02:25.826850Z"
    },
    "id": "ZS883g2Ed4Uc",
    "outputId": "86645ddf-b7ba-45fe-b6d1-523ad7b3d6f1"
   },
   "outputs": [
    {
     "name": "stdout",
     "output_type": "stream",
     "text": [
      "Normalized Confusion Matrix :\n",
      " <sklearn.metrics._plot.confusion_matrix.ConfusionMatrixDisplay object at 0x7f245230d310>\n"
     ]
    },
    {
     "data": {
      "image/png": "[encoded data removed]",
      "text/plain": [
       "<Figure size 432x288 with 2 Axes>"
      ]
     },
     "metadata": {},
     "output_type": "display_data"
    }
   ],
   "source": [
    "print('Normalized Confusion Matrix :\\n',metrics.ConfusionMatrixDisplay.from_predictions(y_val, y_pred_val_lgbm,normalize='all'))"
   ]
  },
  {
   "cell_type": "markdown",
   "metadata": {
    "id": "bZfIDMfRwiVg"
   },
   "source": [
    "**Accuracy scores on Validation sets by Models so far**"
   ]
  },
  {
   "cell_type": "code",
   "execution_count": 129,
   "metadata": {
    "execution": {
     "iopub.execute_input": "2022-09-13T05:02:26.142380Z",
     "iopub.status.busy": "2022-09-13T05:02:26.141575Z",
     "iopub.status.idle": "2022-09-13T05:02:26.157566Z",
     "shell.execute_reply": "2022-09-13T05:02:26.156252Z",
     "shell.execute_reply.started": "2022-09-13T05:02:26.142318Z"
    },
    "id": "ZfNd61yBeq4p",
    "outputId": "17ba023c-cda1-4771-c45c-5d79cdce988c"
   },
   "outputs": [
    {
     "name": "stdout",
     "output_type": "stream",
     "text": [
      "Accuracy of Naive Bayes on Validation set : 0.7820324005891016\n",
      "\n",
      "Accuracy of Logistic Regression on Validation set : 0.7407952871870398\n",
      "\n",
      "Accuracy of Support Vector on Validation set : 0.7422680412371134\n",
      "\n",
      "Accuracy of Decision Tree on Validation set : 0.7083946980854198\n",
      "\n",
      "Accuracy of Random Forest on Validation set : 0.7216494845360825\n",
      "\n",
      "Accuracy of MLP Classifier on Validation set : 0.7290132547864506\n",
      "\n",
      "Accuracy of Gradient Boosting Classifier on Validation set : 0.7584683357879234\n",
      "\n",
      "Accuracy Light GBM Classifier on Validation set : 0.7687776141384389\n"
     ]
    }
   ],
   "source": [
    "print('Accuracy of Naive Bayes on Validation set :',accuracy_score(y_val, y_pred_val_nb))\n",
    "print('\\nAccuracy of Logistic Regression on Validation set :',accuracy_score(y_val, y_pred_val_lr))\n",
    "print('\\nAccuracy of Support Vector on Validation set :',accuracy_score(y_val, y_pred_val_sgd))\n",
    "print('\\nAccuracy of Decision Tree on Validation set :',accuracy_score(y_val, y_pred_val_dc))\n",
    "print('\\nAccuracy of Random Forest on Validation set :',accuracy_score(y_val, y_pred_val_rf))\n",
    "print('\\nAccuracy of MLP Classifier on Validation set :',accuracy_score(y_val, y_pred_val_mlp))\n",
    "print('\\nAccuracy of Gradient Boosting Classifier on Validation set :',accuracy_score(y_val, y_pred_val_gbc))\n",
    "print('\\nAccuracy Light GBM Classifier on Validation set :',accuracy_score(y_val, y_pred_val_lgbm))"
   ]
  },
  {
   "cell_type": "markdown",
   "metadata": {
    "id": "TwaNx2lYilma"
   },
   "source": [
    "**Now testing all our ML Models on the test data to see their scores**\n",
    "\n",
    "As our best Model is Naive Bayes we choose that for predictions."
   ]
  },
  {
   "cell_type": "markdown",
   "metadata": {
    "id": "__cd-O2GlNOS"
   },
   "source": [
    "**Code to Submit**"
   ]
  },
  {
   "cell_type": "code",
   "execution_count": 130,
   "metadata": {
    "execution": {
     "iopub.execute_input": "2022-09-13T05:02:26.160764Z",
     "iopub.status.busy": "2022-09-13T05:02:26.160118Z",
     "iopub.status.idle": "2022-09-13T05:02:26.213020Z",
     "shell.execute_reply": "2022-09-13T05:02:26.211471Z",
     "shell.execute_reply.started": "2022-09-13T05:02:26.160719Z"
    },
    "id": "VBs6Lto_jId8"
   },
   "outputs": [],
   "source": [
    "y_pred_test_nb = nb.predict(X_test)"
   ]
  },
  {
   "cell_type": "code",
   "execution_count": 131,
   "metadata": {
    "execution": {
     "iopub.execute_input": "2022-09-13T05:02:26.215152Z",
     "iopub.status.busy": "2022-09-13T05:02:26.214714Z",
     "iopub.status.idle": "2022-09-13T05:02:26.229200Z",
     "shell.execute_reply": "2022-09-13T05:02:26.227802Z",
     "shell.execute_reply.started": "2022-09-13T05:02:26.215111Z"
    },
    "id": "dm258OqykzfP"
   },
   "outputs": [],
   "source": [
    "preds = y_pred_test_nb.reshape(len(y_pred_test_nb))\n",
    "for i in range(len(preds)):\n",
    "    if preds[i]>0.9:\n",
    "        preds[i] = 1\n",
    "    else:\n",
    "        preds[i] = 0"
   ]
  },
  {
   "cell_type": "code",
   "execution_count": 132,
   "metadata": {
    "execution": {
     "iopub.execute_input": "2022-09-13T05:02:26.231990Z",
     "iopub.status.busy": "2022-09-13T05:02:26.231202Z",
     "iopub.status.idle": "2022-09-13T05:02:26.255019Z",
     "shell.execute_reply": "2022-09-13T05:02:26.253631Z",
     "shell.execute_reply.started": "2022-09-13T05:02:26.231944Z"
    },
    "id": "a0X87Fo9k8cC",
    "outputId": "6915ca4c-9796-4c0a-f4d7-3fcd5d0cf284"
   },
   "outputs": [
    {
     "data": {
      "text/html": [
       "<div>\n",
       "<style scoped>\n",
       "    .dataframe tbody tr th:only-of-type {\n",
       "        vertical-align: middle;\n",
       "    }\n",
       "\n",
       "    .dataframe tbody tr th {\n",
       "        vertical-align: top;\n",
       "    }\n",
       "\n",
       "    .dataframe thead th {\n",
       "        text-align: right;\n",
       "    }\n",
       "</style>\n",
       "<table border=\"1\" class=\"dataframe\">\n",
       "  <thead>\n",
       "    <tr style=\"text-align: right;\">\n",
       "      <th></th>\n",
       "      <th>target</th>\n",
       "    </tr>\n",
       "    <tr>\n",
       "      <th>id</th>\n",
       "      <th></th>\n",
       "    </tr>\n",
       "  </thead>\n",
       "  <tbody>\n",
       "    <tr>\n",
       "      <th>0</th>\n",
       "      <td>1</td>\n",
       "    </tr>\n",
       "    <tr>\n",
       "      <th>2</th>\n",
       "      <td>0</td>\n",
       "    </tr>\n",
       "    <tr>\n",
       "      <th>3</th>\n",
       "      <td>1</td>\n",
       "    </tr>\n",
       "    <tr>\n",
       "      <th>9</th>\n",
       "      <td>1</td>\n",
       "    </tr>\n",
       "    <tr>\n",
       "      <th>11</th>\n",
       "      <td>1</td>\n",
       "    </tr>\n",
       "    <tr>\n",
       "      <th>...</th>\n",
       "      <td>...</td>\n",
       "    </tr>\n",
       "    <tr>\n",
       "      <th>10861</th>\n",
       "      <td>1</td>\n",
       "    </tr>\n",
       "    <tr>\n",
       "      <th>10865</th>\n",
       "      <td>0</td>\n",
       "    </tr>\n",
       "    <tr>\n",
       "      <th>10868</th>\n",
       "      <td>1</td>\n",
       "    </tr>\n",
       "    <tr>\n",
       "      <th>10874</th>\n",
       "      <td>1</td>\n",
       "    </tr>\n",
       "    <tr>\n",
       "      <th>10875</th>\n",
       "      <td>1</td>\n",
       "    </tr>\n",
       "  </tbody>\n",
       "</table>\n",
       "<p>3263 rows × 1 columns</p>\n",
       "</div>"
      ],
      "text/plain": [
       "       target\n",
       "id           \n",
       "0           1\n",
       "2           0\n",
       "3           1\n",
       "9           1\n",
       "11          1\n",
       "...       ...\n",
       "10861       1\n",
       "10865       0\n",
       "10868       1\n",
       "10874       1\n",
       "10875       1\n",
       "\n",
       "[3263 rows x 1 columns]"
      ]
     },
     "execution_count": 132,
     "metadata": {},
     "output_type": "execute_result"
    }
   ],
   "source": [
    "idCol = test_df['id'].to_numpy()\n",
    "submission = pd.DataFrame({'id': idCol, 'target': preds})\n",
    "submission.target = submission.target.astype(int)\n",
    "submission.set_index('id')"
   ]
  },
  {
   "cell_type": "code",
   "execution_count": 133,
   "metadata": {
    "execution": {
     "iopub.execute_input": "2022-09-13T05:02:26.257109Z",
     "iopub.status.busy": "2022-09-13T05:02:26.256529Z",
     "iopub.status.idle": "2022-09-13T05:02:26.276090Z",
     "shell.execute_reply": "2022-09-13T05:02:26.273867Z",
     "shell.execute_reply.started": "2022-09-13T05:02:26.257073Z"
    },
    "id": "NHxmRRggls2G"
   },
   "outputs": [],
   "source": [
    "submission.to_csv('submission.csv',index=False)"
   ]
  }
 ],
 "metadata": {
  "kernelspec": {
   "display_name": "Python 3 (ipykernel)",
   "language": "python",
   "name": "python3"
  },
  "language_info": {
   "codemirror_mode": {
    "name": "ipython",
    "version": 3
   },
   "file_extension": ".py",
   "mimetype": "text/x-python",
   "name": "python",
   "nbconvert_exporter": "python",
   "pygments_lexer": "ipython3",
   "version": "3.9.12"
  }
 },
 "nbformat": 4,
 "nbformat_minor": 4
}
